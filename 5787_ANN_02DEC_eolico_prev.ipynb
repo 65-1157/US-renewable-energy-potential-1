{
 "cells": [
  {
   "cell_type": "markdown",
   "metadata": {},
   "source": [
    "### Importação_bibliotecas"
   ]
  },
  {
   "cell_type": "code",
   "execution_count": 142,
   "metadata": {},
   "outputs": [],
   "source": [
    "import numpy as np\n",
    "import pandas as pd\n",
    "import csv\n",
    "import matplotlib.pyplot as plt\n",
    "# https://towardsdatascience.com/building-our-first-neural-network-in-keras-bdc8abbc17f5\n",
    "from sklearn.datasets import make_regression\n",
    "from sklearn.preprocessing import StandardScaler\n",
    "from keras.models import Sequential\n",
    "from keras.layers import Dense\n",
    "from keras.optimizers import SGD\n",
    "from matplotlib import pyplot"
   ]
  },
  {
   "cell_type": "markdown",
   "metadata": {},
   "source": [
    "### Arquivo_de_Entrada"
   ]
  },
  {
   "cell_type": "code",
   "execution_count": 143,
   "metadata": {},
   "outputs": [],
   "source": [
    "# Dados dos EUA_sem_normalização\n",
    "ent = pd.read_excel(r'X.xlsx', header=0)"
   ]
  },
  {
   "cell_type": "code",
   "execution_count": 144,
   "metadata": {
    "scrolled": true
   },
   "outputs": [
    {
     "data": {
      "text/html": [
       "<div>\n",
       "<style scoped>\n",
       "    .dataframe tbody tr th:only-of-type {\n",
       "        vertical-align: middle;\n",
       "    }\n",
       "\n",
       "    .dataframe tbody tr th {\n",
       "        vertical-align: top;\n",
       "    }\n",
       "\n",
       "    .dataframe thead th {\n",
       "        text-align: right;\n",
       "    }\n",
       "</style>\n",
       "<table border=\"1\" class=\"dataframe\">\n",
       "  <thead>\n",
       "    <tr style=\"text-align: right;\">\n",
       "      <th></th>\n",
       "      <th>pibe_capita</th>\n",
       "      <th>pibe_areae</th>\n",
       "      <th>pope_areae</th>\n",
       "      <th>pibe_GWe</th>\n",
       "      <th>GWe_pope</th>\n",
       "    </tr>\n",
       "  </thead>\n",
       "  <tbody>\n",
       "    <tr>\n",
       "      <td>0</td>\n",
       "      <td>0.046529</td>\n",
       "      <td>1.739276</td>\n",
       "      <td>37.380099</td>\n",
       "      <td>0.001599</td>\n",
       "      <td>29.099337</td>\n",
       "    </tr>\n",
       "  </tbody>\n",
       "</table>\n",
       "</div>"
      ],
      "text/plain": [
       "   pibe_capita  pibe_areae  pope_areae  pibe_GWe   GWe_pope\n",
       "0     0.046529    1.739276   37.380099  0.001599  29.099337"
      ]
     },
     "execution_count": 144,
     "metadata": {},
     "output_type": "execute_result"
    }
   ],
   "source": [
    "ent.head(1)"
   ]
  },
  {
   "cell_type": "code",
   "execution_count": 145,
   "metadata": {},
   "outputs": [
    {
     "name": "stdout",
     "output_type": "stream",
     "text": [
      "<class 'pandas.core.frame.DataFrame'>\n",
      "RangeIndex: 50 entries, 0 to 49\n",
      "Data columns (total 5 columns):\n",
      "pibe_capita    50 non-null float64\n",
      "pibe_areae     50 non-null float64\n",
      "pope_areae     50 non-null float64\n",
      "pibe_GWe       50 non-null float64\n",
      "GWe_pope       50 non-null float64\n",
      "dtypes: float64(5)\n",
      "memory usage: 2.1 KB\n"
     ]
    }
   ],
   "source": [
    "ent.info()\n",
    "# Distrito de Colúmbia_retirado_outlier"
   ]
  },
  {
   "cell_type": "markdown",
   "metadata": {},
   "source": [
    "### Arquivo_de_saída_EUA"
   ]
  },
  {
   "cell_type": "code",
   "execution_count": 146,
   "metadata": {},
   "outputs": [],
   "source": [
    "output= pd.read_excel(r'yeol.xlsx', header=0)"
   ]
  },
  {
   "cell_type": "code",
   "execution_count": 147,
   "metadata": {},
   "outputs": [
    {
     "name": "stdout",
     "output_type": "stream",
     "text": [
      "<class 'pandas.core.frame.DataFrame'>\n",
      "RangeIndex: 50 entries, 0 to 49\n",
      "Data columns (total 1 columns):\n",
      "eole    50 non-null float64\n",
      "dtypes: float64(1)\n",
      "memory usage: 528.0 bytes\n"
     ]
    }
   ],
   "source": [
    "output.info()"
   ]
  },
  {
   "cell_type": "code",
   "execution_count": 148,
   "metadata": {},
   "outputs": [],
   "source": [
    "ent = ent.to_numpy()\n",
    "# https://stackoverflow.com/questions/13187778/convert-pandas-dataframe-to-numpy-array"
   ]
  },
  {
   "cell_type": "code",
   "execution_count": 149,
   "metadata": {},
   "outputs": [],
   "source": [
    "output = output.to_numpy()"
   ]
  },
  {
   "cell_type": "markdown",
   "metadata": {},
   "source": [
    "### Normalização dos dados - min & max"
   ]
  },
  {
   "cell_type": "code",
   "execution_count": 150,
   "metadata": {},
   "outputs": [],
   "source": [
    "#Normalização dos dados de entrada -- variável explicativa\n",
    "from sklearn.preprocessing import MinMaxScaler\n",
    "scaler = MinMaxScaler()\n",
    "ent = scaler.fit_transform(ent) -- # dados X: normalizados\n",
    "# output = scaler.fit_transform(output) -- dados y: não normalizados"
   ]
  },
  {
   "cell_type": "markdown",
   "metadata": {},
   "source": [
    "### Arquitetura de rede neural ANN"
   ]
  },
  {
   "cell_type": "code",
   "execution_count": 246,
   "metadata": {},
   "outputs": [],
   "source": [
    "#Definição da ANN e suas camadas\n",
    "import keras\n",
    "from keras.models import Sequential\n",
    "from keras.layers import Dense\n",
    "# Rede Neural -- 5 entradas e 01 saída, camadas intermediárias (hidden)\n",
    "model = Sequential()\n",
    "model.add(Dense(10, input_dim=5, activation='relu',kernel_initializer='he_uniform'))\n",
    "model.add(Dense(9, activation='relu'))\n",
    "model.add(Dense(8, activation='relu'))\n",
    "model.add(Dense(7, activation='relu'))\n",
    "model.add(Dense(6, activation='relu'))\n",
    "model.add(Dense(5, activation='relu'))\n",
    "model.add(Dense(4, activation='relu'))\n",
    "model.add(Dense(3, activation='relu'))\n",
    "model.add(Dense(2, activation='relu'))\n",
    "model.add(Dense(1, activation = 'linear'))\n",
    "opt = SGD(lr=0.009, momentum=0.9)"
   ]
  },
  {
   "cell_type": "code",
   "execution_count": 247,
   "metadata": {},
   "outputs": [],
   "source": [
    "model.compile(loss='mean_squared_error', optimizer= opt)"
   ]
  },
  {
   "cell_type": "markdown",
   "metadata": {},
   "source": [
    "### Definição operacional número de épocas"
   ]
  },
  {
   "cell_type": "code",
   "execution_count": 248,
   "metadata": {},
   "outputs": [],
   "source": [
    "from sklearn.model_selection import train_test_split\n",
    "X_train, X_test, y_train, y_test = train_test_split(ent,output,test_size =0.25, random_state=1234)\n",
    "hist = model.fit(X_train, y_train, validation_data =(ent,output), epochs=100, verbose = 0)"
   ]
  },
  {
   "cell_type": "markdown",
   "metadata": {},
   "source": [
    "### Métricas"
   ]
  },
  {
   "cell_type": "code",
   "execution_count": 249,
   "metadata": {},
   "outputs": [],
   "source": [
    "train_mse = model.evaluate(X_train, y_train, verbose=0)\n",
    "test_mse = model.evaluate(X_test, y_test , verbose=0)"
   ]
  },
  {
   "cell_type": "code",
   "execution_count": 250,
   "metadata": {},
   "outputs": [
    {
     "name": "stdout",
     "output_type": "stream",
     "text": [
      "Train: 1630190899532.108, Test: 594694176768.000\n"
     ]
    },
    {
     "data": {
      "image/png": "[encoded data removed]",
      "text/plain": [
       "<Figure size 432x288 with 1 Axes>"
      ]
     },
     "metadata": {
      "needs_background": "light"
     },
     "output_type": "display_data"
    }
   ],
   "source": [
    "print('Train: %.3f, Test: %.3f' % (train_mse, test_mse))\n",
    "pyplot.title('Resultado com MSE_Eólica')\n",
    "pyplot.plot(hist.history['loss'], label='treino')\n",
    "pyplot.plot(hist.history['val_loss'], label='teste')\n",
    "pyplot.legend()\n",
    "pyplot.show()"
   ]
  },
  {
   "cell_type": "markdown",
   "metadata": {},
   "source": [
    "### Previsão_input_dados_Brasil"
   ]
  },
  {
   "cell_type": "code",
   "execution_count": 156,
   "metadata": {},
   "outputs": [],
   "source": [
    "entb= pd.read_excel(r'Xb.xlsx', header=0)\n",
    "# arquivo de entrada do Brasil_sem_DF_outlier"
   ]
  },
  {
   "cell_type": "code",
   "execution_count": 157,
   "metadata": {},
   "outputs": [
    {
     "name": "stdout",
     "output_type": "stream",
     "text": [
      "<class 'pandas.core.frame.DataFrame'>\n",
      "RangeIndex: 26 entries, 0 to 25\n",
      "Data columns (total 5 columns):\n",
      "pibe_capita    26 non-null float64\n",
      "pibe_area      26 non-null float64\n",
      "pibe_GWe       26 non-null float64\n",
      "pope_areae     26 non-null float64\n",
      "GWe_pope       26 non-null float64\n",
      "dtypes: float64(5)\n",
      "memory usage: 1.1 KB\n"
     ]
    }
   ],
   "source": [
    "entb.info()"
   ]
  },
  {
   "cell_type": "code",
   "execution_count": 158,
   "metadata": {},
   "outputs": [],
   "source": [
    "entb = entb.to_numpy()"
   ]
  },
  {
   "cell_type": "code",
   "execution_count": 159,
   "metadata": {},
   "outputs": [],
   "source": [
    "outputb = model.predict(entb)"
   ]
  },
  {
   "cell_type": "code",
   "execution_count": 160,
   "metadata": {},
   "outputs": [
    {
     "data": {
      "text/plain": [
       "array([[799466.1],\n",
       "       [799466.1],\n",
       "       [799466.1],\n",
       "       [799466.1],\n",
       "       [799466.1],\n",
       "       [799466.1],\n",
       "       [799466.1],\n",
       "       [799466.1],\n",
       "       [799466.1],\n",
       "       [799466.1],\n",
       "       [799466.1],\n",
       "       [799466.1],\n",
       "       [799466.1],\n",
       "       [799466.1],\n",
       "       [799466.1],\n",
       "       [799466.1],\n",
       "       [799466.1],\n",
       "       [799466.1],\n",
       "       [799466.1],\n",
       "       [799466.1],\n",
       "       [799466.1],\n",
       "       [799466.1],\n",
       "       [799466.1],\n",
       "       [799466.1],\n",
       "       [799466.1],\n",
       "       [799466.1]], dtype=float32)"
      ]
     },
     "execution_count": 160,
     "metadata": {},
     "output_type": "execute_result"
    }
   ],
   "source": [
    "outputb"
   ]
  },
  {
   "cell_type": "markdown",
   "metadata": {},
   "source": [
    "### Composição do arquivo de saída"
   ]
  },
  {
   "cell_type": "code",
   "execution_count": 161,
   "metadata": {},
   "outputs": [
    {
     "name": "stdout",
     "output_type": "stream",
     "text": [
      "<class 'pandas.core.frame.DataFrame'>\n",
      "RangeIndex: 26 entries, 0 to 25\n",
      "Data columns (total 1 columns):\n",
      "Prev    26 non-null float32\n",
      "dtypes: float32(1)\n",
      "memory usage: 232.0 bytes\n"
     ]
    }
   ],
   "source": [
    "outb=pd.DataFrame(data=outputb, columns=['Prev'])\n",
    "outb.info()"
   ]
  },
  {
   "cell_type": "code",
   "execution_count": 162,
   "metadata": {},
   "outputs": [],
   "source": [
    "br= pd.read_excel(r'br_estado.xlsx', header=0)"
   ]
  },
  {
   "cell_type": "code",
   "execution_count": 163,
   "metadata": {},
   "outputs": [
    {
     "data": {
      "text/html": [
       "<div>\n",
       "<style scoped>\n",
       "    .dataframe tbody tr th:only-of-type {\n",
       "        vertical-align: middle;\n",
       "    }\n",
       "\n",
       "    .dataframe tbody tr th {\n",
       "        vertical-align: top;\n",
       "    }\n",
       "\n",
       "    .dataframe thead th {\n",
       "        text-align: right;\n",
       "    }\n",
       "</style>\n",
       "<table border=\"1\" class=\"dataframe\">\n",
       "  <thead>\n",
       "    <tr style=\"text-align: right;\">\n",
       "      <th></th>\n",
       "      <th>Unidades da Federação</th>\n",
       "    </tr>\n",
       "  </thead>\n",
       "  <tbody>\n",
       "    <tr>\n",
       "      <td>0</td>\n",
       "      <td>Acre</td>\n",
       "    </tr>\n",
       "  </tbody>\n",
       "</table>\n",
       "</div>"
      ],
      "text/plain": [
       "  Unidades da Federação\n",
       "0                  Acre"
      ]
     },
     "execution_count": 163,
     "metadata": {},
     "output_type": "execute_result"
    }
   ],
   "source": [
    "br=br.drop(columns=['PIB em 2017 (1.000.000 R$)','Área (km2)','Geração de energia GW.h','População'])\n",
    "br.head(1)"
   ]
  },
  {
   "cell_type": "code",
   "execution_count": 164,
   "metadata": {},
   "outputs": [],
   "source": [
    "br = br.rename({'Unidades da Federação': 'Estado'}, axis = 1)"
   ]
  },
  {
   "cell_type": "code",
   "execution_count": 165,
   "metadata": {},
   "outputs": [],
   "source": [
    "br = pd.DataFrame(data=br)"
   ]
  },
  {
   "cell_type": "code",
   "execution_count": 166,
   "metadata": {},
   "outputs": [
    {
     "name": "stdout",
     "output_type": "stream",
     "text": [
      "<class 'pandas.core.frame.DataFrame'>\n",
      "RangeIndex: 26 entries, 0 to 25\n",
      "Data columns (total 1 columns):\n",
      "Estado    26 non-null object\n",
      "dtypes: object(1)\n",
      "memory usage: 336.0+ bytes\n"
     ]
    }
   ],
   "source": [
    "br.info()"
   ]
  },
  {
   "cell_type": "code",
   "execution_count": 167,
   "metadata": {},
   "outputs": [
    {
     "name": "stdout",
     "output_type": "stream",
     "text": [
      "<class 'pandas.core.frame.DataFrame'>\n",
      "RangeIndex: 26 entries, 0 to 25\n",
      "Data columns (total 1 columns):\n",
      "Previsão    26 non-null float32\n",
      "dtypes: float32(1)\n",
      "memory usage: 232.0 bytes\n"
     ]
    }
   ],
   "source": [
    "br1 = pd.DataFrame(data=outputb, columns=[\"Previsão\"])\n",
    "br1.info()"
   ]
  },
  {
   "cell_type": "code",
   "execution_count": 168,
   "metadata": {},
   "outputs": [],
   "source": [
    "prv = pd.concat([br, br1], axis=1, sort=False)"
   ]
  },
  {
   "cell_type": "code",
   "execution_count": 169,
   "metadata": {},
   "outputs": [
    {
     "data": {
      "text/html": [
       "<div>\n",
       "<style scoped>\n",
       "    .dataframe tbody tr th:only-of-type {\n",
       "        vertical-align: middle;\n",
       "    }\n",
       "\n",
       "    .dataframe tbody tr th {\n",
       "        vertical-align: top;\n",
       "    }\n",
       "\n",
       "    .dataframe thead th {\n",
       "        text-align: right;\n",
       "    }\n",
       "</style>\n",
       "<table border=\"1\" class=\"dataframe\">\n",
       "  <thead>\n",
       "    <tr style=\"text-align: right;\">\n",
       "      <th></th>\n",
       "      <th>Estado</th>\n",
       "      <th>Previsão</th>\n",
       "    </tr>\n",
       "  </thead>\n",
       "  <tbody>\n",
       "    <tr>\n",
       "      <td>0</td>\n",
       "      <td>Acre</td>\n",
       "      <td>799466.125</td>\n",
       "    </tr>\n",
       "    <tr>\n",
       "      <td>1</td>\n",
       "      <td>Alagoas</td>\n",
       "      <td>799466.125</td>\n",
       "    </tr>\n",
       "    <tr>\n",
       "      <td>2</td>\n",
       "      <td>Amapá</td>\n",
       "      <td>799466.125</td>\n",
       "    </tr>\n",
       "    <tr>\n",
       "      <td>3</td>\n",
       "      <td>Amazonas</td>\n",
       "      <td>799466.125</td>\n",
       "    </tr>\n",
       "    <tr>\n",
       "      <td>4</td>\n",
       "      <td>Bahia</td>\n",
       "      <td>799466.125</td>\n",
       "    </tr>\n",
       "    <tr>\n",
       "      <td>5</td>\n",
       "      <td>Ceará</td>\n",
       "      <td>799466.125</td>\n",
       "    </tr>\n",
       "    <tr>\n",
       "      <td>6</td>\n",
       "      <td>Espírito Santo</td>\n",
       "      <td>799466.125</td>\n",
       "    </tr>\n",
       "    <tr>\n",
       "      <td>7</td>\n",
       "      <td>Goiás</td>\n",
       "      <td>799466.125</td>\n",
       "    </tr>\n",
       "    <tr>\n",
       "      <td>8</td>\n",
       "      <td>Maranhão</td>\n",
       "      <td>799466.125</td>\n",
       "    </tr>\n",
       "    <tr>\n",
       "      <td>9</td>\n",
       "      <td>Mato Grosso</td>\n",
       "      <td>799466.125</td>\n",
       "    </tr>\n",
       "    <tr>\n",
       "      <td>10</td>\n",
       "      <td>Mato Grosso do Sul</td>\n",
       "      <td>799466.125</td>\n",
       "    </tr>\n",
       "    <tr>\n",
       "      <td>11</td>\n",
       "      <td>Minas Gerais</td>\n",
       "      <td>799466.125</td>\n",
       "    </tr>\n",
       "    <tr>\n",
       "      <td>12</td>\n",
       "      <td>Paraná</td>\n",
       "      <td>799466.125</td>\n",
       "    </tr>\n",
       "    <tr>\n",
       "      <td>13</td>\n",
       "      <td>Paraíba</td>\n",
       "      <td>799466.125</td>\n",
       "    </tr>\n",
       "    <tr>\n",
       "      <td>14</td>\n",
       "      <td>Pará</td>\n",
       "      <td>799466.125</td>\n",
       "    </tr>\n",
       "    <tr>\n",
       "      <td>15</td>\n",
       "      <td>Pernambuco</td>\n",
       "      <td>799466.125</td>\n",
       "    </tr>\n",
       "    <tr>\n",
       "      <td>16</td>\n",
       "      <td>Piauí</td>\n",
       "      <td>799466.125</td>\n",
       "    </tr>\n",
       "    <tr>\n",
       "      <td>17</td>\n",
       "      <td>Rio de Janeiro</td>\n",
       "      <td>799466.125</td>\n",
       "    </tr>\n",
       "    <tr>\n",
       "      <td>18</td>\n",
       "      <td>Rio Grande do Norte</td>\n",
       "      <td>799466.125</td>\n",
       "    </tr>\n",
       "    <tr>\n",
       "      <td>19</td>\n",
       "      <td>Rio Grande do Sul</td>\n",
       "      <td>799466.125</td>\n",
       "    </tr>\n",
       "    <tr>\n",
       "      <td>20</td>\n",
       "      <td>Rondônia</td>\n",
       "      <td>799466.125</td>\n",
       "    </tr>\n",
       "    <tr>\n",
       "      <td>21</td>\n",
       "      <td>Roraima</td>\n",
       "      <td>799466.125</td>\n",
       "    </tr>\n",
       "    <tr>\n",
       "      <td>22</td>\n",
       "      <td>Santa Catarina</td>\n",
       "      <td>799466.125</td>\n",
       "    </tr>\n",
       "    <tr>\n",
       "      <td>23</td>\n",
       "      <td>Sergipe</td>\n",
       "      <td>799466.125</td>\n",
       "    </tr>\n",
       "    <tr>\n",
       "      <td>24</td>\n",
       "      <td>São Paulo</td>\n",
       "      <td>799466.125</td>\n",
       "    </tr>\n",
       "    <tr>\n",
       "      <td>25</td>\n",
       "      <td>Tocantins</td>\n",
       "      <td>799466.125</td>\n",
       "    </tr>\n",
       "  </tbody>\n",
       "</table>\n",
       "</div>"
      ],
      "text/plain": [
       "                 Estado    Previsão\n",
       "0                  Acre  799466.125\n",
       "1               Alagoas  799466.125\n",
       "2                 Amapá  799466.125\n",
       "3              Amazonas  799466.125\n",
       "4                 Bahia  799466.125\n",
       "5                 Ceará  799466.125\n",
       "6        Espírito Santo  799466.125\n",
       "7                 Goiás  799466.125\n",
       "8              Maranhão  799466.125\n",
       "9           Mato Grosso  799466.125\n",
       "10   Mato Grosso do Sul  799466.125\n",
       "11         Minas Gerais  799466.125\n",
       "12               Paraná  799466.125\n",
       "13              Paraíba  799466.125\n",
       "14                 Pará  799466.125\n",
       "15           Pernambuco  799466.125\n",
       "16                Piauí  799466.125\n",
       "17       Rio de Janeiro  799466.125\n",
       "18  Rio Grande do Norte  799466.125\n",
       "19    Rio Grande do Sul  799466.125\n",
       "20             Rondônia  799466.125\n",
       "21              Roraima  799466.125\n",
       "22       Santa Catarina  799466.125\n",
       "23              Sergipe  799466.125\n",
       "24            São Paulo  799466.125\n",
       "25            Tocantins  799466.125"
      ]
     },
     "execution_count": 169,
     "metadata": {},
     "output_type": "execute_result"
    }
   ],
   "source": [
    "prv.head(30)"
   ]
  },
  {
   "cell_type": "code",
   "execution_count": null,
   "metadata": {},
   "outputs": [],
   "source": []
  }
 ],
 "metadata": {
  "kernelspec": {
   "display_name": "Python 3",
   "language": "python",
   "name": "python3"
  },
  "language_info": {
   "codemirror_mode": {
    "name": "ipython",
    "version": 3
   },
   "file_extension": ".py",
   "mimetype": "text/x-python",
   "name": "python",
   "nbconvert_exporter": "python",
   "pygments_lexer": "ipython3",
   "version": "3.7.4"
  }
 },
 "nbformat": 4,
 "nbformat_minor": 2
}
