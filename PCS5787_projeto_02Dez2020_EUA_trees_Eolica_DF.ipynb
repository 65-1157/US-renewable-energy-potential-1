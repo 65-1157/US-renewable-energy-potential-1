{
 "cells": [
  {
   "cell_type": "markdown",
   "metadata": {},
   "source": [
    "### Carregando as Bibliotecas"
   ]
  },
  {
   "cell_type": "code",
   "execution_count": 1,
   "metadata": {},
   "outputs": [
    {
     "name": "stdout",
     "output_type": "stream",
     "text": [
      "Requirement already satisfied: lightgbm in c:\\users\\acer\\anaconda3\\lib\\site-packages (3.0.0)\n",
      "Requirement already satisfied: numpy in c:\\users\\acer\\anaconda3\\lib\\site-packages (from lightgbm) (1.18.1)\n",
      "Requirement already satisfied: scikit-learn!=0.22.0 in c:\\users\\acer\\anaconda3\\lib\\site-packages (from lightgbm) (0.23.2)\n",
      "Requirement already satisfied: scipy in c:\\users\\acer\\anaconda3\\lib\\site-packages (from lightgbm) (1.4.1)\n",
      "Requirement already satisfied: threadpoolctl>=2.0.0 in c:\\users\\acer\\anaconda3\\lib\\site-packages (from scikit-learn!=0.22.0->lightgbm) (2.1.0)\n",
      "Requirement already satisfied: joblib>=0.11 in c:\\users\\acer\\anaconda3\\lib\\site-packages (from scikit-learn!=0.22.0->lightgbm) (0.14.1)\n",
      "Requirement already satisfied: xgboost in c:\\users\\acer\\anaconda3\\lib\\site-packages (1.2.0)\n",
      "Requirement already satisfied: numpy in c:\\users\\acer\\anaconda3\\lib\\site-packages (from xgboost) (1.18.1)\n",
      "Requirement already satisfied: scipy in c:\\users\\acer\\anaconda3\\lib\\site-packages (from xgboost) (1.4.1)\n"
     ]
    }
   ],
   "source": [
    "! pip install lightgbm\n",
    "! pip install xgboost"
   ]
  },
  {
   "cell_type": "code",
   "execution_count": 2,
   "metadata": {},
   "outputs": [],
   "source": [
    "import plotly_express as px\n",
    "import pandas as pd\n",
    "import matplotlib.pyplot as plt\n",
    "import numpy as np\n",
    "import statsmodels.api as sm\n",
    "import statsmodels.formula.api as smf\n",
    "import seaborn as sns\n",
    "from scipy import stats\n",
    "import scipy\n",
    "import seaborn as sns\n",
    "import statsmodels\n",
    "import statsmodels.stats.api as sms"
   ]
  },
  {
   "cell_type": "code",
   "execution_count": 3,
   "metadata": {},
   "outputs": [],
   "source": [
    "import xgboost as xgb\n",
    "from xgboost import XGBRegressor\n",
    "from sklearn.model_selection import train_test_split\n",
    "from sklearn.metrics import mean_squared_error\n",
    "from sklearn.preprocessing import RobustScaler\n",
    "from sklearn.model_selection import RandomizedSearchCV, GridSearchCV"
   ]
  },
  {
   "cell_type": "code",
   "execution_count": 4,
   "metadata": {},
   "outputs": [],
   "source": [
    "# parâmetros dos gráficos para o arquivo\n",
    "params = {'legend.fontsize': 'x-large',\n",
    "          'figure.figsize': (16, 8),\n",
    "          'axes.labelsize': 'x-large',\n",
    "          'axes.titlesize':'x-large',\n",
    "          'xtick.labelsize':'x-large',\n",
    "          'ytick.labelsize':'x-large'}\n",
    "%matplotlib inline\n",
    "plt.rcParams.update(params)"
   ]
  },
  {
   "cell_type": "markdown",
   "metadata": {},
   "source": [
    "### Arquivo_EUA"
   ]
  },
  {
   "cell_type": "code",
   "execution_count": 5,
   "metadata": {},
   "outputs": [],
   "source": [
    "df= pd.read_excel(r'dataset_mestre_EUA.xlsx')"
   ]
  },
  {
   "cell_type": "code",
   "execution_count": 6,
   "metadata": {},
   "outputs": [],
   "source": [
    "df=df.fillna(0.001)"
   ]
  },
  {
   "cell_type": "code",
   "execution_count": 7,
   "metadata": {},
   "outputs": [
    {
     "data": {
      "text/html": [
       "<div>\n",
       "<style scoped>\n",
       "    .dataframe tbody tr th:only-of-type {\n",
       "        vertical-align: middle;\n",
       "    }\n",
       "\n",
       "    .dataframe tbody tr th {\n",
       "        vertical-align: top;\n",
       "    }\n",
       "\n",
       "    .dataframe thead th {\n",
       "        text-align: right;\n",
       "    }\n",
       "</style>\n",
       "<table border=\"1\" class=\"dataframe\">\n",
       "  <thead>\n",
       "    <tr style=\"text-align: right;\">\n",
       "      <th></th>\n",
       "      <th>State</th>\n",
       "      <th>Urban Utility-scale PV (GWh)</th>\n",
       "      <th>Urban Utility-scale PV (GW)</th>\n",
       "      <th>Urban Utility-scale PV (km2)</th>\n",
       "      <th>Rural Utility-scale PV (GWh)</th>\n",
       "      <th>Rural Utility-scale PV (GW)</th>\n",
       "      <th>Rural Utility-scale PV (km2)</th>\n",
       "      <th>Rooftop PV (GWh)</th>\n",
       "      <th>Rooftop PV (GW)</th>\n",
       "      <th>CSP (GWh)</th>\n",
       "      <th>...</th>\n",
       "      <th>Geothermal Hydrothermal (GW)</th>\n",
       "      <th>EGS Geothermal (GWh)</th>\n",
       "      <th>EGS Geothermal (GW)</th>\n",
       "      <th>Hydropower (GWh)</th>\n",
       "      <th>Hydropower (GW)</th>\n",
       "      <th>Hydropower (Count of Sites)</th>\n",
       "      <th>População_Estado_EUA</th>\n",
       "      <th>PIB_Estado_EUA (US$ Bi)</th>\n",
       "      <th>Area_Estado_EUA(territ_seco_km2)</th>\n",
       "      <th>Total_Eletricidade_EUA (MW.h)</th>\n",
       "    </tr>\n",
       "  </thead>\n",
       "  <tbody>\n",
       "    <tr>\n",
       "      <th>0</th>\n",
       "      <td>Alabama</td>\n",
       "      <td>35850.628506</td>\n",
       "      <td>20.453177</td>\n",
       "      <td>426.10785</td>\n",
       "      <td>3.706839e+06</td>\n",
       "      <td>2114.792060</td>\n",
       "      <td>44058.167912</td>\n",
       "      <td>15475.968616</td>\n",
       "      <td>12.516076</td>\n",
       "      <td>0.0</td>\n",
       "      <td>...</td>\n",
       "      <td>0.00000</td>\n",
       "      <td>535489.50344</td>\n",
       "      <td>67.921043</td>\n",
       "      <td>4102.565755</td>\n",
       "      <td>0.936659</td>\n",
       "      <td>2435</td>\n",
       "      <td>4903185.0</td>\n",
       "      <td>228142.6</td>\n",
       "      <td>131171.0</td>\n",
       "      <td>142679433.0</td>\n",
       "    </tr>\n",
       "    <tr>\n",
       "      <th>1</th>\n",
       "      <td>Alaska</td>\n",
       "      <td>166.000000</td>\n",
       "      <td>0.112000</td>\n",
       "      <td>2.34880</td>\n",
       "      <td>8.282976e+06</td>\n",
       "      <td>9005.192669</td>\n",
       "      <td>187608.180600</td>\n",
       "      <td>0.001000</td>\n",
       "      <td>1.291509</td>\n",
       "      <td>0.0</td>\n",
       "      <td>...</td>\n",
       "      <td>1.95814</td>\n",
       "      <td>0.00100</td>\n",
       "      <td>0.001000</td>\n",
       "      <td>23675.571931</td>\n",
       "      <td>5.405382</td>\n",
       "      <td>3053</td>\n",
       "      <td>731545.0</td>\n",
       "      <td>54385.0</td>\n",
       "      <td>477953.0</td>\n",
       "      <td>6070843.0</td>\n",
       "    </tr>\n",
       "  </tbody>\n",
       "</table>\n",
       "<p>2 rows × 35 columns</p>\n",
       "</div>"
      ],
      "text/plain": [
       "     State  Urban Utility-scale PV (GWh)  Urban Utility-scale PV (GW)  \\\n",
       "0  Alabama                  35850.628506                    20.453177   \n",
       "1   Alaska                    166.000000                     0.112000   \n",
       "\n",
       "   Urban Utility-scale PV (km2)  Rural Utility-scale PV (GWh)  \\\n",
       "0                     426.10785                  3.706839e+06   \n",
       "1                       2.34880                  8.282976e+06   \n",
       "\n",
       "   Rural Utility-scale PV (GW)  Rural Utility-scale PV (km2)  \\\n",
       "0                  2114.792060                  44058.167912   \n",
       "1                  9005.192669                 187608.180600   \n",
       "\n",
       "   Rooftop PV (GWh)  Rooftop PV (GW)  CSP (GWh)  ...  \\\n",
       "0      15475.968616        12.516076        0.0  ...   \n",
       "1          0.001000         1.291509        0.0  ...   \n",
       "\n",
       "   Geothermal Hydrothermal (GW)  EGS Geothermal (GWh)  EGS Geothermal (GW)  \\\n",
       "0                       0.00000          535489.50344            67.921043   \n",
       "1                       1.95814               0.00100             0.001000   \n",
       "\n",
       "   Hydropower (GWh)  Hydropower (GW)  Hydropower (Count of Sites)  \\\n",
       "0       4102.565755         0.936659                         2435   \n",
       "1      23675.571931         5.405382                         3053   \n",
       "\n",
       "   População_Estado_EUA  PIB_Estado_EUA (US$ Bi)  \\\n",
       "0             4903185.0                 228142.6   \n",
       "1              731545.0                  54385.0   \n",
       "\n",
       "   Area_Estado_EUA(territ_seco_km2)  Total_Eletricidade_EUA (MW.h)  \n",
       "0                          131171.0                    142679433.0  \n",
       "1                          477953.0                      6070843.0  \n",
       "\n",
       "[2 rows x 35 columns]"
      ]
     },
     "execution_count": 7,
     "metadata": {},
     "output_type": "execute_result"
    }
   ],
   "source": [
    "df.head(2)"
   ]
  },
  {
   "cell_type": "code",
   "execution_count": 8,
   "metadata": {},
   "outputs": [
    {
     "data": {
      "text/html": [
       "<div>\n",
       "<style scoped>\n",
       "    .dataframe tbody tr th:only-of-type {\n",
       "        vertical-align: middle;\n",
       "    }\n",
       "\n",
       "    .dataframe tbody tr th {\n",
       "        vertical-align: top;\n",
       "    }\n",
       "\n",
       "    .dataframe thead th {\n",
       "        text-align: right;\n",
       "    }\n",
       "</style>\n",
       "<table border=\"1\" class=\"dataframe\">\n",
       "  <thead>\n",
       "    <tr style=\"text-align: right;\">\n",
       "      <th></th>\n",
       "      <th>State</th>\n",
       "      <th>Urban Utility-scale PV (GWh)</th>\n",
       "      <th>Urban Utility-scale PV (GW)</th>\n",
       "      <th>Urban Utility-scale PV (km2)</th>\n",
       "      <th>Rural Utility-scale PV (GWh)</th>\n",
       "      <th>Rural Utility-scale PV (GW)</th>\n",
       "      <th>Rural Utility-scale PV (km2)</th>\n",
       "      <th>Rooftop PV (GWh)</th>\n",
       "      <th>Rooftop PV (GW)</th>\n",
       "      <th>CSP (GWh)</th>\n",
       "      <th>...</th>\n",
       "      <th>Geothermal Hydrothermal (GW)</th>\n",
       "      <th>EGS Geothermal (GWh)</th>\n",
       "      <th>EGS Geothermal (GW)</th>\n",
       "      <th>Hydropower (GWh)</th>\n",
       "      <th>Hydropower (GW)</th>\n",
       "      <th>Hydropower (Count of Sites)</th>\n",
       "      <th>População_Estado_EUA</th>\n",
       "      <th>PIB_Estado_EUA (US$ Bi)</th>\n",
       "      <th>Area_Estado_EUA(territ_seco_km2)</th>\n",
       "      <th>Total_Eletricidade_EUA (MW.h)</th>\n",
       "    </tr>\n",
       "  </thead>\n",
       "  <tbody>\n",
       "    <tr>\n",
       "      <th>0</th>\n",
       "      <td>Alabama</td>\n",
       "      <td>35850.628506</td>\n",
       "      <td>20.453177</td>\n",
       "      <td>426.107850</td>\n",
       "      <td>3.706839e+06</td>\n",
       "      <td>2114.792060</td>\n",
       "      <td>44058.167912</td>\n",
       "      <td>15475.968616</td>\n",
       "      <td>12.516076</td>\n",
       "      <td>0.000000e+00</td>\n",
       "      <td>...</td>\n",
       "      <td>0.00000</td>\n",
       "      <td>5.354895e+05</td>\n",
       "      <td>67.921043</td>\n",
       "      <td>4102.565755</td>\n",
       "      <td>0.936659</td>\n",
       "      <td>2435</td>\n",
       "      <td>4903185.0</td>\n",
       "      <td>228142.6</td>\n",
       "      <td>131171.0</td>\n",
       "      <td>142679433.0</td>\n",
       "    </tr>\n",
       "    <tr>\n",
       "      <th>1</th>\n",
       "      <td>Alaska</td>\n",
       "      <td>166.000000</td>\n",
       "      <td>0.112000</td>\n",
       "      <td>2.348800</td>\n",
       "      <td>8.282976e+06</td>\n",
       "      <td>9005.192669</td>\n",
       "      <td>187608.180600</td>\n",
       "      <td>0.001000</td>\n",
       "      <td>1.291509</td>\n",
       "      <td>0.000000e+00</td>\n",
       "      <td>...</td>\n",
       "      <td>1.95814</td>\n",
       "      <td>1.000000e-03</td>\n",
       "      <td>0.001000</td>\n",
       "      <td>23675.571931</td>\n",
       "      <td>5.405382</td>\n",
       "      <td>3053</td>\n",
       "      <td>731545.0</td>\n",
       "      <td>54385.0</td>\n",
       "      <td>477953.0</td>\n",
       "      <td>6070843.0</td>\n",
       "    </tr>\n",
       "    <tr>\n",
       "      <th>2</th>\n",
       "      <td>Arizona</td>\n",
       "      <td>121305.877473</td>\n",
       "      <td>52.611054</td>\n",
       "      <td>1096.063625</td>\n",
       "      <td>1.186769e+07</td>\n",
       "      <td>5147.086733</td>\n",
       "      <td>107230.973604</td>\n",
       "      <td>22736.083217</td>\n",
       "      <td>14.879973</td>\n",
       "      <td>1.254433e+07</td>\n",
       "      <td>...</td>\n",
       "      <td>1.05640</td>\n",
       "      <td>1.239148e+06</td>\n",
       "      <td>157.172465</td>\n",
       "      <td>1303.222021</td>\n",
       "      <td>0.297539</td>\n",
       "      <td>1958</td>\n",
       "      <td>7278717.0</td>\n",
       "      <td>370119.0</td>\n",
       "      <td>294207.0</td>\n",
       "      <td>113551987.0</td>\n",
       "    </tr>\n",
       "    <tr>\n",
       "      <th>3</th>\n",
       "      <td>Arkansas</td>\n",
       "      <td>28960.881336</td>\n",
       "      <td>15.957316</td>\n",
       "      <td>332.444079</td>\n",
       "      <td>4.986389e+06</td>\n",
       "      <td>2747.477737</td>\n",
       "      <td>57239.119528</td>\n",
       "      <td>8484.950618</td>\n",
       "      <td>6.773149</td>\n",
       "      <td>0.000000e+00</td>\n",
       "      <td>...</td>\n",
       "      <td>0.00000</td>\n",
       "      <td>6.286217e+05</td>\n",
       "      <td>79.733850</td>\n",
       "      <td>6093.400569</td>\n",
       "      <td>1.391187</td>\n",
       "      <td>3268</td>\n",
       "      <td>3017825.0</td>\n",
       "      <td>130954.0</td>\n",
       "      <td>134771.0</td>\n",
       "      <td>64442898.0</td>\n",
       "    </tr>\n",
       "    <tr>\n",
       "      <th>4</th>\n",
       "      <td>California</td>\n",
       "      <td>246008.107935</td>\n",
       "      <td>111.403807</td>\n",
       "      <td>2320.912651</td>\n",
       "      <td>8.855917e+06</td>\n",
       "      <td>4010.367374</td>\n",
       "      <td>83549.320302</td>\n",
       "      <td>106411.151201</td>\n",
       "      <td>75.908383</td>\n",
       "      <td>8.490916e+06</td>\n",
       "      <td>...</td>\n",
       "      <td>16.60550</td>\n",
       "      <td>1.344179e+06</td>\n",
       "      <td>170.494600</td>\n",
       "      <td>30023.578287</td>\n",
       "      <td>6.854698</td>\n",
       "      <td>9692</td>\n",
       "      <td>39512223.0</td>\n",
       "      <td>3132800.0</td>\n",
       "      <td>403466.0</td>\n",
       "      <td>201784204.0</td>\n",
       "    </tr>\n",
       "    <tr>\n",
       "      <th>5</th>\n",
       "      <td>Colorado</td>\n",
       "      <td>43470.501437</td>\n",
       "      <td>19.167192</td>\n",
       "      <td>399.316500</td>\n",
       "      <td>1.023808e+07</td>\n",
       "      <td>4514.218007</td>\n",
       "      <td>94046.208484</td>\n",
       "      <td>16162.171470</td>\n",
       "      <td>11.796668</td>\n",
       "      <td>9.154524e+06</td>\n",
       "      <td>...</td>\n",
       "      <td>1.13540</td>\n",
       "      <td>1.251658e+06</td>\n",
       "      <td>158.759254</td>\n",
       "      <td>7789.128915</td>\n",
       "      <td>1.778340</td>\n",
       "      <td>5060</td>\n",
       "      <td>5758736.0</td>\n",
       "      <td>392986.0</td>\n",
       "      <td>268431.0</td>\n",
       "      <td>56337734.0</td>\n",
       "    </tr>\n",
       "    <tr>\n",
       "      <th>6</th>\n",
       "      <td>Connecticut</td>\n",
       "      <td>7716.647187</td>\n",
       "      <td>4.833023</td>\n",
       "      <td>100.687982</td>\n",
       "      <td>1.962775e+04</td>\n",
       "      <td>12.293079</td>\n",
       "      <td>256.105804</td>\n",
       "      <td>6616.198688</td>\n",
       "      <td>5.903443</td>\n",
       "      <td>0.000000e+00</td>\n",
       "      <td>...</td>\n",
       "      <td>0.00000</td>\n",
       "      <td>5.607844e+04</td>\n",
       "      <td>7.112942</td>\n",
       "      <td>922.457854</td>\n",
       "      <td>0.210607</td>\n",
       "      <td>659</td>\n",
       "      <td>3565287.0</td>\n",
       "      <td>287822.0</td>\n",
       "      <td>12542.0</td>\n",
       "      <td>40050038.0</td>\n",
       "    </tr>\n",
       "    <tr>\n",
       "      <th>7</th>\n",
       "      <td>Delaware</td>\n",
       "      <td>14856.468171</td>\n",
       "      <td>9.119547</td>\n",
       "      <td>189.990556</td>\n",
       "      <td>2.723326e+05</td>\n",
       "      <td>167.169615</td>\n",
       "      <td>3482.700320</td>\n",
       "      <td>2185.431677</td>\n",
       "      <td>1.875725</td>\n",
       "      <td>0.000000e+00</td>\n",
       "      <td>...</td>\n",
       "      <td>0.00000</td>\n",
       "      <td>2.281335e+04</td>\n",
       "      <td>2.893627</td>\n",
       "      <td>30.790340</td>\n",
       "      <td>0.007030</td>\n",
       "      <td>25</td>\n",
       "      <td>973764.0</td>\n",
       "      <td>77082.0</td>\n",
       "      <td>5047.0</td>\n",
       "      <td>5258538.0</td>\n",
       "    </tr>\n",
       "    <tr>\n",
       "      <th>9</th>\n",
       "      <td>Florida</td>\n",
       "      <td>72787.192615</td>\n",
       "      <td>39.850365</td>\n",
       "      <td>830.215942</td>\n",
       "      <td>5.137347e+06</td>\n",
       "      <td>2812.653444</td>\n",
       "      <td>58596.946748</td>\n",
       "      <td>63986.638865</td>\n",
       "      <td>49.406525</td>\n",
       "      <td>3.586872e+02</td>\n",
       "      <td>...</td>\n",
       "      <td>0.00000</td>\n",
       "      <td>3.741613e+05</td>\n",
       "      <td>47.458304</td>\n",
       "      <td>682.106477</td>\n",
       "      <td>0.155732</td>\n",
       "      <td>493</td>\n",
       "      <td>21477737.0</td>\n",
       "      <td>1106500.0</td>\n",
       "      <td>138887.0</td>\n",
       "      <td>245603485.0</td>\n",
       "    </tr>\n",
       "    <tr>\n",
       "      <th>10</th>\n",
       "      <td>Georgia</td>\n",
       "      <td>43166.817556</td>\n",
       "      <td>24.274358</td>\n",
       "      <td>505.715787</td>\n",
       "      <td>5.492183e+06</td>\n",
       "      <td>3088.465453</td>\n",
       "      <td>64343.030264</td>\n",
       "      <td>31116.369170</td>\n",
       "      <td>24.607276</td>\n",
       "      <td>0.000000e+00</td>\n",
       "      <td>...</td>\n",
       "      <td>0.00000</td>\n",
       "      <td>3.532065e+05</td>\n",
       "      <td>44.800414</td>\n",
       "      <td>1988.009884</td>\n",
       "      <td>0.453884</td>\n",
       "      <td>2100</td>\n",
       "      <td>10617423.0</td>\n",
       "      <td>625713.0</td>\n",
       "      <td>148959.0</td>\n",
       "      <td>128691569.0</td>\n",
       "    </tr>\n",
       "  </tbody>\n",
       "</table>\n",
       "<p>10 rows × 35 columns</p>\n",
       "</div>"
      ],
      "text/plain": [
       "          State  Urban Utility-scale PV (GWh)  Urban Utility-scale PV (GW)  \\\n",
       "0       Alabama                  35850.628506                    20.453177   \n",
       "1        Alaska                    166.000000                     0.112000   \n",
       "2       Arizona                 121305.877473                    52.611054   \n",
       "3      Arkansas                  28960.881336                    15.957316   \n",
       "4    California                 246008.107935                   111.403807   \n",
       "5      Colorado                  43470.501437                    19.167192   \n",
       "6   Connecticut                   7716.647187                     4.833023   \n",
       "7      Delaware                  14856.468171                     9.119547   \n",
       "9       Florida                  72787.192615                    39.850365   \n",
       "10      Georgia                  43166.817556                    24.274358   \n",
       "\n",
       "    Urban Utility-scale PV (km2)  Rural Utility-scale PV (GWh)  \\\n",
       "0                     426.107850                  3.706839e+06   \n",
       "1                       2.348800                  8.282976e+06   \n",
       "2                    1096.063625                  1.186769e+07   \n",
       "3                     332.444079                  4.986389e+06   \n",
       "4                    2320.912651                  8.855917e+06   \n",
       "5                     399.316500                  1.023808e+07   \n",
       "6                     100.687982                  1.962775e+04   \n",
       "7                     189.990556                  2.723326e+05   \n",
       "9                     830.215942                  5.137347e+06   \n",
       "10                    505.715787                  5.492183e+06   \n",
       "\n",
       "    Rural Utility-scale PV (GW)  Rural Utility-scale PV (km2)  \\\n",
       "0                   2114.792060                  44058.167912   \n",
       "1                   9005.192669                 187608.180600   \n",
       "2                   5147.086733                 107230.973604   \n",
       "3                   2747.477737                  57239.119528   \n",
       "4                   4010.367374                  83549.320302   \n",
       "5                   4514.218007                  94046.208484   \n",
       "6                     12.293079                    256.105804   \n",
       "7                    167.169615                   3482.700320   \n",
       "9                   2812.653444                  58596.946748   \n",
       "10                  3088.465453                  64343.030264   \n",
       "\n",
       "    Rooftop PV (GWh)  Rooftop PV (GW)     CSP (GWh)  ...  \\\n",
       "0       15475.968616        12.516076  0.000000e+00  ...   \n",
       "1           0.001000         1.291509  0.000000e+00  ...   \n",
       "2       22736.083217        14.879973  1.254433e+07  ...   \n",
       "3        8484.950618         6.773149  0.000000e+00  ...   \n",
       "4      106411.151201        75.908383  8.490916e+06  ...   \n",
       "5       16162.171470        11.796668  9.154524e+06  ...   \n",
       "6        6616.198688         5.903443  0.000000e+00  ...   \n",
       "7        2185.431677         1.875725  0.000000e+00  ...   \n",
       "9       63986.638865        49.406525  3.586872e+02  ...   \n",
       "10      31116.369170        24.607276  0.000000e+00  ...   \n",
       "\n",
       "    Geothermal Hydrothermal (GW)  EGS Geothermal (GWh)  EGS Geothermal (GW)  \\\n",
       "0                        0.00000          5.354895e+05            67.921043   \n",
       "1                        1.95814          1.000000e-03             0.001000   \n",
       "2                        1.05640          1.239148e+06           157.172465   \n",
       "3                        0.00000          6.286217e+05            79.733850   \n",
       "4                       16.60550          1.344179e+06           170.494600   \n",
       "5                        1.13540          1.251658e+06           158.759254   \n",
       "6                        0.00000          5.607844e+04             7.112942   \n",
       "7                        0.00000          2.281335e+04             2.893627   \n",
       "9                        0.00000          3.741613e+05            47.458304   \n",
       "10                       0.00000          3.532065e+05            44.800414   \n",
       "\n",
       "    Hydropower (GWh)  Hydropower (GW)  Hydropower (Count of Sites)  \\\n",
       "0        4102.565755         0.936659                         2435   \n",
       "1       23675.571931         5.405382                         3053   \n",
       "2        1303.222021         0.297539                         1958   \n",
       "3        6093.400569         1.391187                         3268   \n",
       "4       30023.578287         6.854698                         9692   \n",
       "5        7789.128915         1.778340                         5060   \n",
       "6         922.457854         0.210607                          659   \n",
       "7          30.790340         0.007030                           25   \n",
       "9         682.106477         0.155732                          493   \n",
       "10       1988.009884         0.453884                         2100   \n",
       "\n",
       "    População_Estado_EUA  PIB_Estado_EUA (US$ Bi)  \\\n",
       "0              4903185.0                 228142.6   \n",
       "1               731545.0                  54385.0   \n",
       "2              7278717.0                 370119.0   \n",
       "3              3017825.0                 130954.0   \n",
       "4             39512223.0                3132800.0   \n",
       "5              5758736.0                 392986.0   \n",
       "6              3565287.0                 287822.0   \n",
       "7               973764.0                  77082.0   \n",
       "9             21477737.0                1106500.0   \n",
       "10            10617423.0                 625713.0   \n",
       "\n",
       "    Area_Estado_EUA(territ_seco_km2)  Total_Eletricidade_EUA (MW.h)  \n",
       "0                           131171.0                    142679433.0  \n",
       "1                           477953.0                      6070843.0  \n",
       "2                           294207.0                    113551987.0  \n",
       "3                           134771.0                     64442898.0  \n",
       "4                           403466.0                    201784204.0  \n",
       "5                           268431.0                     56337734.0  \n",
       "6                            12542.0                     40050038.0  \n",
       "7                             5047.0                      5258538.0  \n",
       "9                           138887.0                    245603485.0  \n",
       "10                          148959.0                    128691569.0  \n",
       "\n",
       "[10 rows x 35 columns]"
      ]
     },
     "execution_count": 8,
     "metadata": {},
     "output_type": "execute_result"
    }
   ],
   "source": [
    "# Retirar a linha Distrito de Colúmbia - avaliado como 'outlier'\n",
    "df=df.drop(8)\n",
    "df.head(10)"
   ]
  },
  {
   "cell_type": "code",
   "execution_count": 9,
   "metadata": {},
   "outputs": [],
   "source": [
    "# colunas - novos nomes\n",
    "df = df.rename(columns = {\"População_Estado_EUA\":\"pope\", \"PIB_Estado_EUA (US$ Bi)\":\"pibe\",\"Area_Estado_EUA(territ_seco_km2)\":\"areae\",\"Total_Eletricidade_EUA (MW.h)\":\"GWe\"}, inplace = False)"
   ]
  },
  {
   "cell_type": "code",
   "execution_count": 10,
   "metadata": {},
   "outputs": [
    {
     "data": {
      "text/html": [
       "<div>\n",
       "<style scoped>\n",
       "    .dataframe tbody tr th:only-of-type {\n",
       "        vertical-align: middle;\n",
       "    }\n",
       "\n",
       "    .dataframe tbody tr th {\n",
       "        vertical-align: top;\n",
       "    }\n",
       "\n",
       "    .dataframe thead th {\n",
       "        text-align: right;\n",
       "    }\n",
       "</style>\n",
       "<table border=\"1\" class=\"dataframe\">\n",
       "  <thead>\n",
       "    <tr style=\"text-align: right;\">\n",
       "      <th></th>\n",
       "      <th>State</th>\n",
       "      <th>Urban Utility-scale PV (GWh)</th>\n",
       "      <th>Urban Utility-scale PV (GW)</th>\n",
       "      <th>Urban Utility-scale PV (km2)</th>\n",
       "      <th>Rural Utility-scale PV (GWh)</th>\n",
       "      <th>Rural Utility-scale PV (GW)</th>\n",
       "      <th>Rural Utility-scale PV (km2)</th>\n",
       "      <th>Rooftop PV (GWh)</th>\n",
       "      <th>Rooftop PV (GW)</th>\n",
       "      <th>CSP (GWh)</th>\n",
       "      <th>...</th>\n",
       "      <th>Geothermal Hydrothermal (GW)</th>\n",
       "      <th>EGS Geothermal (GWh)</th>\n",
       "      <th>EGS Geothermal (GW)</th>\n",
       "      <th>Hydropower (GWh)</th>\n",
       "      <th>Hydropower (GW)</th>\n",
       "      <th>Hydropower (Count of Sites)</th>\n",
       "      <th>pope</th>\n",
       "      <th>pibe</th>\n",
       "      <th>areae</th>\n",
       "      <th>GWe</th>\n",
       "    </tr>\n",
       "  </thead>\n",
       "  <tbody>\n",
       "    <tr>\n",
       "      <th>0</th>\n",
       "      <td>Alabama</td>\n",
       "      <td>35850.628506</td>\n",
       "      <td>20.453177</td>\n",
       "      <td>426.10785</td>\n",
       "      <td>3.706839e+06</td>\n",
       "      <td>2114.792060</td>\n",
       "      <td>44058.167912</td>\n",
       "      <td>15475.968616</td>\n",
       "      <td>12.516076</td>\n",
       "      <td>0.0</td>\n",
       "      <td>...</td>\n",
       "      <td>0.00000</td>\n",
       "      <td>535489.50344</td>\n",
       "      <td>67.921043</td>\n",
       "      <td>4102.565755</td>\n",
       "      <td>0.936659</td>\n",
       "      <td>2435</td>\n",
       "      <td>4903185.0</td>\n",
       "      <td>228142.6</td>\n",
       "      <td>131171.0</td>\n",
       "      <td>142679433.0</td>\n",
       "    </tr>\n",
       "    <tr>\n",
       "      <th>1</th>\n",
       "      <td>Alaska</td>\n",
       "      <td>166.000000</td>\n",
       "      <td>0.112000</td>\n",
       "      <td>2.34880</td>\n",
       "      <td>8.282976e+06</td>\n",
       "      <td>9005.192669</td>\n",
       "      <td>187608.180600</td>\n",
       "      <td>0.001000</td>\n",
       "      <td>1.291509</td>\n",
       "      <td>0.0</td>\n",
       "      <td>...</td>\n",
       "      <td>1.95814</td>\n",
       "      <td>0.00100</td>\n",
       "      <td>0.001000</td>\n",
       "      <td>23675.571931</td>\n",
       "      <td>5.405382</td>\n",
       "      <td>3053</td>\n",
       "      <td>731545.0</td>\n",
       "      <td>54385.0</td>\n",
       "      <td>477953.0</td>\n",
       "      <td>6070843.0</td>\n",
       "    </tr>\n",
       "  </tbody>\n",
       "</table>\n",
       "<p>2 rows × 35 columns</p>\n",
       "</div>"
      ],
      "text/plain": [
       "     State  Urban Utility-scale PV (GWh)  Urban Utility-scale PV (GW)  \\\n",
       "0  Alabama                  35850.628506                    20.453177   \n",
       "1   Alaska                    166.000000                     0.112000   \n",
       "\n",
       "   Urban Utility-scale PV (km2)  Rural Utility-scale PV (GWh)  \\\n",
       "0                     426.10785                  3.706839e+06   \n",
       "1                       2.34880                  8.282976e+06   \n",
       "\n",
       "   Rural Utility-scale PV (GW)  Rural Utility-scale PV (km2)  \\\n",
       "0                  2114.792060                  44058.167912   \n",
       "1                  9005.192669                 187608.180600   \n",
       "\n",
       "   Rooftop PV (GWh)  Rooftop PV (GW)  CSP (GWh)  ...  \\\n",
       "0      15475.968616        12.516076        0.0  ...   \n",
       "1          0.001000         1.291509        0.0  ...   \n",
       "\n",
       "   Geothermal Hydrothermal (GW)  EGS Geothermal (GWh)  EGS Geothermal (GW)  \\\n",
       "0                       0.00000          535489.50344            67.921043   \n",
       "1                       1.95814               0.00100             0.001000   \n",
       "\n",
       "   Hydropower (GWh)  Hydropower (GW)  Hydropower (Count of Sites)       pope  \\\n",
       "0       4102.565755         0.936659                         2435  4903185.0   \n",
       "1      23675.571931         5.405382                         3053   731545.0   \n",
       "\n",
       "       pibe     areae          GWe  \n",
       "0  228142.6  131171.0  142679433.0  \n",
       "1   54385.0  477953.0    6070843.0  \n",
       "\n",
       "[2 rows x 35 columns]"
      ]
     },
     "execution_count": 10,
     "metadata": {},
     "output_type": "execute_result"
    }
   ],
   "source": [
    "df.head(2)"
   ]
  },
  {
   "cell_type": "markdown",
   "metadata": {},
   "source": [
    "### Definição de Metadados"
   ]
  },
  {
   "cell_type": "code",
   "execution_count": 11,
   "metadata": {},
   "outputs": [],
   "source": [
    "df['pibe_capita'] = df['pibe']/df['pope']\n",
    "df['pibe_areae'] = df['pibe']/df['areae']\n",
    "df['pibe_GWe'] = df['pibe']/df['GWe']\n",
    "df['pope_areae'] = df['pope']/df['areae']\n",
    "df['GWe_pope'] = df['GWe']/df['pope']"
   ]
  },
  {
   "cell_type": "code",
   "execution_count": 12,
   "metadata": {},
   "outputs": [],
   "source": [
    "df['solar_e']=df['Urban Utility-scale PV (GWh)'] + df['Rural Utility-scale PV (GWh)'] + df[\"Rooftop PV (GWh)\"] \n",
    "df['eole']=df['Onshore Wind (GWh)']\n",
    "df['bioSe']=df['Biopower-Solid (GWh)']\n",
    "df['geoe']=df['Geothermal Hydrothermal (GWh)']+df['EGS Geothermal (GWh)']\n",
    "df['hyde'] = df['Hydropower (GWh)']\n",
    "dfe=df[[\"State\",'pibe_capita','pibe_areae','pope_areae','pibe_GWe','GWe_pope','solar_e','eole','bioSe','geoe','hyde']]\n",
    "dff=df[['State','solar_e','eole','bioSe','geoe','hyde']] # dataset somente com as variáveis de saída - y"
   ]
  },
  {
   "cell_type": "code",
   "execution_count": 13,
   "metadata": {},
   "outputs": [],
   "source": [
    "# Preparação dos arquivos de entrada (X) e saída (y)\n",
    "X = dfe.drop(columns=['solar_e','eole','bioSe','geoe','hyde','State'])\n",
    "ysol = dfe.loc[:,'solar_e']\n",
    "yeol = dfe.loc[:,'eole']\n",
    "ybio = dfe.loc[:,'bioSe']\n",
    "ygeo = dfe.loc[:,'geoe']\n",
    "yhyd = dfe.loc[:,'hyde']\n",
    "X= pd.read_excel(r'X.xlsx')\n",
    "#X.to_excel (r'C:\\Users\\Acer\\Documents\\Data Science\\Ciencia_Dados_POLI\\Gestão de Energia\\X.xlsx', index = False, header=True)\n",
    "ysol.to_excel (r'C:\\Users\\Acer\\Documents\\Data Science\\Ciencia_Dados_POLI\\Gestão de Energia\\ysol.xlsx', index = False, header=True)\n",
    "yeol.to_excel (r'C:\\Users\\Acer\\Documents\\Data Science\\Ciencia_Dados_POLI\\Gestão de Energia\\ysol.xlsx', index = False, header=True)\n",
    "ybio.to_excel (r'C:\\Users\\Acer\\Documents\\Data Science\\Ciencia_Dados_POLI\\Gestão de Energia\\ysol.xlsx', index = False, header=True)\n",
    "ygeo.to_excel (r'C:\\Users\\Acer\\Documents\\Data Science\\Ciencia_Dados_POLI\\Gestão de Energia\\ysol.xlsx', index = False, header=True)\n",
    "yhyd.to_excel (r'C:\\Users\\Acer\\Documents\\Data Science\\Ciencia_Dados_POLI\\Gestão de Energia\\ysol.xlsx', index = False, header=True)"
   ]
  },
  {
   "cell_type": "code",
   "execution_count": 14,
   "metadata": {},
   "outputs": [
    {
     "data": {
      "text/html": [
       "<div>\n",
       "<style scoped>\n",
       "    .dataframe tbody tr th:only-of-type {\n",
       "        vertical-align: middle;\n",
       "    }\n",
       "\n",
       "    .dataframe tbody tr th {\n",
       "        vertical-align: top;\n",
       "    }\n",
       "\n",
       "    .dataframe thead th {\n",
       "        text-align: right;\n",
       "    }\n",
       "</style>\n",
       "<table border=\"1\" class=\"dataframe\">\n",
       "  <thead>\n",
       "    <tr style=\"text-align: right;\">\n",
       "      <th></th>\n",
       "      <th>pibe_capita</th>\n",
       "      <th>pibe_areae</th>\n",
       "      <th>pope_areae</th>\n",
       "      <th>pibe_GWe</th>\n",
       "      <th>GWe_pope</th>\n",
       "    </tr>\n",
       "  </thead>\n",
       "  <tbody>\n",
       "    <tr>\n",
       "      <th>0</th>\n",
       "      <td>0.046529</td>\n",
       "      <td>1.739276</td>\n",
       "      <td>37.380099</td>\n",
       "      <td>0.001599</td>\n",
       "      <td>29.099337</td>\n",
       "    </tr>\n",
       "    <tr>\n",
       "      <th>1</th>\n",
       "      <td>0.074343</td>\n",
       "      <td>0.113787</td>\n",
       "      <td>1.530579</td>\n",
       "      <td>0.008958</td>\n",
       "      <td>8.298660</td>\n",
       "    </tr>\n",
       "    <tr>\n",
       "      <th>2</th>\n",
       "      <td>0.050849</td>\n",
       "      <td>1.258022</td>\n",
       "      <td>24.740122</td>\n",
       "      <td>0.003259</td>\n",
       "      <td>15.600550</td>\n",
       "    </tr>\n",
       "    <tr>\n",
       "      <th>3</th>\n",
       "      <td>0.043394</td>\n",
       "      <td>0.971678</td>\n",
       "      <td>22.392243</td>\n",
       "      <td>0.002032</td>\n",
       "      <td>21.354087</td>\n",
       "    </tr>\n",
       "    <tr>\n",
       "      <th>4</th>\n",
       "      <td>0.079287</td>\n",
       "      <td>7.764719</td>\n",
       "      <td>97.931977</td>\n",
       "      <td>0.015525</td>\n",
       "      <td>5.106881</td>\n",
       "    </tr>\n",
       "  </tbody>\n",
       "</table>\n",
       "</div>"
      ],
      "text/plain": [
       "   pibe_capita  pibe_areae  pope_areae  pibe_GWe   GWe_pope\n",
       "0     0.046529    1.739276   37.380099  0.001599  29.099337\n",
       "1     0.074343    0.113787    1.530579  0.008958   8.298660\n",
       "2     0.050849    1.258022   24.740122  0.003259  15.600550\n",
       "3     0.043394    0.971678   22.392243  0.002032  21.354087\n",
       "4     0.079287    7.764719   97.931977  0.015525   5.106881"
      ]
     },
     "execution_count": 14,
     "metadata": {},
     "output_type": "execute_result"
    }
   ],
   "source": [
    "X.head()"
   ]
  },
  {
   "cell_type": "code",
   "execution_count": 15,
   "metadata": {},
   "outputs": [
    {
     "data": {
      "text/html": [
       "<div>\n",
       "<style scoped>\n",
       "    .dataframe tbody tr th:only-of-type {\n",
       "        vertical-align: middle;\n",
       "    }\n",
       "\n",
       "    .dataframe tbody tr th {\n",
       "        vertical-align: top;\n",
       "    }\n",
       "\n",
       "    .dataframe thead th {\n",
       "        text-align: right;\n",
       "    }\n",
       "</style>\n",
       "<table border=\"1\" class=\"dataframe\">\n",
       "  <thead>\n",
       "    <tr style=\"text-align: right;\">\n",
       "      <th></th>\n",
       "      <th>pibe_capita</th>\n",
       "      <th>pibe_areae</th>\n",
       "      <th>pope_areae</th>\n",
       "      <th>pibe_GWe</th>\n",
       "      <th>GWe_pope</th>\n",
       "    </tr>\n",
       "  </thead>\n",
       "  <tbody>\n",
       "    <tr>\n",
       "      <th>count</th>\n",
       "      <td>51.000000</td>\n",
       "      <td>51.000000</td>\n",
       "      <td>51.000000</td>\n",
       "      <td>51.000000</td>\n",
       "      <td>51.000000</td>\n",
       "    </tr>\n",
       "    <tr>\n",
       "      <th>mean</th>\n",
       "      <td>0.087754</td>\n",
       "      <td>5.102354</td>\n",
       "      <td>76.803469</td>\n",
       "      <td>0.025532</td>\n",
       "      <td>15.544688</td>\n",
       "    </tr>\n",
       "    <tr>\n",
       "      <th>std</th>\n",
       "      <td>0.144220</td>\n",
       "      <td>7.307814</td>\n",
       "      <td>102.463331</td>\n",
       "      <td>0.139263</td>\n",
       "      <td>11.941289</td>\n",
       "    </tr>\n",
       "    <tr>\n",
       "      <th>min</th>\n",
       "      <td>0.038967</td>\n",
       "      <td>0.113787</td>\n",
       "      <td>1.000000</td>\n",
       "      <td>0.000959</td>\n",
       "      <td>1.000000</td>\n",
       "    </tr>\n",
       "    <tr>\n",
       "      <th>25%</th>\n",
       "      <td>0.053634</td>\n",
       "      <td>0.985839</td>\n",
       "      <td>16.896336</td>\n",
       "      <td>0.003336</td>\n",
       "      <td>10.024537</td>\n",
       "    </tr>\n",
       "    <tr>\n",
       "      <th>50%</th>\n",
       "      <td>0.060012</td>\n",
       "      <td>2.106112</td>\n",
       "      <td>41.509354</td>\n",
       "      <td>0.004574</td>\n",
       "      <td>12.754325</td>\n",
       "    </tr>\n",
       "    <tr>\n",
       "      <th>75%</th>\n",
       "      <td>0.069040</td>\n",
       "      <td>5.600267</td>\n",
       "      <td>84.283663</td>\n",
       "      <td>0.007081</td>\n",
       "      <td>17.677435</td>\n",
       "    </tr>\n",
       "    <tr>\n",
       "      <th>max</th>\n",
       "      <td>1.000000</td>\n",
       "      <td>33.327191</td>\n",
       "      <td>466.330131</td>\n",
       "      <td>1.000000</td>\n",
       "      <td>72.820735</td>\n",
       "    </tr>\n",
       "  </tbody>\n",
       "</table>\n",
       "</div>"
      ],
      "text/plain": [
       "       pibe_capita  pibe_areae  pope_areae   pibe_GWe   GWe_pope\n",
       "count    51.000000   51.000000   51.000000  51.000000  51.000000\n",
       "mean      0.087754    5.102354   76.803469   0.025532  15.544688\n",
       "std       0.144220    7.307814  102.463331   0.139263  11.941289\n",
       "min       0.038967    0.113787    1.000000   0.000959   1.000000\n",
       "25%       0.053634    0.985839   16.896336   0.003336  10.024537\n",
       "50%       0.060012    2.106112   41.509354   0.004574  12.754325\n",
       "75%       0.069040    5.600267   84.283663   0.007081  17.677435\n",
       "max       1.000000   33.327191  466.330131   1.000000  72.820735"
      ]
     },
     "execution_count": 15,
     "metadata": {},
     "output_type": "execute_result"
    }
   ],
   "source": [
    "X.describe()"
   ]
  },
  {
   "cell_type": "code",
   "execution_count": 16,
   "metadata": {},
   "outputs": [],
   "source": [
    "# Normalização dos dados de entrada X -- EUA\n",
    "#from sklearn.preprocessing import MinMaxScaler\n",
    "#scaler = MinMaxScaler()\n",
    "#df2 = scaler.fit_transform(X)\n",
    "#df2 = pd.DataFrame(df2)\n",
    "#df2.columns = ['pibe_capita', 'pibe_areae', 'pope_areae', 'pibe_GWe', 'GWe_pope']\n",
    "#df2.describe()"
   ]
  },
  {
   "cell_type": "code",
   "execution_count": 17,
   "metadata": {},
   "outputs": [],
   "source": [
    "#df2.head(2)"
   ]
  },
  {
   "cell_type": "code",
   "execution_count": 18,
   "metadata": {},
   "outputs": [],
   "source": [
    "#dfe.head()"
   ]
  },
  {
   "cell_type": "code",
   "execution_count": 19,
   "metadata": {},
   "outputs": [],
   "source": [
    "X = dfe.drop(columns=['solar_e','eole','bioSe','geoe','hyde','State'])\n",
    "yeol = dfe.loc[:,'eole']"
   ]
  },
  {
   "cell_type": "code",
   "execution_count": 20,
   "metadata": {},
   "outputs": [],
   "source": [
    "X_train, X_test, y_train, y_test = train_test_split(X, yeol, test_size=0.3, random_state=42)"
   ]
  },
  {
   "cell_type": "code",
   "execution_count": null,
   "metadata": {},
   "outputs": [],
   "source": []
  },
  {
   "cell_type": "markdown",
   "metadata": {},
   "source": [
    "### Primeiro caso - Eolica"
   ]
  },
  {
   "cell_type": "code",
   "execution_count": 21,
   "metadata": {},
   "outputs": [],
   "source": [
    "# Divisão entre arquivos de treino e teste, com corte em 30%\n",
    "X_train, X_test, y_train, y_test = train_test_split(X, yeol,test_size =0.3, random_state=1234)"
   ]
  },
  {
   "cell_type": "code",
   "execution_count": 22,
   "metadata": {},
   "outputs": [
    {
     "data": {
      "text/plain": [
       "ExtraTreesRegressor()"
      ]
     },
     "execution_count": 22,
     "metadata": {},
     "output_type": "execute_result"
    }
   ],
   "source": [
    "from sklearn.ensemble import ExtraTreesRegressor\n",
    "model = ExtraTreesRegressor(n_estimators=100)\n",
    "model.fit(X_train, y_train)"
   ]
  },
  {
   "cell_type": "code",
   "execution_count": 23,
   "metadata": {},
   "outputs": [
    {
     "data": {
      "text/plain": [
       "<AxesSubplot:>"
      ]
     },
     "execution_count": 23,
     "metadata": {},
     "output_type": "execute_result"
    },
    {
     "data": {
      "image/png": "[encoded data removed]",
      "text/plain": [
       "<Figure size 1152x576 with 1 Axes>"
      ]
     },
     "metadata": {
      "needs_background": "light"
     },
     "output_type": "display_data"
    }
   ],
   "source": [
    "(pd.Series(model.feature_importances_, index=X.columns)\n",
    "   .nlargest(10).sort_values().plot.barh())"
   ]
  },
  {
   "cell_type": "markdown",
   "metadata": {},
   "source": [
    "### Algoritmo Referência = Random Forest"
   ]
  },
  {
   "cell_type": "code",
   "execution_count": 24,
   "metadata": {},
   "outputs": [
    {
     "name": "stdout",
     "output_type": "stream",
     "text": [
      "Parameters currently in use:\n",
      "\n",
      "{'bootstrap': True,\n",
      " 'ccp_alpha': 0.0,\n",
      " 'criterion': 'mse',\n",
      " 'max_depth': None,\n",
      " 'max_features': 'auto',\n",
      " 'max_leaf_nodes': None,\n",
      " 'max_samples': None,\n",
      " 'min_impurity_decrease': 0.0,\n",
      " 'min_impurity_split': None,\n",
      " 'min_samples_leaf': 1,\n",
      " 'min_samples_split': 2,\n",
      " 'min_weight_fraction_leaf': 0.0,\n",
      " 'n_estimators': 100,\n",
      " 'n_jobs': None,\n",
      " 'oob_score': False,\n",
      " 'random_state': 42,\n",
      " 'verbose': 0,\n",
      " 'warm_start': False}\n"
     ]
    }
   ],
   "source": [
    "from sklearn.ensemble import RandomForestRegressor\n",
    "rf = RandomForestRegressor(random_state = 42)\n",
    "from sklearn.model_selection import RandomizedSearchCV\n",
    "from pprint import pprint\n",
    "# Look at parameters used by our current forest\n",
    "print('Parameters currently in use:\\n')\n",
    "pprint(rf.get_params())"
   ]
  },
  {
   "cell_type": "code",
   "execution_count": 25,
   "metadata": {},
   "outputs": [
    {
     "name": "stdout",
     "output_type": "stream",
     "text": [
      "Fitting 10 folds for each of 100 candidates, totalling 1000 fits\n"
     ]
    },
    {
     "name": "stderr",
     "output_type": "stream",
     "text": [
      "[Parallel(n_jobs=-1)]: Using backend LokyBackend with 8 concurrent workers.\n",
      "[Parallel(n_jobs=-1)]: Done  25 tasks      | elapsed:    2.6s\n",
      "[Parallel(n_jobs=-1)]: Done 862 tasks      | elapsed:    5.7s\n",
      "[Parallel(n_jobs=-1)]: Done 1000 out of 1000 | elapsed:    6.0s finished\n"
     ]
    },
    {
     "data": {
      "text/plain": [
       "RandomizedSearchCV(cv=10, estimator=RandomForestRegressor(random_state=42),\n",
       "                   n_iter=100, n_jobs=-1,\n",
       "                   param_distributions={'max_depth': [10, 20, 30],\n",
       "                                        'max_features': ['auto'],\n",
       "                                        'max_leaf_nodes': [2, 3, 4, 5],\n",
       "                                        'min_samples_leaf': [5, 10, 15],\n",
       "                                        'min_samples_split': [3, 6, 9, 12, 15,\n",
       "                                                              18, 21],\n",
       "                                        'n_estimators': [2, 3, 4, 5, 6, 7, 8, 9,\n",
       "                                                         10]},\n",
       "                   verbose=2)"
      ]
     },
     "execution_count": 25,
     "metadata": {},
     "output_type": "execute_result"
    }
   ],
   "source": [
    "params_grid= {'n_estimators':[2,3,4,5,6,7,8,9,10],\n",
    "              \"max_features\":['auto'],\n",
    "              'max_depth':[10,20,30],\n",
    "              'max_leaf_nodes':[2,3,4,5],\n",
    "              'min_samples_leaf':[5,10,15],\n",
    "              'min_samples_split':[3,6,9,12,15,18,21]}\n",
    "random_rf = RandomizedSearchCV(estimator = rf,cv=10,param_distributions=params_grid,n_iter=100,verbose=2,n_jobs=-1)\n",
    "random_rf.fit(X_train, y_train)"
   ]
  },
  {
   "cell_type": "code",
   "execution_count": 26,
   "metadata": {},
   "outputs": [
    {
     "data": {
      "text/plain": [
       "{'n_estimators': 5,\n",
       " 'min_samples_split': 9,\n",
       " 'min_samples_leaf': 10,\n",
       " 'max_leaf_nodes': 3,\n",
       " 'max_features': 'auto',\n",
       " 'max_depth': 30}"
      ]
     },
     "execution_count": 26,
     "metadata": {},
     "output_type": "execute_result"
    }
   ],
   "source": [
    "random_rf.best_params_"
   ]
  },
  {
   "cell_type": "code",
   "execution_count": 27,
   "metadata": {},
   "outputs": [],
   "source": [
    "m_rf=RandomForestRegressor(n_estimators= 5,\n",
    " min_samples_split = 21,\n",
    " min_samples_leaf = 10,\n",
    " max_leaf_nodes = 2,\n",
    " max_features ='auto',\n",
    " max_depth = 20)"
   ]
  },
  {
   "cell_type": "code",
   "execution_count": 28,
   "metadata": {},
   "outputs": [
    {
     "name": "stdout",
     "output_type": "stream",
     "text": [
      "RandomForestRegressor(max_depth=20, max_leaf_nodes=2, min_samples_leaf=10,\n",
      "                      min_samples_split=21, n_estimators=5)\n"
     ]
    }
   ],
   "source": [
    "yrf = m_rf.fit(X_train,y_train)\n",
    "print(yrf)"
   ]
  },
  {
   "cell_type": "code",
   "execution_count": 29,
   "metadata": {},
   "outputs": [],
   "source": [
    "y_rf= yrf.predict(X_test)"
   ]
  },
  {
   "cell_type": "markdown",
   "metadata": {},
   "source": [
    "### Avaliação dos Erros_Eolica"
   ]
  },
  {
   "cell_type": "code",
   "execution_count": 30,
   "metadata": {},
   "outputs": [],
   "source": [
    "# https://medium.com/turing-talks/como-avaliar-seu-modelo-de-regress%C3%A3o-c2c8d73dab96#:~:text=Erro%20Quadr%C3%A1tico%20M%C3%A9dio%20(MSE)&text=Em%20outras%20palavras%2C%20pega%2Dse,esse%20n%C3%BAmero%2C%20pior%20o%20modelo."
   ]
  },
  {
   "cell_type": "code",
   "execution_count": 31,
   "metadata": {},
   "outputs": [],
   "source": [
    "from sklearn.metrics import r2_score \n",
    "from sklearn.metrics import mean_squared_error # MSE\n",
    "# RMSE = mean_squared_error(y_test,y_pred,squared=False) \n",
    "from sklearn.metrics import mean_absolute_error\n",
    "import numpy as np\n",
    "# MAPE = np.mean(np.abs((y_test - y_pred) / y_test)) * 100\n",
    "from sklearn.metrics import mean_squared_log_error"
   ]
  },
  {
   "cell_type": "code",
   "execution_count": 32,
   "metadata": {},
   "outputs": [
    {
     "name": "stdout",
     "output_type": "stream",
     "text": [
      "1760523.135\n"
     ]
    }
   ],
   "source": [
    "c=np.mean(y_train)\n",
    "print(round(c,3))"
   ]
  },
  {
   "cell_type": "code",
   "execution_count": 33,
   "metadata": {},
   "outputs": [
    {
     "name": "stdout",
     "output_type": "stream",
     "text": [
      "R2 = -0.597\n",
      "MSE = 767314338266.848\n",
      "RMSE = 875964.804\n",
      "MAE =  820190.35\n"
     ]
    }
   ],
   "source": [
    "R2 = r2_score(y_test,y_rf)\n",
    "mse_rf = mean_squared_error(y_test, y_rf)\n",
    "rmse_rf = mse_rf**0.5\n",
    "mae_rf =  mean_absolute_error(y_test, y_rf)\n",
    "# msle_rf = mean_squared_log_error(y_test,y_rf)\n",
    "print('R2 =', round(R2,3))\n",
    "print('MSE =', round(mse_rf,3))\n",
    "print('RMSE =', round(rmse_rf,3))\n",
    "print('MAE = ', round(mae_rf,3))\n",
    "# print('MSLE =', round(msle_rf,3))"
   ]
  },
  {
   "cell_type": "code",
   "execution_count": 34,
   "metadata": {},
   "outputs": [
    {
     "name": "stdout",
     "output_type": "stream",
     "text": [
      "-1.395\n"
     ]
    }
   ],
   "source": [
    "# R2 ajustado -- ponderação entre os fatores mais relevantes\n",
    "def adjusted_r2(y_test, y_rf,X_train):\n",
    "    from sklearn.metrics import r2_score\n",
    "    adj_r2 = (1 - ((1 - r2_score(y_test, y_rf)) * (len(y_test) - 1)) / \n",
    "          (len(y_test) - X_train.shape[1] - 1))\n",
    "    return adj_r2\n",
    "a= round(adjusted_r2(y_test,y_rf,X_train),3)\n",
    "print(a)"
   ]
  },
  {
   "cell_type": "code",
   "execution_count": 35,
   "metadata": {},
   "outputs": [
    {
     "name": "stdout",
     "output_type": "stream",
     "text": [
      "-4846499.3\n",
      "18382399.7\n"
     ]
    }
   ],
   "source": [
    "errop2= (y_test - y_rf)*100/y_test\n",
    "# em porcentagem\n",
    "media = round(np.mean(errop2),1)\n",
    "print(media)\n",
    "desvio = round(np.std(errop2),1)\n",
    "print(desvio)"
   ]
  },
  {
   "cell_type": "code",
   "execution_count": 36,
   "metadata": {},
   "outputs": [
    {
     "name": "stdout",
     "output_type": "stream",
     "text": [
      "1760523.135\n"
     ]
    }
   ],
   "source": [
    "a = np.mean(y_train)\n",
    "print(round(a,3))"
   ]
  },
  {
   "cell_type": "code",
   "execution_count": 37,
   "metadata": {},
   "outputs": [],
   "source": [
    "# Modelo de comparação simples - array com o valor médio de y_train\n",
    "a = [0.123, 0.123,0.123, 0.123,0.123, 0.123,0.123, 0.123,0.123, 0.123,0.123, 0.123,0.123, 0.123,0.123, 0.123]\n",
    "a = np.array(a)"
   ]
  },
  {
   "cell_type": "code",
   "execution_count": 38,
   "metadata": {},
   "outputs": [
    {
     "name": "stdout",
     "output_type": "stream",
     "text": [
      "[0.123, 0.123, 0.123, 0.123, 0.123, 0.123, 0.123, 0.123, 0.123, 0.123, 0.123, 0.123, 0.123, 0.123, 0.123, 0.123]\n"
     ]
    }
   ],
   "source": [
    "a = [0.123]\n",
    "a = a*16\n",
    "print(a)"
   ]
  },
  {
   "cell_type": "code",
   "execution_count": 39,
   "metadata": {},
   "outputs": [
    {
     "name": "stdout",
     "output_type": "stream",
     "text": [
      "541555015490.016 767314338266.848\n",
      "1.417\n"
     ]
    }
   ],
   "source": [
    "# novo erro: modelo simples, com a média do conjunto treino\n",
    "mse_m = mean_squared_error(y_test,a)\n",
    "# comparativo entre o modelo tree e o modelo simples\n",
    "r_rf = mse_rf/mse_m\n",
    "print(round(mse_m,3), round(mse_rf,3))\n",
    "print(round(r_rf,3))"
   ]
  },
  {
   "cell_type": "markdown",
   "metadata": {},
   "source": [
    "### Uso inicial dos algoritmos GBoosting"
   ]
  },
  {
   "cell_type": "markdown",
   "metadata": {},
   "source": [
    "### Otimização de parâmetros"
   ]
  },
  {
   "cell_type": "code",
   "execution_count": 40,
   "metadata": {},
   "outputs": [],
   "source": [
    "# Light & XG Boosting\n",
    "params= {\n",
    "    'booster': [\"gbtree\",\"gblinear\",'dart'],\n",
    "    'learning rate': [0.05, 0.1, 0.2, 0.3, 0.4, 0.5],\n",
    "    'max depth': [3,4,5,8,10,11,12],\n",
    "    'min_child_weigth': [1,3,5,7],\n",
    "    'gamma': [0, 0.1, 0.2, 0.3, 0.4],\n",
    "    'colsample_bytree': [0.3,0.4,0.5,0.6]\n",
    "}"
   ]
  },
  {
   "cell_type": "code",
   "execution_count": 41,
   "metadata": {},
   "outputs": [],
   "source": [
    "# Gradient Boosting\n",
    "params0= {\n",
    "    'min_samples_split': [300,400,500],\n",
    "    'min_samples_leaf': [30,40,50],\n",
    "    'min_weight_fraction_leaf': [0, 0.1, 0.2, 0.3, 0.4],\n",
    "    'max_depth': [5,6,7,8],\n",
    "    'subsample': [0.6,0.7,0.8],\n",
    "    'learning_rate' : [0.09, 0.1, 0.15]\n",
    "}"
   ]
  },
  {
   "cell_type": "code",
   "execution_count": 42,
   "metadata": {},
   "outputs": [],
   "source": [
    "# Adaptative Boosting\n",
    "params1= {\n",
    "    'n_estimators': [30,40,50],\n",
    "    'learning_rate' : [0.09, 0.1, 0.15]\n",
    "}"
   ]
  },
  {
   "cell_type": "code",
   "execution_count": 43,
   "metadata": {},
   "outputs": [
    {
     "name": "stdout",
     "output_type": "stream",
     "text": [
      "*****************ClassifiersDone*****************\n"
     ]
    }
   ],
   "source": [
    "# GradientBoostingClassifier\n",
    "from sklearn.ensemble import GradientBoostingRegressor\n",
    "gbr = GradientBoostingRegressor(random_state=0)\n",
    "gbr.fit(X_train, y_train)\n",
    "import lightgbm as lgb\n",
    "lgb = lgb.LGBMRegressor(learning_rate = 0.001, \n",
    "                              num_leaves = 65,  \n",
    "                              n_estimators = 100)                       \n",
    "lgb.fit(X_train, y_train)\n",
    " # XGBoost\n",
    "import xgboost as xgb\n",
    "xgb= xgb.XGBRegressor(learning_rate=0.001,\n",
    "                            max_depth = 1, \n",
    "                            n_estimators = 100)\n",
    "xgb.fit(X_train, y_train)\n",
    "# AdaBoost\n",
    "from sklearn.ensemble import AdaBoostRegressor\n",
    "from sklearn.tree import DecisionTreeRegressor\n",
    "ada = AdaBoostRegressor(\n",
    "    DecisionTreeRegressor(max_depth=1), n_estimators=100,\n",
    "    learning_rate=0.001)\n",
    "ada.fit(X_train, y_train)\n",
    "\n",
    "print('*****************ClassifiersDone*****************')"
   ]
  },
  {
   "cell_type": "code",
   "execution_count": 44,
   "metadata": {},
   "outputs": [],
   "source": [
    "# Random Search & Cross Validation\n",
    "random_search_gbr = RandomizedSearchCV(gbr,param_distributions=params0,n_iter=5,n_jobs=-1,cv=5,verbose=3)\n",
    "random_search_lgb = RandomizedSearchCV(lgb,param_distributions=params,n_iter=5,n_jobs=-1,cv=5,verbose=3)\n",
    "random_search_xgb = RandomizedSearchCV(xgb,param_distributions=params,n_iter=5,n_jobs=-1,cv=5,verbose=3)\n",
    "random_search_ada = RandomizedSearchCV(ada,param_distributions=params1,n_iter=5,n_jobs=-1,cv=5,verbose=3)"
   ]
  },
  {
   "cell_type": "code",
   "execution_count": 45,
   "metadata": {},
   "outputs": [
    {
     "name": "stdout",
     "output_type": "stream",
     "text": [
      "Fitting 5 folds for each of 5 candidates, totalling 25 fits\n"
     ]
    },
    {
     "name": "stderr",
     "output_type": "stream",
     "text": [
      "[Parallel(n_jobs=-1)]: Using backend LokyBackend with 8 concurrent workers.\n",
      "[Parallel(n_jobs=-1)]: Done  19 out of  25 | elapsed:    0.1s remaining:    0.0s\n",
      "[Parallel(n_jobs=-1)]: Done  25 out of  25 | elapsed:    0.1s finished\n",
      "[Parallel(n_jobs=-1)]: Using backend LokyBackend with 8 concurrent workers.\n"
     ]
    },
    {
     "name": "stdout",
     "output_type": "stream",
     "text": [
      "Fitting 5 folds for each of 5 candidates, totalling 25 fits\n",
      "Fitting 5 folds for each of 5 candidates, totalling 25 fits"
     ]
    },
    {
     "name": "stderr",
     "output_type": "stream",
     "text": [
      "[Parallel(n_jobs=-1)]: Done  19 out of  25 | elapsed:    0.1s remaining:    0.0s\n",
      "[Parallel(n_jobs=-1)]: Done  25 out of  25 | elapsed:    0.1s finished\n",
      "[Parallel(n_jobs=-1)]: Using backend LokyBackend with 8 concurrent workers.\n"
     ]
    },
    {
     "name": "stdout",
     "output_type": "stream",
     "text": [
      "\n"
     ]
    },
    {
     "name": "stderr",
     "output_type": "stream",
     "text": [
      "[Parallel(n_jobs=-1)]: Done  19 out of  25 | elapsed:    0.9s remaining:    0.2s\n",
      "[Parallel(n_jobs=-1)]: Done  25 out of  25 | elapsed:    1.0s finished\n",
      "[Parallel(n_jobs=-1)]: Using backend LokyBackend with 8 concurrent workers.\n"
     ]
    },
    {
     "name": "stdout",
     "output_type": "stream",
     "text": [
      "[19:49:50] WARNING: C:\\Users\\Administrator\\workspace\\xgboost-win64_release_1.2.0\\src\\learner.cc:516: \n",
      "Parameters: { colsample_bylevel, colsample_bynode, colsample_bytree, gamma, interaction_constraints, learning rate, max depth, max_delta_step, max_depth, min_child_weight, min_child_weigth, monotone_constraints, num_parallel_tree, subsample, tree_method } might not be used.\n",
      "\n",
      "  This may not be accurate due to some parameters are only used in language bindings but\n",
      "  passed down to XGBoost core.  Or some parameters are not used but slip through this\n",
      "  verification. Please open an issue if you find above cases.\n",
      "\n",
      "\n",
      "Fitting 5 folds for each of 5 candidates, totalling 25 fits\n"
     ]
    },
    {
     "name": "stderr",
     "output_type": "stream",
     "text": [
      "[Parallel(n_jobs=-1)]: Done  19 out of  25 | elapsed:    0.1s remaining:    0.0s\n",
      "[Parallel(n_jobs=-1)]: Done  25 out of  25 | elapsed:    0.2s finished\n"
     ]
    },
    {
     "data": {
      "text/plain": [
       "RandomizedSearchCV(cv=5,\n",
       "                   estimator=AdaBoostRegressor(base_estimator=DecisionTreeRegressor(max_depth=1),\n",
       "                                               learning_rate=0.001,\n",
       "                                               n_estimators=100),\n",
       "                   n_iter=5, n_jobs=-1,\n",
       "                   param_distributions={'learning_rate': [0.09, 0.1, 0.15],\n",
       "                                        'n_estimators': [30, 40, 50]},\n",
       "                   verbose=3)"
      ]
     },
     "execution_count": 45,
     "metadata": {},
     "output_type": "execute_result"
    }
   ],
   "source": [
    "random_search_gbr.fit(X_train, y_train)\n",
    "random_search_lgb.fit(X_train, y_train)\n",
    "random_search_xgb.fit(X_train, y_train)\n",
    "random_search_ada.fit(X_train, y_train)"
   ]
  },
  {
   "cell_type": "code",
   "execution_count": 46,
   "metadata": {},
   "outputs": [],
   "source": [
    "from sklearn.model_selection import cross_val_score\n",
    "score_gbr=cross_val_score(gbr,X,ysol,cv=10)\n",
    "score_lgb=cross_val_score(lgb,X,ysol,cv=10)\n",
    "score_xgb=cross_val_score(xgb,X,ysol,cv=10)\n",
    "score_ada=cross_val_score(ada,X,ysol,cv=10)"
   ]
  },
  {
   "cell_type": "markdown",
   "metadata": {},
   "source": [
    "### Gradient Boosting"
   ]
  },
  {
   "cell_type": "code",
   "execution_count": 47,
   "metadata": {},
   "outputs": [
    {
     "name": "stdout",
     "output_type": "stream",
     "text": [
      "GradientBoostingRegressor(learning_rate=0.15, max_depth=7, min_samples_leaf=30,\n",
      "                          min_samples_split=400, min_weight_fraction_leaf=0.2,\n",
      "                          random_state=0, subsample=0.8)\n"
     ]
    }
   ],
   "source": [
    "print(random_search_gbr.best_estimator_)"
   ]
  },
  {
   "cell_type": "code",
   "execution_count": 48,
   "metadata": {},
   "outputs": [],
   "source": [
    "m_gbr = GradientBoostingRegressor(alpha=0.9, criterion='friedman_mse', init=None,\n",
    "                          learning_rate=1, loss='ls', max_depth= 6,\n",
    "                          max_features=None, max_leaf_nodes=None,\n",
    "                          min_impurity_decrease=0.0, min_impurity_split=None,\n",
    "                          min_samples_leaf=40, min_samples_split=500,\n",
    "                          min_weight_fraction_leaf=0.2, n_estimators=100,\n",
    "                          n_iter_no_change=None, presort='auto', random_state=0,\n",
    "                          subsample=0.6, tol=0.0001, validation_fraction=0.1,\n",
    "                          verbose=0, warm_start=False)"
   ]
  },
  {
   "cell_type": "code",
   "execution_count": 49,
   "metadata": {},
   "outputs": [
    {
     "name": "stderr",
     "output_type": "stream",
     "text": [
      "C:\\Users\\Acer\\anaconda3\\lib\\site-packages\\sklearn\\ensemble\\_gb.py:309: FutureWarning: The parameter 'presort' is deprecated and has no effect. It will be removed in v0.24. You can suppress this warning by not passing any value to the 'presort' parameter. We also recommend using HistGradientBoosting models instead.\n",
      "  FutureWarning)\n"
     ]
    },
    {
     "data": {
      "text/plain": [
       "GradientBoostingRegressor(learning_rate=1, max_depth=6, min_samples_leaf=40,\n",
       "                          min_samples_split=500, min_weight_fraction_leaf=0.2,\n",
       "                          presort='auto', random_state=0, subsample=0.6)"
      ]
     },
     "execution_count": 49,
     "metadata": {},
     "output_type": "execute_result"
    }
   ],
   "source": [
    "m_gbr.fit(X_train,y_train)"
   ]
  },
  {
   "cell_type": "code",
   "execution_count": 50,
   "metadata": {},
   "outputs": [],
   "source": [
    "y_gbr = m_gbr.predict(X_test)"
   ]
  },
  {
   "cell_type": "code",
   "execution_count": 51,
   "metadata": {},
   "outputs": [
    {
     "name": "stdout",
     "output_type": "stream",
     "text": [
      "1043088413874.853\n"
     ]
    }
   ],
   "source": [
    "mse_gbr = round(mean_squared_error(y_test, y_gbr),3)\n",
    "print(mse_gbr)"
   ]
  },
  {
   "cell_type": "code",
   "execution_count": 52,
   "metadata": {},
   "outputs": [
    {
     "name": "stdout",
     "output_type": "stream",
     "text": [
      "-6658046.749\n"
     ]
    }
   ],
   "source": [
    "errop2= (y_test - y_gbr)*100/y_test\n",
    "a = np.mean(errop2)\n",
    "print(round(a,3))\n",
    "# em porcentagem"
   ]
  },
  {
   "cell_type": "code",
   "execution_count": 53,
   "metadata": {},
   "outputs": [
    {
     "name": "stdout",
     "output_type": "stream",
     "text": [
      "R2 = -1.17\n",
      "MSE = 1043088413874.853\n",
      "RMSE = 1021317.0\n",
      "MAE =  988108.51\n"
     ]
    }
   ],
   "source": [
    "R2 = r2_score(y_test,y_gbr)\n",
    "mse_gbr = mean_squared_error(y_test, y_gbr)\n",
    "rmse_gbr = mse_gbr**0.5\n",
    "mae_gbr =  mean_absolute_error(y_test, y_gbr)\n",
    "# msle_rf = mean_squared_log_error(y_test,y_rf)\n",
    "print('R2 =', round(R2,3))\n",
    "print('MSE =', round(mse_gbr,3))\n",
    "print('RMSE =', round(rmse_gbr,3))\n",
    "print('MAE = ', round(mae_gbr,3))\n",
    "# print('MSLE =', round(msle_rf,3))"
   ]
  },
  {
   "cell_type": "code",
   "execution_count": 54,
   "metadata": {},
   "outputs": [
    {
     "name": "stdout",
     "output_type": "stream",
     "text": [
      "-2.255\n"
     ]
    }
   ],
   "source": [
    "def adjusted_r2(y_test, y_gbr,X_train):\n",
    "    from sklearn.metrics import r2_score\n",
    "    adj_r2 = (1 - ((1 - r2_score(y_test, y_gbr)) * (len(y_test) - 1)) / \n",
    "          (len(y_test) - X_train.shape[1] - 1))\n",
    "    return adj_r2\n",
    "a= round(adjusted_r2(y_test,y_gbr,X_train),3)\n",
    "print(a)"
   ]
  },
  {
   "cell_type": "code",
   "execution_count": null,
   "metadata": {},
   "outputs": [],
   "source": []
  },
  {
   "cell_type": "code",
   "execution_count": 55,
   "metadata": {},
   "outputs": [
    {
     "name": "stdout",
     "output_type": "stream",
     "text": [
      "[0.123, 0.123, 0.123, 0.123, 0.123, 0.123, 0.123, 0.123, 0.123, 0.123, 0.123, 0.123, 0.123, 0.123, 0.123, 0.123]\n"
     ]
    }
   ],
   "source": [
    "# Modelo de comparação simples - array com o valor médio de y_train\n",
    "a = [0.123, 0.123,0.123, 0.123,0.123, 0.123,0.123, 0.123,0.123, 0.123,0.123, 0.123,0.123, 0.123,0.123, 0.123]\n",
    "a = np.array(a)\n",
    "\n",
    "a = [0.123]\n",
    "a = a*16\n",
    "print(a)"
   ]
  },
  {
   "cell_type": "code",
   "execution_count": 56,
   "metadata": {},
   "outputs": [
    {
     "data": {
      "image/png": "[encoded data removed]",
      "text/plain": [
       "<Figure size 1152x576 with 1 Axes>"
      ]
     },
     "metadata": {
      "needs_background": "light"
     },
     "output_type": "display_data"
    }
   ],
   "source": [
    "errop2.hist()\n",
    "plt.title(\"Distribuição erro percentual - GBR_Eolica\")\n",
    "plt.xlabel(\"errop2\")\n",
    "plt.ylabel(\"ocorrência errop2\")\n",
    "plt.show()"
   ]
  },
  {
   "cell_type": "code",
   "execution_count": 57,
   "metadata": {},
   "outputs": [
    {
     "name": "stdout",
     "output_type": "stream",
     "text": [
      "541555015490.016 1043088413874.853\n",
      "1.926\n"
     ]
    }
   ],
   "source": [
    "# novo erro: modelo simples, com a média do conjunto treino\n",
    "mse_m = mean_squared_error(y_test,a)\n",
    "# comparativo entre o modelo tree e o modelo simples\n",
    "r_gbr = mse_gbr/mse_m\n",
    "print(round(mse_m,3), round(mse_gbr,3))\n",
    "print(round(r_gbr,3))"
   ]
  },
  {
   "cell_type": "markdown",
   "metadata": {},
   "source": [
    "### Light Gradient Boosting"
   ]
  },
  {
   "cell_type": "code",
   "execution_count": 58,
   "metadata": {},
   "outputs": [
    {
     "name": "stdout",
     "output_type": "stream",
     "text": [
      "LGBMRegressor(booster='gblinear', colsample_bytree=0.3, gamma=0.4,\n",
      "              learning rate=0.1, learning_rate=0.001, max depth=8,\n",
      "              min_child_weigth=5, num_leaves=65)\n"
     ]
    }
   ],
   "source": [
    "print(random_search_lgb.best_estimator_)"
   ]
  },
  {
   "cell_type": "code",
   "execution_count": 59,
   "metadata": {},
   "outputs": [],
   "source": [
    "from lightgbm import LGBMRegressor\n",
    "m_lgb = LGBMRegressor(booster='gbtree', boosting_type='gbdt', class_weight=None,\n",
    "              colsample_bytree=0.4, gamma=0.4, importance_type='split',\n",
    "              learning_rate=0.001, max_depth=5,\n",
    "              min_child_samples=20, min_child_weight=3,\n",
    "              min_split_gain=0.0, n_estimators=100, n_jobs=-1, num_leaves=65,\n",
    "              objective=None, random_state=None, reg_alpha=0.0, reg_lambda=0.0,\n",
    "              silent=True, subsample=1.0, subsample_for_bin=200000,\n",
    "              subsample_freq=0)"
   ]
  },
  {
   "cell_type": "code",
   "execution_count": 60,
   "metadata": {},
   "outputs": [
    {
     "name": "stdout",
     "output_type": "stream",
     "text": [
      "[LightGBM] [Warning] Unknown parameter: booster\n",
      "[LightGBM] [Warning] Unknown parameter: gamma\n"
     ]
    },
    {
     "data": {
      "text/plain": [
       "LGBMRegressor(booster='gbtree', colsample_bytree=0.4, gamma=0.4,\n",
       "              learning_rate=0.001, max_depth=5, min_child_weight=3,\n",
       "              num_leaves=65)"
      ]
     },
     "execution_count": 60,
     "metadata": {},
     "output_type": "execute_result"
    }
   ],
   "source": [
    "m_lgb.fit(X_train,y_train)"
   ]
  },
  {
   "cell_type": "code",
   "execution_count": 61,
   "metadata": {},
   "outputs": [],
   "source": [
    "y_lgb = m_lgb.predict(X_test)"
   ]
  },
  {
   "cell_type": "code",
   "execution_count": 62,
   "metadata": {},
   "outputs": [
    {
     "name": "stdout",
     "output_type": "stream",
     "text": [
      "2771804533890.272\n"
     ]
    }
   ],
   "source": [
    "mse_lgb = round(mean_squared_error(y_test, y_lgb),3)\n",
    "print(mse_lgb)"
   ]
  },
  {
   "cell_type": "code",
   "execution_count": 63,
   "metadata": {},
   "outputs": [],
   "source": [
    "errop2= (y_test - y_lgb)*100/y_test\n",
    "# em porcentagem"
   ]
  },
  {
   "cell_type": "code",
   "execution_count": 64,
   "metadata": {},
   "outputs": [
    {
     "name": "stdout",
     "output_type": "stream",
     "text": [
      "[0.123, 0.123, 0.123, 0.123, 0.123, 0.123, 0.123, 0.123, 0.123, 0.123, 0.123, 0.123, 0.123, 0.123, 0.123, 0.123]\n"
     ]
    }
   ],
   "source": [
    "a = [0.123]\n",
    "a = a*16\n",
    "print(a)"
   ]
  },
  {
   "cell_type": "code",
   "execution_count": 65,
   "metadata": {},
   "outputs": [
    {
     "name": "stdout",
     "output_type": "stream",
     "text": [
      "541555015490.016 2771804533890.272\n",
      "5.118\n"
     ]
    }
   ],
   "source": [
    "# novo erro: modelo simples, com a média do conjunto treino\n",
    "mse_m = mean_squared_error(y_test,a)\n",
    "# comparativo entre o modelo tree e o modelo simples\n",
    "r_lgb = mse_lgb/mse_m\n",
    "print(round(mse_m,3), round(mse_lgb,3))\n",
    "print(round(r_lgb,3))"
   ]
  },
  {
   "cell_type": "code",
   "execution_count": 66,
   "metadata": {},
   "outputs": [
    {
     "data": {
      "image/png": "[encoded data removed]",
      "text/plain": [
       "<Figure size 1152x576 with 1 Axes>"
      ]
     },
     "metadata": {
      "needs_background": "light"
     },
     "output_type": "display_data"
    }
   ],
   "source": [
    "errop2.hist()\n",
    "plt.title(\"Distribuição erro percentual\")\n",
    "plt.xlabel(\"errop2\")\n",
    "plt.ylabel(\"ocorrência errop2\")\n",
    "plt.show()"
   ]
  },
  {
   "cell_type": "markdown",
   "metadata": {},
   "source": [
    "### XGBoosting"
   ]
  },
  {
   "cell_type": "code",
   "execution_count": 67,
   "metadata": {},
   "outputs": [
    {
     "name": "stdout",
     "output_type": "stream",
     "text": [
      "XGBRegressor(base_score=0.5, booster='gblinear', colsample_bylevel=1,\n",
      "             colsample_bynode=1, colsample_bytree=0.5, gamma=0, gpu_id=-1,\n",
      "             importance_type='gain', interaction_constraints='',\n",
      "             learning rate=0.05, learning_rate=0.001, max depth=11,\n",
      "             max_delta_step=0, max_depth=1, min_child_weight=1,\n",
      "             min_child_weigth=3, missing=nan, monotone_constraints='()',\n",
      "             n_estimators=100, n_jobs=0, num_parallel_tree=1, random_state=0,\n",
      "             reg_alpha=0, reg_lambda=1, scale_pos_weight=1, subsample=1,\n",
      "             tree_method='exact', validate_parameters=1, verbosity=None)\n"
     ]
    }
   ],
   "source": [
    "print(random_search_xgb.best_estimator_)"
   ]
  },
  {
   "cell_type": "code",
   "execution_count": 68,
   "metadata": {},
   "outputs": [],
   "source": [
    "from xgboost import XGBRegressor\n",
    "m_xgb_1= XGBRegressor(base_score=0.5, booster='gblinear', colsample_bylevel=1,\n",
    "             colsample_bynode=1, colsample_bytree=0.3, gamma=0.01, gpu_id=-1,\n",
    "             importance_type='gain', interaction_constraints='',\n",
    "             learning_rate=0.001,\n",
    "             max_delta_step=0, max_depth=1, min_child_weight=1,\n",
    "             missing=0.001, monotone_constraints='()',\n",
    "             n_estimators=100, n_jobs=0, num_parallel_tree=1,\n",
    "             objective='reg:squarederror', random_state=0, reg_alpha=0,\n",
    "             reg_lambda=1, scale_pos_weight=1, subsample=1, tree_method='exact',\n",
    "             validate_parameters=1, verbosity=None)"
   ]
  },
  {
   "cell_type": "code",
   "execution_count": 69,
   "metadata": {},
   "outputs": [
    {
     "name": "stdout",
     "output_type": "stream",
     "text": [
      "[19:50:13] WARNING: C:\\Users\\Administrator\\workspace\\xgboost-win64_release_1.2.0\\src\\learner.cc:516: \n",
      "Parameters: { colsample_bylevel, colsample_bynode, colsample_bytree, gamma, interaction_constraints, max_delta_step, max_depth, min_child_weight, monotone_constraints, num_parallel_tree, subsample, tree_method } might not be used.\n",
      "\n",
      "  This may not be accurate due to some parameters are only used in language bindings but\n",
      "  passed down to XGBoost core.  Or some parameters are not used but slip through this\n",
      "  verification. Please open an issue if you find above cases.\n",
      "\n",
      "\n"
     ]
    },
    {
     "data": {
      "text/plain": [
       "XGBRegressor(base_score=0.5, booster='gblinear', colsample_bylevel=1,\n",
       "             colsample_bynode=1, colsample_bytree=0.3, gamma=0.01, gpu_id=-1,\n",
       "             importance_type='gain', interaction_constraints='',\n",
       "             learning_rate=0.001, max_delta_step=0, max_depth=1,\n",
       "             min_child_weight=1, missing=0.001, monotone_constraints='()',\n",
       "             n_estimators=100, n_jobs=0, num_parallel_tree=1, random_state=0,\n",
       "             reg_alpha=0, reg_lambda=1, scale_pos_weight=1, subsample=1,\n",
       "             tree_method='exact', validate_parameters=1, verbosity=None)"
      ]
     },
     "execution_count": 69,
     "metadata": {},
     "output_type": "execute_result"
    }
   ],
   "source": [
    "m_xgb_1.fit(X_train,y_train)"
   ]
  },
  {
   "cell_type": "code",
   "execution_count": 70,
   "metadata": {},
   "outputs": [],
   "source": [
    "y_xgb_1= m_xgb_1.predict(X_test)"
   ]
  },
  {
   "cell_type": "code",
   "execution_count": 71,
   "metadata": {},
   "outputs": [
    {
     "name": "stdout",
     "output_type": "stream",
     "text": [
      "482618760197.246\n"
     ]
    }
   ],
   "source": [
    "mse_xgb_1 = round(mean_squared_error(y_test, y_xgb_1),3)\n",
    "print (mse_xgb_1)"
   ]
  },
  {
   "cell_type": "code",
   "execution_count": 72,
   "metadata": {},
   "outputs": [],
   "source": [
    "errop2= (y_test - y_xgb_1)*100/y_test\n",
    "# em porcentagem"
   ]
  },
  {
   "cell_type": "code",
   "execution_count": 73,
   "metadata": {},
   "outputs": [
    {
     "name": "stdout",
     "output_type": "stream",
     "text": [
      "541555015490.016 482618760197.246\n",
      "0.891\n"
     ]
    }
   ],
   "source": [
    "# novo erro: modelo simples, com a média do conjunto treino\n",
    "mse_m = mean_squared_error(y_test,a)\n",
    "# comparativo entre o modelo tree e o modelo simples\n",
    "r_xgb_1 = mse_xgb_1/mse_m\n",
    "print(round(mse_m,3), round(mse_xgb_1,3))\n",
    "print(round(r_xgb_1,3))"
   ]
  },
  {
   "cell_type": "code",
   "execution_count": 74,
   "metadata": {},
   "outputs": [
    {
     "data": {
      "image/png": "[encoded data removed]",
      "text/plain": [
       "<Figure size 1152x576 with 1 Axes>"
      ]
     },
     "metadata": {
      "needs_background": "light"
     },
     "output_type": "display_data"
    }
   ],
   "source": [
    "errop2.hist()\n",
    "plt.title(\"Distribuição erro percentual\")\n",
    "plt.xlabel(\"errop2\")\n",
    "plt.ylabel(\"ocorrência errop2\")\n",
    "plt.show()"
   ]
  },
  {
   "cell_type": "markdown",
   "metadata": {},
   "source": [
    "### Adaptative Boosting"
   ]
  },
  {
   "cell_type": "code",
   "execution_count": 75,
   "metadata": {},
   "outputs": [
    {
     "name": "stdout",
     "output_type": "stream",
     "text": [
      "AdaBoostRegressor(base_estimator=DecisionTreeRegressor(max_depth=1),\n",
      "                  learning_rate=0.09, n_estimators=30)\n"
     ]
    }
   ],
   "source": [
    "print(random_search_ada.best_estimator_)"
   ]
  },
  {
   "cell_type": "code",
   "execution_count": 76,
   "metadata": {},
   "outputs": [],
   "source": [
    "m_ada = AdaBoostRegressor(base_estimator=DecisionTreeRegressor(criterion='mse',\n",
    "                                                       max_depth=1,\n",
    "                                                       max_features=None,\n",
    "                                                       max_leaf_nodes=None,\n",
    "                                                       min_impurity_decrease=0.0,\n",
    "                                                       min_impurity_split=None,\n",
    "                                                       min_samples_leaf=1,\n",
    "                                                       min_samples_split=2,\n",
    "                                                       min_weight_fraction_leaf=0.0,\n",
    "                                                       presort=False,\n",
    "                                                       random_state=None,\n",
    "                                                       splitter='best'),\n",
    "                  learning_rate=0.1, loss='linear', n_estimators=30,\n",
    "                  random_state=None)"
   ]
  },
  {
   "cell_type": "code",
   "execution_count": 77,
   "metadata": {},
   "outputs": [
    {
     "name": "stderr",
     "output_type": "stream",
     "text": [
      "C:\\Users\\Acer\\anaconda3\\lib\\site-packages\\sklearn\\tree\\_classes.py:327: FutureWarning: The parameter 'presort' is deprecated and has no effect. It will be removed in v0.24. You can suppress this warning by not passing any value to the 'presort' parameter.\n",
      "  FutureWarning)\n",
      "C:\\Users\\Acer\\anaconda3\\lib\\site-packages\\sklearn\\tree\\_classes.py:327: FutureWarning: The parameter 'presort' is deprecated and has no effect. It will be removed in v0.24. You can suppress this warning by not passing any value to the 'presort' parameter.\n",
      "  FutureWarning)\n",
      "C:\\Users\\Acer\\anaconda3\\lib\\site-packages\\sklearn\\tree\\_classes.py:327: FutureWarning: The parameter 'presort' is deprecated and has no effect. It will be removed in v0.24. You can suppress this warning by not passing any value to the 'presort' parameter.\n",
      "  FutureWarning)\n",
      "C:\\Users\\Acer\\anaconda3\\lib\\site-packages\\sklearn\\tree\\_classes.py:327: FutureWarning: The parameter 'presort' is deprecated and has no effect. It will be removed in v0.24. You can suppress this warning by not passing any value to the 'presort' parameter.\n",
      "  FutureWarning)\n",
      "C:\\Users\\Acer\\anaconda3\\lib\\site-packages\\sklearn\\tree\\_classes.py:327: FutureWarning: The parameter 'presort' is deprecated and has no effect. It will be removed in v0.24. You can suppress this warning by not passing any value to the 'presort' parameter.\n",
      "  FutureWarning)\n",
      "C:\\Users\\Acer\\anaconda3\\lib\\site-packages\\sklearn\\tree\\_classes.py:327: FutureWarning: The parameter 'presort' is deprecated and has no effect. It will be removed in v0.24. You can suppress this warning by not passing any value to the 'presort' parameter.\n",
      "  FutureWarning)\n",
      "C:\\Users\\Acer\\anaconda3\\lib\\site-packages\\sklearn\\tree\\_classes.py:327: FutureWarning: The parameter 'presort' is deprecated and has no effect. It will be removed in v0.24. You can suppress this warning by not passing any value to the 'presort' parameter.\n",
      "  FutureWarning)\n",
      "C:\\Users\\Acer\\anaconda3\\lib\\site-packages\\sklearn\\tree\\_classes.py:327: FutureWarning: The parameter 'presort' is deprecated and has no effect. It will be removed in v0.24. You can suppress this warning by not passing any value to the 'presort' parameter.\n",
      "  FutureWarning)\n",
      "C:\\Users\\Acer\\anaconda3\\lib\\site-packages\\sklearn\\tree\\_classes.py:327: FutureWarning: The parameter 'presort' is deprecated and has no effect. It will be removed in v0.24. You can suppress this warning by not passing any value to the 'presort' parameter.\n",
      "  FutureWarning)\n",
      "C:\\Users\\Acer\\anaconda3\\lib\\site-packages\\sklearn\\tree\\_classes.py:327: FutureWarning: The parameter 'presort' is deprecated and has no effect. It will be removed in v0.24. You can suppress this warning by not passing any value to the 'presort' parameter.\n",
      "  FutureWarning)\n",
      "C:\\Users\\Acer\\anaconda3\\lib\\site-packages\\sklearn\\tree\\_classes.py:327: FutureWarning: The parameter 'presort' is deprecated and has no effect. It will be removed in v0.24. You can suppress this warning by not passing any value to the 'presort' parameter.\n",
      "  FutureWarning)\n",
      "C:\\Users\\Acer\\anaconda3\\lib\\site-packages\\sklearn\\tree\\_classes.py:327: FutureWarning: The parameter 'presort' is deprecated and has no effect. It will be removed in v0.24. You can suppress this warning by not passing any value to the 'presort' parameter.\n",
      "  FutureWarning)\n",
      "C:\\Users\\Acer\\anaconda3\\lib\\site-packages\\sklearn\\tree\\_classes.py:327: FutureWarning: The parameter 'presort' is deprecated and has no effect. It will be removed in v0.24. You can suppress this warning by not passing any value to the 'presort' parameter.\n",
      "  FutureWarning)\n",
      "C:\\Users\\Acer\\anaconda3\\lib\\site-packages\\sklearn\\tree\\_classes.py:327: FutureWarning: The parameter 'presort' is deprecated and has no effect. It will be removed in v0.24. You can suppress this warning by not passing any value to the 'presort' parameter.\n",
      "  FutureWarning)\n",
      "C:\\Users\\Acer\\anaconda3\\lib\\site-packages\\sklearn\\tree\\_classes.py:327: FutureWarning: The parameter 'presort' is deprecated and has no effect. It will be removed in v0.24. You can suppress this warning by not passing any value to the 'presort' parameter.\n",
      "  FutureWarning)\n",
      "C:\\Users\\Acer\\anaconda3\\lib\\site-packages\\sklearn\\tree\\_classes.py:327: FutureWarning: The parameter 'presort' is deprecated and has no effect. It will be removed in v0.24. You can suppress this warning by not passing any value to the 'presort' parameter.\n",
      "  FutureWarning)\n",
      "C:\\Users\\Acer\\anaconda3\\lib\\site-packages\\sklearn\\tree\\_classes.py:327: FutureWarning: The parameter 'presort' is deprecated and has no effect. It will be removed in v0.24. You can suppress this warning by not passing any value to the 'presort' parameter.\n",
      "  FutureWarning)\n",
      "C:\\Users\\Acer\\anaconda3\\lib\\site-packages\\sklearn\\tree\\_classes.py:327: FutureWarning: The parameter 'presort' is deprecated and has no effect. It will be removed in v0.24. You can suppress this warning by not passing any value to the 'presort' parameter.\n",
      "  FutureWarning)\n",
      "C:\\Users\\Acer\\anaconda3\\lib\\site-packages\\sklearn\\tree\\_classes.py:327: FutureWarning: The parameter 'presort' is deprecated and has no effect. It will be removed in v0.24. You can suppress this warning by not passing any value to the 'presort' parameter.\n",
      "  FutureWarning)\n",
      "C:\\Users\\Acer\\anaconda3\\lib\\site-packages\\sklearn\\tree\\_classes.py:327: FutureWarning: The parameter 'presort' is deprecated and has no effect. It will be removed in v0.24. You can suppress this warning by not passing any value to the 'presort' parameter.\n",
      "  FutureWarning)\n",
      "C:\\Users\\Acer\\anaconda3\\lib\\site-packages\\sklearn\\tree\\_classes.py:327: FutureWarning: The parameter 'presort' is deprecated and has no effect. It will be removed in v0.24. You can suppress this warning by not passing any value to the 'presort' parameter.\n",
      "  FutureWarning)\n",
      "C:\\Users\\Acer\\anaconda3\\lib\\site-packages\\sklearn\\tree\\_classes.py:327: FutureWarning: The parameter 'presort' is deprecated and has no effect. It will be removed in v0.24. You can suppress this warning by not passing any value to the 'presort' parameter.\n",
      "  FutureWarning)\n",
      "C:\\Users\\Acer\\anaconda3\\lib\\site-packages\\sklearn\\tree\\_classes.py:327: FutureWarning: The parameter 'presort' is deprecated and has no effect. It will be removed in v0.24. You can suppress this warning by not passing any value to the 'presort' parameter.\n",
      "  FutureWarning)\n",
      "C:\\Users\\Acer\\anaconda3\\lib\\site-packages\\sklearn\\tree\\_classes.py:327: FutureWarning: The parameter 'presort' is deprecated and has no effect. It will be removed in v0.24. You can suppress this warning by not passing any value to the 'presort' parameter.\n",
      "  FutureWarning)\n",
      "C:\\Users\\Acer\\anaconda3\\lib\\site-packages\\sklearn\\tree\\_classes.py:327: FutureWarning: The parameter 'presort' is deprecated and has no effect. It will be removed in v0.24. You can suppress this warning by not passing any value to the 'presort' parameter.\n",
      "  FutureWarning)\n",
      "C:\\Users\\Acer\\anaconda3\\lib\\site-packages\\sklearn\\tree\\_classes.py:327: FutureWarning: The parameter 'presort' is deprecated and has no effect. It will be removed in v0.24. You can suppress this warning by not passing any value to the 'presort' parameter.\n",
      "  FutureWarning)\n",
      "C:\\Users\\Acer\\anaconda3\\lib\\site-packages\\sklearn\\tree\\_classes.py:327: FutureWarning: The parameter 'presort' is deprecated and has no effect. It will be removed in v0.24. You can suppress this warning by not passing any value to the 'presort' parameter.\n",
      "  FutureWarning)\n",
      "C:\\Users\\Acer\\anaconda3\\lib\\site-packages\\sklearn\\tree\\_classes.py:327: FutureWarning: The parameter 'presort' is deprecated and has no effect. It will be removed in v0.24. You can suppress this warning by not passing any value to the 'presort' parameter.\n",
      "  FutureWarning)\n",
      "C:\\Users\\Acer\\anaconda3\\lib\\site-packages\\sklearn\\tree\\_classes.py:327: FutureWarning: The parameter 'presort' is deprecated and has no effect. It will be removed in v0.24. You can suppress this warning by not passing any value to the 'presort' parameter.\n",
      "  FutureWarning)\n",
      "C:\\Users\\Acer\\anaconda3\\lib\\site-packages\\sklearn\\tree\\_classes.py:327: FutureWarning: The parameter 'presort' is deprecated and has no effect. It will be removed in v0.24. You can suppress this warning by not passing any value to the 'presort' parameter.\n",
      "  FutureWarning)\n"
     ]
    },
    {
     "data": {
      "text/plain": [
       "AdaBoostRegressor(base_estimator=DecisionTreeRegressor(max_depth=1,\n",
       "                                                       presort=False),\n",
       "                  learning_rate=0.1, n_estimators=30)"
      ]
     },
     "execution_count": 77,
     "metadata": {},
     "output_type": "execute_result"
    }
   ],
   "source": [
    "m_ada.fit(X_train,y_train)"
   ]
  },
  {
   "cell_type": "code",
   "execution_count": 78,
   "metadata": {},
   "outputs": [],
   "source": [
    "y_ada = m_ada.predict(X_test)"
   ]
  },
  {
   "cell_type": "code",
   "execution_count": 79,
   "metadata": {},
   "outputs": [
    {
     "name": "stdout",
     "output_type": "stream",
     "text": [
      "731307296483.6602\n"
     ]
    }
   ],
   "source": [
    "mse_ada = round(mean_squared_error(y_test, y_ada),8)\n",
    "print (mse_ada)"
   ]
  },
  {
   "cell_type": "code",
   "execution_count": 80,
   "metadata": {},
   "outputs": [],
   "source": [
    "errop2= (y_test - y_ada)*100/y_test\n",
    "# em porcentagem"
   ]
  },
  {
   "cell_type": "code",
   "execution_count": 81,
   "metadata": {},
   "outputs": [
    {
     "name": "stdout",
     "output_type": "stream",
     "text": [
      "541555015490.016 731307296483.66\n",
      "1.35\n"
     ]
    }
   ],
   "source": [
    "# novo erro: modelo simples, com a média do conjunto treino\n",
    "mse_m = mean_squared_error(y_test,a)\n",
    "# comparativo entre o modelo tree e o modelo simples\n",
    "r_ada = mse_ada/mse_m\n",
    "print(round(mse_m,3), round(mse_ada,3))\n",
    "print(round(r_ada,3))"
   ]
  },
  {
   "cell_type": "code",
   "execution_count": 82,
   "metadata": {},
   "outputs": [
    {
     "data": {
      "image/png": "[encoded data removed]",
      "text/plain": [
       "<Figure size 1152x576 with 1 Axes>"
      ]
     },
     "metadata": {
      "needs_background": "light"
     },
     "output_type": "display_data"
    }
   ],
   "source": [
    "errop2.hist()\n",
    "plt.title(\"Distribuição erro percentual\")\n",
    "plt.xlabel(\"errop2\")\n",
    "plt.ylabel(\"ocorrência errop2\")\n",
    "plt.show()"
   ]
  },
  {
   "cell_type": "code",
   "execution_count": 83,
   "metadata": {},
   "outputs": [
    {
     "data": {
      "text/html": [
       "<div>\n",
       "<style scoped>\n",
       "    .dataframe tbody tr th:only-of-type {\n",
       "        vertical-align: middle;\n",
       "    }\n",
       "\n",
       "    .dataframe tbody tr th {\n",
       "        vertical-align: top;\n",
       "    }\n",
       "\n",
       "    .dataframe thead th {\n",
       "        text-align: right;\n",
       "    }\n",
       "</style>\n",
       "<table border=\"1\" class=\"dataframe\">\n",
       "  <thead>\n",
       "    <tr style=\"text-align: right;\">\n",
       "      <th></th>\n",
       "      <th>Mean Square Error (Eolica)</th>\n",
       "      <th>Razão_modelo_simples</th>\n",
       "    </tr>\n",
       "  </thead>\n",
       "  <tbody>\n",
       "    <tr>\n",
       "      <th>Random_Forest</th>\n",
       "      <td>7.673143e+11</td>\n",
       "      <td>1.416872</td>\n",
       "    </tr>\n",
       "    <tr>\n",
       "      <th>GradientBoost</th>\n",
       "      <td>1.043088e+12</td>\n",
       "      <td>1.926099</td>\n",
       "    </tr>\n",
       "    <tr>\n",
       "      <th>LightGBM</th>\n",
       "      <td>2.771805e+12</td>\n",
       "      <td>5.118233</td>\n",
       "    </tr>\n",
       "    <tr>\n",
       "      <th>XGBoost_1</th>\n",
       "      <td>4.826188e+11</td>\n",
       "      <td>0.891172</td>\n",
       "    </tr>\n",
       "    <tr>\n",
       "      <th>AdaBoost</th>\n",
       "      <td>7.313073e+11</td>\n",
       "      <td>1.350384</td>\n",
       "    </tr>\n",
       "  </tbody>\n",
       "</table>\n",
       "</div>"
      ],
      "text/plain": [
       "               Mean Square Error (Eolica)  Razão_modelo_simples\n",
       "Random_Forest                7.673143e+11              1.416872\n",
       "GradientBoost                1.043088e+12              1.926099\n",
       "LightGBM                     2.771805e+12              5.118233\n",
       "XGBoost_1                    4.826188e+11              0.891172\n",
       "AdaBoost                     7.313073e+11              1.350384"
      ]
     },
     "execution_count": 83,
     "metadata": {},
     "output_type": "execute_result"
    }
   ],
   "source": [
    "# erro quadrático médio entre média do treino e previsto\n",
    "\n",
    "models=['Random_Forest','GradientBoost','LightGBM','XGBoost_1','AdaBoost']\n",
    "mse=[mse_rf,mse_gbr,mse_lgb,mse_xgb_1,mse_ada]\n",
    "r=[r_rf,r_gbr,r_lgb,r_xgb_1,r_ada]\n",
    "\n",
    "lista = list(zip(mse,r))\n",
    "d = pd.DataFrame(lista, columns =['Mean Square Error (Eolica)', 'Razão_modelo_simples'], index=models)\n",
    "d"
   ]
  },
  {
   "cell_type": "markdown",
   "metadata": {},
   "source": [
    "### Predição dados Brasil"
   ]
  },
  {
   "cell_type": "code",
   "execution_count": 84,
   "metadata": {},
   "outputs": [
    {
     "data": {
      "text/html": [
       "<div>\n",
       "<style scoped>\n",
       "    .dataframe tbody tr th:only-of-type {\n",
       "        vertical-align: middle;\n",
       "    }\n",
       "\n",
       "    .dataframe tbody tr th {\n",
       "        vertical-align: top;\n",
       "    }\n",
       "\n",
       "    .dataframe thead th {\n",
       "        text-align: right;\n",
       "    }\n",
       "</style>\n",
       "<table border=\"1\" class=\"dataframe\">\n",
       "  <thead>\n",
       "    <tr style=\"text-align: right;\">\n",
       "      <th></th>\n",
       "      <th>pibe_capita</th>\n",
       "      <th>pibe_area</th>\n",
       "      <th>pope_areae</th>\n",
       "      <th>pibe_GWe</th>\n",
       "      <th>GWe_pope</th>\n",
       "    </tr>\n",
       "  </thead>\n",
       "  <tbody>\n",
       "    <tr>\n",
       "      <th>0</th>\n",
       "      <td>321.390342</td>\n",
       "      <td>0.001474</td>\n",
       "      <td>0.000005</td>\n",
       "      <td>0.015955</td>\n",
       "      <td>20143.929585</td>\n",
       "    </tr>\n",
       "    <tr>\n",
       "      <th>1</th>\n",
       "      <td>1069.041751</td>\n",
       "      <td>0.213696</td>\n",
       "      <td>0.000200</td>\n",
       "      <td>0.015767</td>\n",
       "      <td>67803.481941</td>\n",
       "    </tr>\n",
       "  </tbody>\n",
       "</table>\n",
       "</div>"
      ],
      "text/plain": [
       "   pibe_capita  pibe_area  pope_areae  pibe_GWe      GWe_pope\n",
       "0   321.390342   0.001474    0.000005  0.015955  20143.929585\n",
       "1  1069.041751   0.213696    0.000200  0.015767  67803.481941"
      ]
     },
     "execution_count": 84,
     "metadata": {},
     "output_type": "execute_result"
    }
   ],
   "source": [
    "inputb = pd.read_excel(r'Xb.xlsx', header=0)\n",
    "inputb.head(2)"
   ]
  },
  {
   "cell_type": "code",
   "execution_count": 85,
   "metadata": {},
   "outputs": [
    {
     "data": {
      "text/html": [
       "<div>\n",
       "<style scoped>\n",
       "    .dataframe tbody tr th:only-of-type {\n",
       "        vertical-align: middle;\n",
       "    }\n",
       "\n",
       "    .dataframe tbody tr th {\n",
       "        vertical-align: top;\n",
       "    }\n",
       "\n",
       "    .dataframe thead th {\n",
       "        text-align: right;\n",
       "    }\n",
       "</style>\n",
       "<table border=\"1\" class=\"dataframe\">\n",
       "  <thead>\n",
       "    <tr style=\"text-align: right;\">\n",
       "      <th></th>\n",
       "      <th>pibe_capita</th>\n",
       "      <th>pibe_areae</th>\n",
       "      <th>pope_areae</th>\n",
       "      <th>pibe_GWe</th>\n",
       "      <th>GWe_pope</th>\n",
       "    </tr>\n",
       "  </thead>\n",
       "  <tbody>\n",
       "    <tr>\n",
       "      <th>0</th>\n",
       "      <td>321.390342</td>\n",
       "      <td>0.001474</td>\n",
       "      <td>0.000005</td>\n",
       "      <td>0.015955</td>\n",
       "      <td>20143.929585</td>\n",
       "    </tr>\n",
       "    <tr>\n",
       "      <th>1</th>\n",
       "      <td>1069.041751</td>\n",
       "      <td>0.213696</td>\n",
       "      <td>0.000200</td>\n",
       "      <td>0.015767</td>\n",
       "      <td>67803.481941</td>\n",
       "    </tr>\n",
       "  </tbody>\n",
       "</table>\n",
       "</div>"
      ],
      "text/plain": [
       "   pibe_capita  pibe_areae  pope_areae  pibe_GWe      GWe_pope\n",
       "0   321.390342    0.001474    0.000005  0.015955  20143.929585\n",
       "1  1069.041751    0.213696    0.000200  0.015767  67803.481941"
      ]
     },
     "execution_count": 85,
     "metadata": {},
     "output_type": "execute_result"
    }
   ],
   "source": [
    "inputb = inputb.rename(columns = {'pibe_area':'pibe_areae'}, inplace = False)\n",
    "inputb.head(2)"
   ]
  },
  {
   "cell_type": "code",
   "execution_count": 86,
   "metadata": {},
   "outputs": [
    {
     "data": {
      "text/plain": [
       "array([249571.78, 218175.62, 216362.19, 230001.8 , 278737.4 , 227777.9 ,\n",
       "       237391.5 , 236280.5 , 256222.89, 238330.42, 213028.61, 223092.45,\n",
       "       187433.17, 232488.12, 199654.05, 261813.73], dtype=float32)"
      ]
     },
     "execution_count": 86,
     "metadata": {},
     "output_type": "execute_result"
    }
   ],
   "source": [
    "y_xgb_1= m_xgb_1.predict(X_test)\n",
    "y_xgb_1"
   ]
  },
  {
   "cell_type": "code",
   "execution_count": 87,
   "metadata": {},
   "outputs": [
    {
     "data": {
      "text/plain": [
       "array([1.03582256e+08, 3.47085376e+08, 8.93721200e+06, 7.51850900e+06,\n",
       "       8.12480320e+07, 2.25350928e+08, 3.60481960e+07, 5.62198480e+07,\n",
       "       4.25575000e+06, 6.15491300e+06, 1.07824224e+08, 5.01695520e+07,\n",
       "       7.99832704e+08, 6.11036300e+06, 4.82329600e+08, 3.00388140e+07,\n",
       "       9.68561280e+08, 7.88609200e+07, 1.07155168e+08, 2.35146000e+06,\n",
       "       3.22046900e+07, 1.76423552e+08, 4.57226464e+08, 1.02502464e+09,\n",
       "       5.68933800e+06], dtype=float32)"
      ]
     },
     "execution_count": 87,
     "metadata": {},
     "output_type": "execute_result"
    }
   ],
   "source": [
    "y_xgb_1= m_xgb_1.predict(inputb)\n",
    "y_xgb_1"
   ]
  },
  {
   "cell_type": "code",
   "execution_count": 88,
   "metadata": {},
   "outputs": [
    {
     "data": {
      "text/html": [
       "<div>\n",
       "<style scoped>\n",
       "    .dataframe tbody tr th:only-of-type {\n",
       "        vertical-align: middle;\n",
       "    }\n",
       "\n",
       "    .dataframe tbody tr th {\n",
       "        vertical-align: top;\n",
       "    }\n",
       "\n",
       "    .dataframe thead th {\n",
       "        text-align: right;\n",
       "    }\n",
       "</style>\n",
       "<table border=\"1\" class=\"dataframe\">\n",
       "  <thead>\n",
       "    <tr style=\"text-align: right;\">\n",
       "      <th></th>\n",
       "      <th>Eolica</th>\n",
       "    </tr>\n",
       "  </thead>\n",
       "  <tbody>\n",
       "    <tr>\n",
       "      <th>0</th>\n",
       "      <td>103582256.0</td>\n",
       "    </tr>\n",
       "    <tr>\n",
       "      <th>1</th>\n",
       "      <td>347085376.0</td>\n",
       "    </tr>\n",
       "    <tr>\n",
       "      <th>2</th>\n",
       "      <td>8937212.0</td>\n",
       "    </tr>\n",
       "    <tr>\n",
       "      <th>3</th>\n",
       "      <td>7518509.0</td>\n",
       "    </tr>\n",
       "    <tr>\n",
       "      <th>4</th>\n",
       "      <td>81248032.0</td>\n",
       "    </tr>\n",
       "  </tbody>\n",
       "</table>\n",
       "</div>"
      ],
      "text/plain": [
       "        Eolica\n",
       "0  103582256.0\n",
       "1  347085376.0\n",
       "2    8937212.0\n",
       "3    7518509.0\n",
       "4   81248032.0"
      ]
     },
     "execution_count": 88,
     "metadata": {},
     "output_type": "execute_result"
    }
   ],
   "source": [
    "pred_eolica = pd.DataFrame({'y_xgb_1': y_xgb_1}, columns=['y_xgb_1'])\n",
    "\n",
    "pred_eolica = pred_eolica.rename(columns = {'y_xgb_1':'Eolica'}, inplace = False)\n",
    "pred_eolica.head()"
   ]
  },
  {
   "cell_type": "code",
   "execution_count": 89,
   "metadata": {},
   "outputs": [
    {
     "data": {
      "text/html": [
       "<div>\n",
       "<style scoped>\n",
       "    .dataframe tbody tr th:only-of-type {\n",
       "        vertical-align: middle;\n",
       "    }\n",
       "\n",
       "    .dataframe tbody tr th {\n",
       "        vertical-align: top;\n",
       "    }\n",
       "\n",
       "    .dataframe thead th {\n",
       "        text-align: right;\n",
       "    }\n",
       "</style>\n",
       "<table border=\"1\" class=\"dataframe\">\n",
       "  <thead>\n",
       "    <tr style=\"text-align: right;\">\n",
       "      <th></th>\n",
       "      <th>Estado</th>\n",
       "    </tr>\n",
       "  </thead>\n",
       "  <tbody>\n",
       "    <tr>\n",
       "      <th>0</th>\n",
       "      <td>Acre</td>\n",
       "    </tr>\n",
       "    <tr>\n",
       "      <th>1</th>\n",
       "      <td>Alagoas</td>\n",
       "    </tr>\n",
       "  </tbody>\n",
       "</table>\n",
       "</div>"
      ],
      "text/plain": [
       "    Estado\n",
       "0     Acre\n",
       "1  Alagoas"
      ]
     },
     "execution_count": 89,
     "metadata": {},
     "output_type": "execute_result"
    }
   ],
   "source": [
    "br = pd.read_excel(r'Brasil_dataset_mestre.xlsx')\n",
    "br=br.drop(columns=['PIB em 2017 (1.000.000 R$)','Área (km2)','Geração de energia GW.h','População'])\n",
    "br = br.rename({'Unidades da Federação': 'Estado'}, axis = 1)\n",
    "br = pd.DataFrame(data=br)\n",
    "br.head(2)"
   ]
  },
  {
   "cell_type": "code",
   "execution_count": 94,
   "metadata": {},
   "outputs": [
    {
     "data": {
      "text/html": [
       "<div>\n",
       "<style scoped>\n",
       "    .dataframe tbody tr th:only-of-type {\n",
       "        vertical-align: middle;\n",
       "    }\n",
       "\n",
       "    .dataframe tbody tr th {\n",
       "        vertical-align: top;\n",
       "    }\n",
       "\n",
       "    .dataframe thead th {\n",
       "        text-align: right;\n",
       "    }\n",
       "</style>\n",
       "<table border=\"1\" class=\"dataframe\">\n",
       "  <thead>\n",
       "    <tr style=\"text-align: right;\">\n",
       "      <th></th>\n",
       "      <th>Estado</th>\n",
       "      <th>Eolica</th>\n",
       "    </tr>\n",
       "  </thead>\n",
       "  <tbody>\n",
       "    <tr>\n",
       "      <th>23</th>\n",
       "      <td>Santa Catarina</td>\n",
       "      <td>1.025025e+09</td>\n",
       "    </tr>\n",
       "    <tr>\n",
       "      <th>16</th>\n",
       "      <td>Pernambuco</td>\n",
       "      <td>9.685613e+08</td>\n",
       "    </tr>\n",
       "    <tr>\n",
       "      <th>12</th>\n",
       "      <td>Minas Gerais</td>\n",
       "      <td>7.998327e+08</td>\n",
       "    </tr>\n",
       "    <tr>\n",
       "      <th>14</th>\n",
       "      <td>Paraíba</td>\n",
       "      <td>4.823296e+08</td>\n",
       "    </tr>\n",
       "    <tr>\n",
       "      <th>22</th>\n",
       "      <td>Roraima</td>\n",
       "      <td>4.572265e+08</td>\n",
       "    </tr>\n",
       "    <tr>\n",
       "      <th>1</th>\n",
       "      <td>Alagoas</td>\n",
       "      <td>3.470854e+08</td>\n",
       "    </tr>\n",
       "    <tr>\n",
       "      <th>5</th>\n",
       "      <td>Ceará</td>\n",
       "      <td>2.253509e+08</td>\n",
       "    </tr>\n",
       "    <tr>\n",
       "      <th>21</th>\n",
       "      <td>Rondônia</td>\n",
       "      <td>1.764236e+08</td>\n",
       "    </tr>\n",
       "    <tr>\n",
       "      <th>10</th>\n",
       "      <td>Mato Grosso</td>\n",
       "      <td>1.078242e+08</td>\n",
       "    </tr>\n",
       "    <tr>\n",
       "      <th>18</th>\n",
       "      <td>Rio de Janeiro</td>\n",
       "      <td>1.071552e+08</td>\n",
       "    </tr>\n",
       "  </tbody>\n",
       "</table>\n",
       "</div>"
      ],
      "text/plain": [
       "            Estado        Eolica\n",
       "23  Santa Catarina  1.025025e+09\n",
       "16      Pernambuco  9.685613e+08\n",
       "12    Minas Gerais  7.998327e+08\n",
       "14         Paraíba  4.823296e+08\n",
       "22         Roraima  4.572265e+08\n",
       "1          Alagoas  3.470854e+08\n",
       "5            Ceará  2.253509e+08\n",
       "21        Rondônia  1.764236e+08\n",
       "10     Mato Grosso  1.078242e+08\n",
       "18  Rio de Janeiro  1.071552e+08"
      ]
     },
     "execution_count": 94,
     "metadata": {},
     "output_type": "execute_result"
    }
   ],
   "source": [
    "prev_GWh = pd.concat([br,pred_eolica['Eolica']], axis=1, sort=False)\n",
    "prev_GWh = prev_GWh.sort_values(by=['Eolica'], ascending=False)\n",
    "prev_GWh.head(10)"
   ]
  },
  {
   "cell_type": "code",
   "execution_count": 95,
   "metadata": {},
   "outputs": [
    {
     "data": {
      "application/vnd.plotly.v1+json": {
       "config": {
        "plotlyServerURL": "https://plot.ly"
       },
       "data": [
        {
         "alignmentgroup": "True",
         "bingroup": "y",
         "histfunc": "sum",
         "hovertemplate": "Estado=%{y}<br>sum of Eolica=%{x}<extra></extra>",
         "legendgroup": "Santa Catarina",
         "marker": {
          "color": "#636efa"
         },
         "name": "Santa Catarina",
         "offsetgroup": "Santa Catarina",
         "orientation": "h",
         "showlegend": true,
         "type": "histogram",
         "x": [
          1025024640
         ],
         "xaxis": "x",
         "y": [
          "Santa Catarina"
         ],
         "yaxis": "y"
        },
        {
         "alignmentgroup": "True",
         "bingroup": "y",
         "histfunc": "sum",
         "hovertemplate": "Estado=%{y}<br>sum of Eolica=%{x}<extra></extra>",
         "legendgroup": "Pernambuco",
         "marker": {
          "color": "#EF553B"
         },
         "name": "Pernambuco",
         "offsetgroup": "Pernambuco",
         "orientation": "h",
         "showlegend": true,
         "type": "histogram",
         "x": [
          968561280
         ],
         "xaxis": "x",
         "y": [
          "Pernambuco"
         ],
         "yaxis": "y"
        },
        {
         "alignmentgroup": "True",
         "bingroup": "y",
         "histfunc": "sum",
         "hovertemplate": "Estado=%{y}<br>sum of Eolica=%{x}<extra></extra>",
         "legendgroup": "Minas Gerais",
         "marker": {
          "color": "#00cc96"
         },
         "name": "Minas Gerais",
         "offsetgroup": "Minas Gerais",
         "orientation": "h",
         "showlegend": true,
         "type": "histogram",
         "x": [
          799832704
         ],
         "xaxis": "x",
         "y": [
          "Minas Gerais"
         ],
         "yaxis": "y"
        },
        {
         "alignmentgroup": "True",
         "bingroup": "y",
         "histfunc": "sum",
         "hovertemplate": "Estado=%{y}<br>sum of Eolica=%{x}<extra></extra>",
         "legendgroup": "Paraíba",
         "marker": {
          "color": "#ab63fa"
         },
         "name": "Paraíba",
         "offsetgroup": "Paraíba",
         "orientation": "h",
         "showlegend": true,
         "type": "histogram",
         "x": [
          482329600
         ],
         "xaxis": "x",
         "y": [
          "Paraíba"
         ],
         "yaxis": "y"
        },
        {
         "alignmentgroup": "True",
         "bingroup": "y",
         "histfunc": "sum",
         "hovertemplate": "Estado=%{y}<br>sum of Eolica=%{x}<extra></extra>",
         "legendgroup": "Roraima",
         "marker": {
          "color": "#FFA15A"
         },
         "name": "Roraima",
         "offsetgroup": "Roraima",
         "orientation": "h",
         "showlegend": true,
         "type": "histogram",
         "x": [
          457226464
         ],
         "xaxis": "x",
         "y": [
          "Roraima"
         ],
         "yaxis": "y"
        },
        {
         "alignmentgroup": "True",
         "bingroup": "y",
         "histfunc": "sum",
         "hovertemplate": "Estado=%{y}<br>sum of Eolica=%{x}<extra></extra>",
         "legendgroup": "Alagoas",
         "marker": {
          "color": "#19d3f3"
         },
         "name": "Alagoas",
         "offsetgroup": "Alagoas",
         "orientation": "h",
         "showlegend": true,
         "type": "histogram",
         "x": [
          347085376
         ],
         "xaxis": "x",
         "y": [
          "Alagoas"
         ],
         "yaxis": "y"
        },
        {
         "alignmentgroup": "True",
         "bingroup": "y",
         "histfunc": "sum",
         "hovertemplate": "Estado=%{y}<br>sum of Eolica=%{x}<extra></extra>",
         "legendgroup": "Ceará",
         "marker": {
          "color": "#FF6692"
         },
         "name": "Ceará",
         "offsetgroup": "Ceará",
         "orientation": "h",
         "showlegend": true,
         "type": "histogram",
         "x": [
          225350928
         ],
         "xaxis": "x",
         "y": [
          "Ceará"
         ],
         "yaxis": "y"
        },
        {
         "alignmentgroup": "True",
         "bingroup": "y",
         "histfunc": "sum",
         "hovertemplate": "Estado=%{y}<br>sum of Eolica=%{x}<extra></extra>",
         "legendgroup": "Rondônia",
         "marker": {
          "color": "#B6E880"
         },
         "name": "Rondônia",
         "offsetgroup": "Rondônia",
         "orientation": "h",
         "showlegend": true,
         "type": "histogram",
         "x": [
          176423552
         ],
         "xaxis": "x",
         "y": [
          "Rondônia"
         ],
         "yaxis": "y"
        },
        {
         "alignmentgroup": "True",
         "bingroup": "y",
         "histfunc": "sum",
         "hovertemplate": "Estado=%{y}<br>sum of Eolica=%{x}<extra></extra>",
         "legendgroup": "Mato Grosso",
         "marker": {
          "color": "#FF97FF"
         },
         "name": "Mato Grosso",
         "offsetgroup": "Mato Grosso",
         "orientation": "h",
         "showlegend": true,
         "type": "histogram",
         "x": [
          107824224
         ],
         "xaxis": "x",
         "y": [
          "Mato Grosso"
         ],
         "yaxis": "y"
        },
        {
         "alignmentgroup": "True",
         "bingroup": "y",
         "histfunc": "sum",
         "hovertemplate": "Estado=%{y}<br>sum of Eolica=%{x}<extra></extra>",
         "legendgroup": "Rio de Janeiro",
         "marker": {
          "color": "#FECB52"
         },
         "name": "Rio de Janeiro",
         "offsetgroup": "Rio de Janeiro",
         "orientation": "h",
         "showlegend": true,
         "type": "histogram",
         "x": [
          107155168
         ],
         "xaxis": "x",
         "y": [
          "Rio de Janeiro"
         ],
         "yaxis": "y"
        },
        {
         "alignmentgroup": "True",
         "bingroup": "y",
         "histfunc": "sum",
         "hovertemplate": "Estado=%{y}<br>sum of Eolica=%{x}<extra></extra>",
         "legendgroup": "Acre",
         "marker": {
          "color": "#636efa"
         },
         "name": "Acre",
         "offsetgroup": "Acre",
         "orientation": "h",
         "showlegend": true,
         "type": "histogram",
         "x": [
          103582256
         ],
         "xaxis": "x",
         "y": [
          "Acre"
         ],
         "yaxis": "y"
        },
        {
         "alignmentgroup": "True",
         "bingroup": "y",
         "histfunc": "sum",
         "hovertemplate": "Estado=%{y}<br>sum of Eolica=%{x}<extra></extra>",
         "legendgroup": "Bahia",
         "marker": {
          "color": "#EF553B"
         },
         "name": "Bahia",
         "offsetgroup": "Bahia",
         "orientation": "h",
         "showlegend": true,
         "type": "histogram",
         "x": [
          81248032
         ],
         "xaxis": "x",
         "y": [
          "Bahia"
         ],
         "yaxis": "y"
        },
        {
         "alignmentgroup": "True",
         "bingroup": "y",
         "histfunc": "sum",
         "hovertemplate": "Estado=%{y}<br>sum of Eolica=%{x}<extra></extra>",
         "legendgroup": "Piauí",
         "marker": {
          "color": "#00cc96"
         },
         "name": "Piauí",
         "offsetgroup": "Piauí",
         "orientation": "h",
         "showlegend": true,
         "type": "histogram",
         "x": [
          78860920
         ],
         "xaxis": "x",
         "y": [
          "Piauí"
         ],
         "yaxis": "y"
        },
        {
         "alignmentgroup": "True",
         "bingroup": "y",
         "histfunc": "sum",
         "hovertemplate": "Estado=%{y}<br>sum of Eolica=%{x}<extra></extra>",
         "legendgroup": "Espírito Santo",
         "marker": {
          "color": "#ab63fa"
         },
         "name": "Espírito Santo",
         "offsetgroup": "Espírito Santo",
         "orientation": "h",
         "showlegend": true,
         "type": "histogram",
         "x": [
          56219848
         ],
         "xaxis": "x",
         "y": [
          "Espírito Santo"
         ],
         "yaxis": "y"
        },
        {
         "alignmentgroup": "True",
         "bingroup": "y",
         "histfunc": "sum",
         "hovertemplate": "Estado=%{y}<br>sum of Eolica=%{x}<extra></extra>",
         "legendgroup": "Mato Grosso do Sul",
         "marker": {
          "color": "#FFA15A"
         },
         "name": "Mato Grosso do Sul",
         "offsetgroup": "Mato Grosso do Sul",
         "orientation": "h",
         "showlegend": true,
         "type": "histogram",
         "x": [
          50169552
         ],
         "xaxis": "x",
         "y": [
          "Mato Grosso do Sul"
         ],
         "yaxis": "y"
        },
        {
         "alignmentgroup": "True",
         "bingroup": "y",
         "histfunc": "sum",
         "hovertemplate": "Estado=%{y}<br>sum of Eolica=%{x}<extra></extra>",
         "legendgroup": "Distrito Federal",
         "marker": {
          "color": "#19d3f3"
         },
         "name": "Distrito Federal",
         "offsetgroup": "Distrito Federal",
         "orientation": "h",
         "showlegend": true,
         "type": "histogram",
         "x": [
          36048196
         ],
         "xaxis": "x",
         "y": [
          "Distrito Federal"
         ],
         "yaxis": "y"
        },
        {
         "alignmentgroup": "True",
         "bingroup": "y",
         "histfunc": "sum",
         "hovertemplate": "Estado=%{y}<br>sum of Eolica=%{x}<extra></extra>",
         "legendgroup": "Rio Grande do Sul",
         "marker": {
          "color": "#FF6692"
         },
         "name": "Rio Grande do Sul",
         "offsetgroup": "Rio Grande do Sul",
         "orientation": "h",
         "showlegend": true,
         "type": "histogram",
         "x": [
          32204690
         ],
         "xaxis": "x",
         "y": [
          "Rio Grande do Sul"
         ],
         "yaxis": "y"
        },
        {
         "alignmentgroup": "True",
         "bingroup": "y",
         "histfunc": "sum",
         "hovertemplate": "Estado=%{y}<br>sum of Eolica=%{x}<extra></extra>",
         "legendgroup": "Pará",
         "marker": {
          "color": "#B6E880"
         },
         "name": "Pará",
         "offsetgroup": "Pará",
         "orientation": "h",
         "showlegend": true,
         "type": "histogram",
         "x": [
          30038814
         ],
         "xaxis": "x",
         "y": [
          "Pará"
         ],
         "yaxis": "y"
        },
        {
         "alignmentgroup": "True",
         "bingroup": "y",
         "histfunc": "sum",
         "hovertemplate": "Estado=%{y}<br>sum of Eolica=%{x}<extra></extra>",
         "legendgroup": "Amapá",
         "marker": {
          "color": "#FF97FF"
         },
         "name": "Amapá",
         "offsetgroup": "Amapá",
         "orientation": "h",
         "showlegend": true,
         "type": "histogram",
         "x": [
          8937212
         ],
         "xaxis": "x",
         "y": [
          "Amapá"
         ],
         "yaxis": "y"
        },
        {
         "alignmentgroup": "True",
         "bingroup": "y",
         "histfunc": "sum",
         "hovertemplate": "Estado=%{y}<br>sum of Eolica=%{x}<extra></extra>",
         "legendgroup": "Amazonas",
         "marker": {
          "color": "#FECB52"
         },
         "name": "Amazonas",
         "offsetgroup": "Amazonas",
         "orientation": "h",
         "showlegend": true,
         "type": "histogram",
         "x": [
          7518509
         ],
         "xaxis": "x",
         "y": [
          "Amazonas"
         ],
         "yaxis": "y"
        },
        {
         "alignmentgroup": "True",
         "bingroup": "y",
         "histfunc": "sum",
         "hovertemplate": "Estado=%{y}<br>sum of Eolica=%{x}<extra></extra>",
         "legendgroup": "Maranhão",
         "marker": {
          "color": "#636efa"
         },
         "name": "Maranhão",
         "offsetgroup": "Maranhão",
         "orientation": "h",
         "showlegend": true,
         "type": "histogram",
         "x": [
          6154913
         ],
         "xaxis": "x",
         "y": [
          "Maranhão"
         ],
         "yaxis": "y"
        },
        {
         "alignmentgroup": "True",
         "bingroup": "y",
         "histfunc": "sum",
         "hovertemplate": "Estado=%{y}<br>sum of Eolica=%{x}<extra></extra>",
         "legendgroup": "Paraná",
         "marker": {
          "color": "#EF553B"
         },
         "name": "Paraná",
         "offsetgroup": "Paraná",
         "orientation": "h",
         "showlegend": true,
         "type": "histogram",
         "x": [
          6110363
         ],
         "xaxis": "x",
         "y": [
          "Paraná"
         ],
         "yaxis": "y"
        },
        {
         "alignmentgroup": "True",
         "bingroup": "y",
         "histfunc": "sum",
         "hovertemplate": "Estado=%{y}<br>sum of Eolica=%{x}<extra></extra>",
         "legendgroup": "Sergipe",
         "marker": {
          "color": "#00cc96"
         },
         "name": "Sergipe",
         "offsetgroup": "Sergipe",
         "orientation": "h",
         "showlegend": true,
         "type": "histogram",
         "x": [
          5689338
         ],
         "xaxis": "x",
         "y": [
          "Sergipe"
         ],
         "yaxis": "y"
        },
        {
         "alignmentgroup": "True",
         "bingroup": "y",
         "histfunc": "sum",
         "hovertemplate": "Estado=%{y}<br>sum of Eolica=%{x}<extra></extra>",
         "legendgroup": "Goiás",
         "marker": {
          "color": "#ab63fa"
         },
         "name": "Goiás",
         "offsetgroup": "Goiás",
         "orientation": "h",
         "showlegend": true,
         "type": "histogram",
         "x": [
          4255750
         ],
         "xaxis": "x",
         "y": [
          "Goiás"
         ],
         "yaxis": "y"
        },
        {
         "alignmentgroup": "True",
         "bingroup": "y",
         "histfunc": "sum",
         "hovertemplate": "Estado=%{y}<br>sum of Eolica=%{x}<extra></extra>",
         "legendgroup": "Rio Grande do Norte",
         "marker": {
          "color": "#FFA15A"
         },
         "name": "Rio Grande do Norte",
         "offsetgroup": "Rio Grande do Norte",
         "orientation": "h",
         "showlegend": true,
         "type": "histogram",
         "x": [
          2351460
         ],
         "xaxis": "x",
         "y": [
          "Rio Grande do Norte"
         ],
         "yaxis": "y"
        },
        {
         "alignmentgroup": "True",
         "bingroup": "y",
         "histfunc": "sum",
         "hovertemplate": "Estado=%{y}<br>sum of Eolica=%{x}<extra></extra>",
         "legendgroup": "São Paulo",
         "marker": {
          "color": "#19d3f3"
         },
         "name": "São Paulo",
         "offsetgroup": "São Paulo",
         "orientation": "h",
         "showlegend": true,
         "type": "histogram",
         "x": [
          null
         ],
         "xaxis": "x",
         "y": [
          "São Paulo"
         ],
         "yaxis": "y"
        },
        {
         "alignmentgroup": "True",
         "bingroup": "y",
         "histfunc": "sum",
         "hovertemplate": "Estado=%{y}<br>sum of Eolica=%{x}<extra></extra>",
         "legendgroup": "Tocantins",
         "marker": {
          "color": "#FF6692"
         },
         "name": "Tocantins",
         "offsetgroup": "Tocantins",
         "orientation": "h",
         "showlegend": true,
         "type": "histogram",
         "x": [
          null
         ],
         "xaxis": "x",
         "y": [
          "Tocantins"
         ],
         "yaxis": "y"
        }
       ],
       "layout": {
        "barmode": "relative",
        "legend": {
         "title": {
          "text": "Estado"
         },
         "tracegroupgap": 0
        },
        "template": {
         "data": {
          "bar": [
           {
            "error_x": {
             "color": "#2a3f5f"
            },
            "error_y": {
             "color": "#2a3f5f"
            },
            "marker": {
             "line": {
              "color": "#E5ECF6",
              "width": 0.5
             }
            },
            "type": "bar"
           }
          ],
          "barpolar": [
           {
            "marker": {
             "line": {
              "color": "#E5ECF6",
              "width": 0.5
             }
            },
            "type": "barpolar"
           }
          ],
          "carpet": [
           {
            "aaxis": {
             "endlinecolor": "#2a3f5f",
             "gridcolor": "white",
             "linecolor": "white",
             "minorgridcolor": "white",
             "startlinecolor": "#2a3f5f"
            },
            "baxis": {
             "endlinecolor": "#2a3f5f",
             "gridcolor": "white",
             "linecolor": "white",
             "minorgridcolor": "white",
             "startlinecolor": "#2a3f5f"
            },
            "type": "carpet"
           }
          ],
          "choropleth": [
           {
            "colorbar": {
             "outlinewidth": 0,
             "ticks": ""
            },
            "type": "choropleth"
           }
          ],
          "contour": [
           {
            "colorbar": {
             "outlinewidth": 0,
             "ticks": ""
            },
            "colorscale": [
             [
              0,
              "#0d0887"
             ],
             [
              0.1111111111111111,
              "#46039f"
             ],
             [
              0.2222222222222222,
              "#7201a8"
             ],
             [
              0.3333333333333333,
              "#9c179e"
             ],
             [
              0.4444444444444444,
              "#bd3786"
             ],
             [
              0.5555555555555556,
              "#d8576b"
             ],
             [
              0.6666666666666666,
              "#ed7953"
             ],
             [
              0.7777777777777778,
              "#fb9f3a"
             ],
             [
              0.8888888888888888,
              "#fdca26"
             ],
             [
              1,
              "#f0f921"
             ]
            ],
            "type": "contour"
           }
          ],
          "contourcarpet": [
           {
            "colorbar": {
             "outlinewidth": 0,
             "ticks": ""
            },
            "type": "contourcarpet"
           }
          ],
          "heatmap": [
           {
            "colorbar": {
             "outlinewidth": 0,
             "ticks": ""
            },
            "colorscale": [
             [
              0,
              "#0d0887"
             ],
             [
              0.1111111111111111,
              "#46039f"
             ],
             [
              0.2222222222222222,
              "#7201a8"
             ],
             [
              0.3333333333333333,
              "#9c179e"
             ],
             [
              0.4444444444444444,
              "#bd3786"
             ],
             [
              0.5555555555555556,
              "#d8576b"
             ],
             [
              0.6666666666666666,
              "#ed7953"
             ],
             [
              0.7777777777777778,
              "#fb9f3a"
             ],
             [
              0.8888888888888888,
              "#fdca26"
             ],
             [
              1,
              "#f0f921"
             ]
            ],
            "type": "heatmap"
           }
          ],
          "heatmapgl": [
           {
            "colorbar": {
             "outlinewidth": 0,
             "ticks": ""
            },
            "colorscale": [
             [
              0,
              "#0d0887"
             ],
             [
              0.1111111111111111,
              "#46039f"
             ],
             [
              0.2222222222222222,
              "#7201a8"
             ],
             [
              0.3333333333333333,
              "#9c179e"
             ],
             [
              0.4444444444444444,
              "#bd3786"
             ],
             [
              0.5555555555555556,
              "#d8576b"
             ],
             [
              0.6666666666666666,
              "#ed7953"
             ],
             [
              0.7777777777777778,
              "#fb9f3a"
             ],
             [
              0.8888888888888888,
              "#fdca26"
             ],
             [
              1,
              "#f0f921"
             ]
            ],
            "type": "heatmapgl"
           }
          ],
          "histogram": [
           {
            "marker": {
             "colorbar": {
              "outlinewidth": 0,
              "ticks": ""
             }
            },
            "type": "histogram"
           }
          ],
          "histogram2d": [
           {
            "colorbar": {
             "outlinewidth": 0,
             "ticks": ""
            },
            "colorscale": [
             [
              0,
              "#0d0887"
             ],
             [
              0.1111111111111111,
              "#46039f"
             ],
             [
              0.2222222222222222,
              "#7201a8"
             ],
             [
              0.3333333333333333,
              "#9c179e"
             ],
             [
              0.4444444444444444,
              "#bd3786"
             ],
             [
              0.5555555555555556,
              "#d8576b"
             ],
             [
              0.6666666666666666,
              "#ed7953"
             ],
             [
              0.7777777777777778,
              "#fb9f3a"
             ],
             [
              0.8888888888888888,
              "#fdca26"
             ],
             [
              1,
              "#f0f921"
             ]
            ],
            "type": "histogram2d"
           }
          ],
          "histogram2dcontour": [
           {
            "colorbar": {
             "outlinewidth": 0,
             "ticks": ""
            },
            "colorscale": [
             [
              0,
              "#0d0887"
             ],
             [
              0.1111111111111111,
              "#46039f"
             ],
             [
              0.2222222222222222,
              "#7201a8"
             ],
             [
              0.3333333333333333,
              "#9c179e"
             ],
             [
              0.4444444444444444,
              "#bd3786"
             ],
             [
              0.5555555555555556,
              "#d8576b"
             ],
             [
              0.6666666666666666,
              "#ed7953"
             ],
             [
              0.7777777777777778,
              "#fb9f3a"
             ],
             [
              0.8888888888888888,
              "#fdca26"
             ],
             [
              1,
              "#f0f921"
             ]
            ],
            "type": "histogram2dcontour"
           }
          ],
          "mesh3d": [
           {
            "colorbar": {
             "outlinewidth": 0,
             "ticks": ""
            },
            "type": "mesh3d"
           }
          ],
          "parcoords": [
           {
            "line": {
             "colorbar": {
              "outlinewidth": 0,
              "ticks": ""
             }
            },
            "type": "parcoords"
           }
          ],
          "pie": [
           {
            "automargin": true,
            "type": "pie"
           }
          ],
          "scatter": [
           {
            "marker": {
             "colorbar": {
              "outlinewidth": 0,
              "ticks": ""
             }
            },
            "type": "scatter"
           }
          ],
          "scatter3d": [
           {
            "line": {
             "colorbar": {
              "outlinewidth": 0,
              "ticks": ""
             }
            },
            "marker": {
             "colorbar": {
              "outlinewidth": 0,
              "ticks": ""
             }
            },
            "type": "scatter3d"
           }
          ],
          "scattercarpet": [
           {
            "marker": {
             "colorbar": {
              "outlinewidth": 0,
              "ticks": ""
             }
            },
            "type": "scattercarpet"
           }
          ],
          "scattergeo": [
           {
            "marker": {
             "colorbar": {
              "outlinewidth": 0,
              "ticks": ""
             }
            },
            "type": "scattergeo"
           }
          ],
          "scattergl": [
           {
            "marker": {
             "colorbar": {
              "outlinewidth": 0,
              "ticks": ""
             }
            },
            "type": "scattergl"
           }
          ],
          "scattermapbox": [
           {
            "marker": {
             "colorbar": {
              "outlinewidth": 0,
              "ticks": ""
             }
            },
            "type": "scattermapbox"
           }
          ],
          "scatterpolar": [
           {
            "marker": {
             "colorbar": {
              "outlinewidth": 0,
              "ticks": ""
             }
            },
            "type": "scatterpolar"
           }
          ],
          "scatterpolargl": [
           {
            "marker": {
             "colorbar": {
              "outlinewidth": 0,
              "ticks": ""
             }
            },
            "type": "scatterpolargl"
           }
          ],
          "scatterternary": [
           {
            "marker": {
             "colorbar": {
              "outlinewidth": 0,
              "ticks": ""
             }
            },
            "type": "scatterternary"
           }
          ],
          "surface": [
           {
            "colorbar": {
             "outlinewidth": 0,
             "ticks": ""
            },
            "colorscale": [
             [
              0,
              "#0d0887"
             ],
             [
              0.1111111111111111,
              "#46039f"
             ],
             [
              0.2222222222222222,
              "#7201a8"
             ],
             [
              0.3333333333333333,
              "#9c179e"
             ],
             [
              0.4444444444444444,
              "#bd3786"
             ],
             [
              0.5555555555555556,
              "#d8576b"
             ],
             [
              0.6666666666666666,
              "#ed7953"
             ],
             [
              0.7777777777777778,
              "#fb9f3a"
             ],
             [
              0.8888888888888888,
              "#fdca26"
             ],
             [
              1,
              "#f0f921"
             ]
            ],
            "type": "surface"
           }
          ],
          "table": [
           {
            "cells": {
             "fill": {
              "color": "#EBF0F8"
             },
             "line": {
              "color": "white"
             }
            },
            "header": {
             "fill": {
              "color": "#C8D4E3"
             },
             "line": {
              "color": "white"
             }
            },
            "type": "table"
           }
          ]
         },
         "layout": {
          "annotationdefaults": {
           "arrowcolor": "#2a3f5f",
           "arrowhead": 0,
           "arrowwidth": 1
          },
          "coloraxis": {
           "colorbar": {
            "outlinewidth": 0,
            "ticks": ""
           }
          },
          "colorscale": {
           "diverging": [
            [
             0,
             "#8e0152"
            ],
            [
             0.1,
             "#c51b7d"
            ],
            [
             0.2,
             "#de77ae"
            ],
            [
             0.3,
             "#f1b6da"
            ],
            [
             0.4,
             "#fde0ef"
            ],
            [
             0.5,
             "#f7f7f7"
            ],
            [
             0.6,
             "#e6f5d0"
            ],
            [
             0.7,
             "#b8e186"
            ],
            [
             0.8,
             "#7fbc41"
            ],
            [
             0.9,
             "#4d9221"
            ],
            [
             1,
             "#276419"
            ]
           ],
           "sequential": [
            [
             0,
             "#0d0887"
            ],
            [
             0.1111111111111111,
             "#46039f"
            ],
            [
             0.2222222222222222,
             "#7201a8"
            ],
            [
             0.3333333333333333,
             "#9c179e"
            ],
            [
             0.4444444444444444,
             "#bd3786"
            ],
            [
             0.5555555555555556,
             "#d8576b"
            ],
            [
             0.6666666666666666,
             "#ed7953"
            ],
            [
             0.7777777777777778,
             "#fb9f3a"
            ],
            [
             0.8888888888888888,
             "#fdca26"
            ],
            [
             1,
             "#f0f921"
            ]
           ],
           "sequentialminus": [
            [
             0,
             "#0d0887"
            ],
            [
             0.1111111111111111,
             "#46039f"
            ],
            [
             0.2222222222222222,
             "#7201a8"
            ],
            [
             0.3333333333333333,
             "#9c179e"
            ],
            [
             0.4444444444444444,
             "#bd3786"
            ],
            [
             0.5555555555555556,
             "#d8576b"
            ],
            [
             0.6666666666666666,
             "#ed7953"
            ],
            [
             0.7777777777777778,
             "#fb9f3a"
            ],
            [
             0.8888888888888888,
             "#fdca26"
            ],
            [
             1,
             "#f0f921"
            ]
           ]
          },
          "colorway": [
           "#636efa",
           "#EF553B",
           "#00cc96",
           "#ab63fa",
           "#FFA15A",
           "#19d3f3",
           "#FF6692",
           "#B6E880",
           "#FF97FF",
           "#FECB52"
          ],
          "font": {
           "color": "#2a3f5f"
          },
          "geo": {
           "bgcolor": "white",
           "lakecolor": "white",
           "landcolor": "#E5ECF6",
           "showlakes": true,
           "showland": true,
           "subunitcolor": "white"
          },
          "hoverlabel": {
           "align": "left"
          },
          "hovermode": "closest",
          "mapbox": {
           "style": "light"
          },
          "paper_bgcolor": "white",
          "plot_bgcolor": "#E5ECF6",
          "polar": {
           "angularaxis": {
            "gridcolor": "white",
            "linecolor": "white",
            "ticks": ""
           },
           "bgcolor": "#E5ECF6",
           "radialaxis": {
            "gridcolor": "white",
            "linecolor": "white",
            "ticks": ""
           }
          },
          "scene": {
           "xaxis": {
            "backgroundcolor": "#E5ECF6",
            "gridcolor": "white",
            "gridwidth": 2,
            "linecolor": "white",
            "showbackground": true,
            "ticks": "",
            "zerolinecolor": "white"
           },
           "yaxis": {
            "backgroundcolor": "#E5ECF6",
            "gridcolor": "white",
            "gridwidth": 2,
            "linecolor": "white",
            "showbackground": true,
            "ticks": "",
            "zerolinecolor": "white"
           },
           "zaxis": {
            "backgroundcolor": "#E5ECF6",
            "gridcolor": "white",
            "gridwidth": 2,
            "linecolor": "white",
            "showbackground": true,
            "ticks": "",
            "zerolinecolor": "white"
           }
          },
          "shapedefaults": {
           "line": {
            "color": "#2a3f5f"
           }
          },
          "ternary": {
           "aaxis": {
            "gridcolor": "white",
            "linecolor": "white",
            "ticks": ""
           },
           "baxis": {
            "gridcolor": "white",
            "linecolor": "white",
            "ticks": ""
           },
           "bgcolor": "#E5ECF6",
           "caxis": {
            "gridcolor": "white",
            "linecolor": "white",
            "ticks": ""
           }
          },
          "title": {
           "x": 0.05
          },
          "xaxis": {
           "automargin": true,
           "gridcolor": "white",
           "linecolor": "white",
           "ticks": "",
           "title": {
            "standoff": 15
           },
           "zerolinecolor": "white",
           "zerolinewidth": 2
          },
          "yaxis": {
           "automargin": true,
           "gridcolor": "white",
           "linecolor": "white",
           "ticks": "",
           "title": {
            "standoff": 15
           },
           "zerolinecolor": "white",
           "zerolinewidth": 2
          }
         }
        },
        "title": {
         "text": "Previsões (GW.h) para o Brasil de Energia Eolica"
        },
        "xaxis": {
         "anchor": "y",
         "domain": [
          0,
          1
         ],
         "title": {
          "text": "sum of Eolica"
         }
        },
        "yaxis": {
         "anchor": "x",
         "categoryarray": [
          "Tocantins",
          "São Paulo",
          "Rio Grande do Norte",
          "Goiás",
          "Sergipe",
          "Paraná",
          "Maranhão",
          "Amazonas",
          "Amapá",
          "Pará",
          "Rio Grande do Sul",
          "Distrito Federal",
          "Mato Grosso do Sul",
          "Espírito Santo",
          "Piauí",
          "Bahia",
          "Acre",
          "Rio de Janeiro",
          "Mato Grosso",
          "Rondônia",
          "Ceará",
          "Alagoas",
          "Roraima",
          "Paraíba",
          "Minas Gerais",
          "Pernambuco",
          "Santa Catarina"
         ],
         "categoryorder": "array",
         "domain": [
          0,
          1
         ],
         "title": {
          "text": "Estado"
         }
        }
       }
      },
      "text/html": [
       "<div>\n",
       "        \n",
       "        \n",
       "            <div id=\"bd1629f5-9f9c-43ed-af86-ddc34e2a2cd8\" class=\"plotly-graph-div\" style=\"height:525px; width:100%;\"></div>\n",
       "            <script type=\"text/javascript\">\n",
       "                require([\"plotly\"], function(Plotly) {\n",
       "                    window.PLOTLYENV=window.PLOTLYENV || {};\n",
       "                    \n",
       "                if (document.getElementById(\"bd1629f5-9f9c-43ed-af86-ddc34e2a2cd8\")) {\n",
       "                    Plotly.newPlot(\n",
       "                        'bd1629f5-9f9c-43ed-af86-ddc34e2a2cd8',\n",
       "                        [{\"alignmentgroup\": \"True\", \"bingroup\": \"y\", \"histfunc\": \"sum\", \"hovertemplate\": \"Estado=%{y}<br>sum of Eolica=%{x}<extra></extra>\", \"legendgroup\": \"Santa Catarina\", \"marker\": {\"color\": \"#636efa\"}, \"name\": \"Santa Catarina\", \"offsetgroup\": \"Santa Catarina\", \"orientation\": \"h\", \"showlegend\": true, \"type\": \"histogram\", \"x\": [1025024640.0], \"xaxis\": \"x\", \"y\": [\"Santa Catarina\"], \"yaxis\": \"y\"}, {\"alignmentgroup\": \"True\", \"bingroup\": \"y\", \"histfunc\": \"sum\", \"hovertemplate\": \"Estado=%{y}<br>sum of Eolica=%{x}<extra></extra>\", \"legendgroup\": \"Pernambuco\", \"marker\": {\"color\": \"#EF553B\"}, \"name\": \"Pernambuco\", \"offsetgroup\": \"Pernambuco\", \"orientation\": \"h\", \"showlegend\": true, \"type\": \"histogram\", \"x\": [968561280.0], \"xaxis\": \"x\", \"y\": [\"Pernambuco\"], \"yaxis\": \"y\"}, {\"alignmentgroup\": \"True\", \"bingroup\": \"y\", \"histfunc\": \"sum\", \"hovertemplate\": \"Estado=%{y}<br>sum of Eolica=%{x}<extra></extra>\", \"legendgroup\": \"Minas Gerais\", \"marker\": {\"color\": \"#00cc96\"}, \"name\": \"Minas Gerais\", \"offsetgroup\": \"Minas Gerais\", \"orientation\": \"h\", \"showlegend\": true, \"type\": \"histogram\", \"x\": [799832704.0], \"xaxis\": \"x\", \"y\": [\"Minas Gerais\"], \"yaxis\": \"y\"}, {\"alignmentgroup\": \"True\", \"bingroup\": \"y\", \"histfunc\": \"sum\", \"hovertemplate\": \"Estado=%{y}<br>sum of Eolica=%{x}<extra></extra>\", \"legendgroup\": \"Para\\u00edba\", \"marker\": {\"color\": \"#ab63fa\"}, \"name\": \"Para\\u00edba\", \"offsetgroup\": \"Para\\u00edba\", \"orientation\": \"h\", \"showlegend\": true, \"type\": \"histogram\", \"x\": [482329600.0], \"xaxis\": \"x\", \"y\": [\"Para\\u00edba\"], \"yaxis\": \"y\"}, {\"alignmentgroup\": \"True\", \"bingroup\": \"y\", \"histfunc\": \"sum\", \"hovertemplate\": \"Estado=%{y}<br>sum of Eolica=%{x}<extra></extra>\", \"legendgroup\": \"Roraima\", \"marker\": {\"color\": \"#FFA15A\"}, \"name\": \"Roraima\", \"offsetgroup\": \"Roraima\", \"orientation\": \"h\", \"showlegend\": true, \"type\": \"histogram\", \"x\": [457226464.0], \"xaxis\": \"x\", \"y\": [\"Roraima\"], \"yaxis\": \"y\"}, {\"alignmentgroup\": \"True\", \"bingroup\": \"y\", \"histfunc\": \"sum\", \"hovertemplate\": \"Estado=%{y}<br>sum of Eolica=%{x}<extra></extra>\", \"legendgroup\": \"Alagoas\", \"marker\": {\"color\": \"#19d3f3\"}, \"name\": \"Alagoas\", \"offsetgroup\": \"Alagoas\", \"orientation\": \"h\", \"showlegend\": true, \"type\": \"histogram\", \"x\": [347085376.0], \"xaxis\": \"x\", \"y\": [\"Alagoas\"], \"yaxis\": \"y\"}, {\"alignmentgroup\": \"True\", \"bingroup\": \"y\", \"histfunc\": \"sum\", \"hovertemplate\": \"Estado=%{y}<br>sum of Eolica=%{x}<extra></extra>\", \"legendgroup\": \"Cear\\u00e1\", \"marker\": {\"color\": \"#FF6692\"}, \"name\": \"Cear\\u00e1\", \"offsetgroup\": \"Cear\\u00e1\", \"orientation\": \"h\", \"showlegend\": true, \"type\": \"histogram\", \"x\": [225350928.0], \"xaxis\": \"x\", \"y\": [\"Cear\\u00e1\"], \"yaxis\": \"y\"}, {\"alignmentgroup\": \"True\", \"bingroup\": \"y\", \"histfunc\": \"sum\", \"hovertemplate\": \"Estado=%{y}<br>sum of Eolica=%{x}<extra></extra>\", \"legendgroup\": \"Rond\\u00f4nia\", \"marker\": {\"color\": \"#B6E880\"}, \"name\": \"Rond\\u00f4nia\", \"offsetgroup\": \"Rond\\u00f4nia\", \"orientation\": \"h\", \"showlegend\": true, \"type\": \"histogram\", \"x\": [176423552.0], \"xaxis\": \"x\", \"y\": [\"Rond\\u00f4nia\"], \"yaxis\": \"y\"}, {\"alignmentgroup\": \"True\", \"bingroup\": \"y\", \"histfunc\": \"sum\", \"hovertemplate\": \"Estado=%{y}<br>sum of Eolica=%{x}<extra></extra>\", \"legendgroup\": \"Mato Grosso\", \"marker\": {\"color\": \"#FF97FF\"}, \"name\": \"Mato Grosso\", \"offsetgroup\": \"Mato Grosso\", \"orientation\": \"h\", \"showlegend\": true, \"type\": \"histogram\", \"x\": [107824224.0], \"xaxis\": \"x\", \"y\": [\"Mato Grosso\"], \"yaxis\": \"y\"}, {\"alignmentgroup\": \"True\", \"bingroup\": \"y\", \"histfunc\": \"sum\", \"hovertemplate\": \"Estado=%{y}<br>sum of Eolica=%{x}<extra></extra>\", \"legendgroup\": \"Rio de Janeiro\", \"marker\": {\"color\": \"#FECB52\"}, \"name\": \"Rio de Janeiro\", \"offsetgroup\": \"Rio de Janeiro\", \"orientation\": \"h\", \"showlegend\": true, \"type\": \"histogram\", \"x\": [107155168.0], \"xaxis\": \"x\", \"y\": [\"Rio de Janeiro\"], \"yaxis\": \"y\"}, {\"alignmentgroup\": \"True\", \"bingroup\": \"y\", \"histfunc\": \"sum\", \"hovertemplate\": \"Estado=%{y}<br>sum of Eolica=%{x}<extra></extra>\", \"legendgroup\": \"Acre\", \"marker\": {\"color\": \"#636efa\"}, \"name\": \"Acre\", \"offsetgroup\": \"Acre\", \"orientation\": \"h\", \"showlegend\": true, \"type\": \"histogram\", \"x\": [103582256.0], \"xaxis\": \"x\", \"y\": [\"Acre\"], \"yaxis\": \"y\"}, {\"alignmentgroup\": \"True\", \"bingroup\": \"y\", \"histfunc\": \"sum\", \"hovertemplate\": \"Estado=%{y}<br>sum of Eolica=%{x}<extra></extra>\", \"legendgroup\": \"Bahia\", \"marker\": {\"color\": \"#EF553B\"}, \"name\": \"Bahia\", \"offsetgroup\": \"Bahia\", \"orientation\": \"h\", \"showlegend\": true, \"type\": \"histogram\", \"x\": [81248032.0], \"xaxis\": \"x\", \"y\": [\"Bahia\"], \"yaxis\": \"y\"}, {\"alignmentgroup\": \"True\", \"bingroup\": \"y\", \"histfunc\": \"sum\", \"hovertemplate\": \"Estado=%{y}<br>sum of Eolica=%{x}<extra></extra>\", \"legendgroup\": \"Piau\\u00ed\", \"marker\": {\"color\": \"#00cc96\"}, \"name\": \"Piau\\u00ed\", \"offsetgroup\": \"Piau\\u00ed\", \"orientation\": \"h\", \"showlegend\": true, \"type\": \"histogram\", \"x\": [78860920.0], \"xaxis\": \"x\", \"y\": [\"Piau\\u00ed\"], \"yaxis\": \"y\"}, {\"alignmentgroup\": \"True\", \"bingroup\": \"y\", \"histfunc\": \"sum\", \"hovertemplate\": \"Estado=%{y}<br>sum of Eolica=%{x}<extra></extra>\", \"legendgroup\": \"Esp\\u00edrito Santo\", \"marker\": {\"color\": \"#ab63fa\"}, \"name\": \"Esp\\u00edrito Santo\", \"offsetgroup\": \"Esp\\u00edrito Santo\", \"orientation\": \"h\", \"showlegend\": true, \"type\": \"histogram\", \"x\": [56219848.0], \"xaxis\": \"x\", \"y\": [\"Esp\\u00edrito Santo\"], \"yaxis\": \"y\"}, {\"alignmentgroup\": \"True\", \"bingroup\": \"y\", \"histfunc\": \"sum\", \"hovertemplate\": \"Estado=%{y}<br>sum of Eolica=%{x}<extra></extra>\", \"legendgroup\": \"Mato Grosso do Sul\", \"marker\": {\"color\": \"#FFA15A\"}, \"name\": \"Mato Grosso do Sul\", \"offsetgroup\": \"Mato Grosso do Sul\", \"orientation\": \"h\", \"showlegend\": true, \"type\": \"histogram\", \"x\": [50169552.0], \"xaxis\": \"x\", \"y\": [\"Mato Grosso do Sul\"], \"yaxis\": \"y\"}, {\"alignmentgroup\": \"True\", \"bingroup\": \"y\", \"histfunc\": \"sum\", \"hovertemplate\": \"Estado=%{y}<br>sum of Eolica=%{x}<extra></extra>\", \"legendgroup\": \"Distrito Federal\", \"marker\": {\"color\": \"#19d3f3\"}, \"name\": \"Distrito Federal\", \"offsetgroup\": \"Distrito Federal\", \"orientation\": \"h\", \"showlegend\": true, \"type\": \"histogram\", \"x\": [36048196.0], \"xaxis\": \"x\", \"y\": [\"Distrito Federal\"], \"yaxis\": \"y\"}, {\"alignmentgroup\": \"True\", \"bingroup\": \"y\", \"histfunc\": \"sum\", \"hovertemplate\": \"Estado=%{y}<br>sum of Eolica=%{x}<extra></extra>\", \"legendgroup\": \"Rio Grande do Sul\", \"marker\": {\"color\": \"#FF6692\"}, \"name\": \"Rio Grande do Sul\", \"offsetgroup\": \"Rio Grande do Sul\", \"orientation\": \"h\", \"showlegend\": true, \"type\": \"histogram\", \"x\": [32204690.0], \"xaxis\": \"x\", \"y\": [\"Rio Grande do Sul\"], \"yaxis\": \"y\"}, {\"alignmentgroup\": \"True\", \"bingroup\": \"y\", \"histfunc\": \"sum\", \"hovertemplate\": \"Estado=%{y}<br>sum of Eolica=%{x}<extra></extra>\", \"legendgroup\": \"Par\\u00e1\", \"marker\": {\"color\": \"#B6E880\"}, \"name\": \"Par\\u00e1\", \"offsetgroup\": \"Par\\u00e1\", \"orientation\": \"h\", \"showlegend\": true, \"type\": \"histogram\", \"x\": [30038814.0], \"xaxis\": \"x\", \"y\": [\"Par\\u00e1\"], \"yaxis\": \"y\"}, {\"alignmentgroup\": \"True\", \"bingroup\": \"y\", \"histfunc\": \"sum\", \"hovertemplate\": \"Estado=%{y}<br>sum of Eolica=%{x}<extra></extra>\", \"legendgroup\": \"Amap\\u00e1\", \"marker\": {\"color\": \"#FF97FF\"}, \"name\": \"Amap\\u00e1\", \"offsetgroup\": \"Amap\\u00e1\", \"orientation\": \"h\", \"showlegend\": true, \"type\": \"histogram\", \"x\": [8937212.0], \"xaxis\": \"x\", \"y\": [\"Amap\\u00e1\"], \"yaxis\": \"y\"}, {\"alignmentgroup\": \"True\", \"bingroup\": \"y\", \"histfunc\": \"sum\", \"hovertemplate\": \"Estado=%{y}<br>sum of Eolica=%{x}<extra></extra>\", \"legendgroup\": \"Amazonas\", \"marker\": {\"color\": \"#FECB52\"}, \"name\": \"Amazonas\", \"offsetgroup\": \"Amazonas\", \"orientation\": \"h\", \"showlegend\": true, \"type\": \"histogram\", \"x\": [7518509.0], \"xaxis\": \"x\", \"y\": [\"Amazonas\"], \"yaxis\": \"y\"}, {\"alignmentgroup\": \"True\", \"bingroup\": \"y\", \"histfunc\": \"sum\", \"hovertemplate\": \"Estado=%{y}<br>sum of Eolica=%{x}<extra></extra>\", \"legendgroup\": \"Maranh\\u00e3o\", \"marker\": {\"color\": \"#636efa\"}, \"name\": \"Maranh\\u00e3o\", \"offsetgroup\": \"Maranh\\u00e3o\", \"orientation\": \"h\", \"showlegend\": true, \"type\": \"histogram\", \"x\": [6154913.0], \"xaxis\": \"x\", \"y\": [\"Maranh\\u00e3o\"], \"yaxis\": \"y\"}, {\"alignmentgroup\": \"True\", \"bingroup\": \"y\", \"histfunc\": \"sum\", \"hovertemplate\": \"Estado=%{y}<br>sum of Eolica=%{x}<extra></extra>\", \"legendgroup\": \"Paran\\u00e1\", \"marker\": {\"color\": \"#EF553B\"}, \"name\": \"Paran\\u00e1\", \"offsetgroup\": \"Paran\\u00e1\", \"orientation\": \"h\", \"showlegend\": true, \"type\": \"histogram\", \"x\": [6110363.0], \"xaxis\": \"x\", \"y\": [\"Paran\\u00e1\"], \"yaxis\": \"y\"}, {\"alignmentgroup\": \"True\", \"bingroup\": \"y\", \"histfunc\": \"sum\", \"hovertemplate\": \"Estado=%{y}<br>sum of Eolica=%{x}<extra></extra>\", \"legendgroup\": \"Sergipe\", \"marker\": {\"color\": \"#00cc96\"}, \"name\": \"Sergipe\", \"offsetgroup\": \"Sergipe\", \"orientation\": \"h\", \"showlegend\": true, \"type\": \"histogram\", \"x\": [5689338.0], \"xaxis\": \"x\", \"y\": [\"Sergipe\"], \"yaxis\": \"y\"}, {\"alignmentgroup\": \"True\", \"bingroup\": \"y\", \"histfunc\": \"sum\", \"hovertemplate\": \"Estado=%{y}<br>sum of Eolica=%{x}<extra></extra>\", \"legendgroup\": \"Goi\\u00e1s\", \"marker\": {\"color\": \"#ab63fa\"}, \"name\": \"Goi\\u00e1s\", \"offsetgroup\": \"Goi\\u00e1s\", \"orientation\": \"h\", \"showlegend\": true, \"type\": \"histogram\", \"x\": [4255750.0], \"xaxis\": \"x\", \"y\": [\"Goi\\u00e1s\"], \"yaxis\": \"y\"}, {\"alignmentgroup\": \"True\", \"bingroup\": \"y\", \"histfunc\": \"sum\", \"hovertemplate\": \"Estado=%{y}<br>sum of Eolica=%{x}<extra></extra>\", \"legendgroup\": \"Rio Grande do Norte\", \"marker\": {\"color\": \"#FFA15A\"}, \"name\": \"Rio Grande do Norte\", \"offsetgroup\": \"Rio Grande do Norte\", \"orientation\": \"h\", \"showlegend\": true, \"type\": \"histogram\", \"x\": [2351460.0], \"xaxis\": \"x\", \"y\": [\"Rio Grande do Norte\"], \"yaxis\": \"y\"}, {\"alignmentgroup\": \"True\", \"bingroup\": \"y\", \"histfunc\": \"sum\", \"hovertemplate\": \"Estado=%{y}<br>sum of Eolica=%{x}<extra></extra>\", \"legendgroup\": \"S\\u00e3o Paulo\", \"marker\": {\"color\": \"#19d3f3\"}, \"name\": \"S\\u00e3o Paulo\", \"offsetgroup\": \"S\\u00e3o Paulo\", \"orientation\": \"h\", \"showlegend\": true, \"type\": \"histogram\", \"x\": [null], \"xaxis\": \"x\", \"y\": [\"S\\u00e3o Paulo\"], \"yaxis\": \"y\"}, {\"alignmentgroup\": \"True\", \"bingroup\": \"y\", \"histfunc\": \"sum\", \"hovertemplate\": \"Estado=%{y}<br>sum of Eolica=%{x}<extra></extra>\", \"legendgroup\": \"Tocantins\", \"marker\": {\"color\": \"#FF6692\"}, \"name\": \"Tocantins\", \"offsetgroup\": \"Tocantins\", \"orientation\": \"h\", \"showlegend\": true, \"type\": \"histogram\", \"x\": [null], \"xaxis\": \"x\", \"y\": [\"Tocantins\"], \"yaxis\": \"y\"}],\n",
       "                        {\"barmode\": \"relative\", \"legend\": {\"title\": {\"text\": \"Estado\"}, \"tracegroupgap\": 0}, \"template\": {\"data\": {\"bar\": [{\"error_x\": {\"color\": \"#2a3f5f\"}, \"error_y\": {\"color\": \"#2a3f5f\"}, \"marker\": {\"line\": {\"color\": \"#E5ECF6\", \"width\": 0.5}}, \"type\": \"bar\"}], \"barpolar\": [{\"marker\": {\"line\": {\"color\": \"#E5ECF6\", \"width\": 0.5}}, \"type\": \"barpolar\"}], \"carpet\": [{\"aaxis\": {\"endlinecolor\": \"#2a3f5f\", \"gridcolor\": \"white\", \"linecolor\": \"white\", \"minorgridcolor\": \"white\", \"startlinecolor\": \"#2a3f5f\"}, \"baxis\": {\"endlinecolor\": \"#2a3f5f\", \"gridcolor\": \"white\", \"linecolor\": \"white\", \"minorgridcolor\": \"white\", \"startlinecolor\": \"#2a3f5f\"}, \"type\": \"carpet\"}], \"choropleth\": [{\"colorbar\": {\"outlinewidth\": 0, \"ticks\": \"\"}, \"type\": \"choropleth\"}], \"contour\": [{\"colorbar\": {\"outlinewidth\": 0, \"ticks\": \"\"}, \"colorscale\": [[0.0, \"#0d0887\"], [0.1111111111111111, \"#46039f\"], [0.2222222222222222, \"#7201a8\"], [0.3333333333333333, \"#9c179e\"], [0.4444444444444444, \"#bd3786\"], [0.5555555555555556, \"#d8576b\"], [0.6666666666666666, \"#ed7953\"], [0.7777777777777778, \"#fb9f3a\"], [0.8888888888888888, \"#fdca26\"], [1.0, \"#f0f921\"]], \"type\": \"contour\"}], \"contourcarpet\": [{\"colorbar\": {\"outlinewidth\": 0, \"ticks\": \"\"}, \"type\": \"contourcarpet\"}], \"heatmap\": [{\"colorbar\": {\"outlinewidth\": 0, \"ticks\": \"\"}, \"colorscale\": [[0.0, \"#0d0887\"], [0.1111111111111111, \"#46039f\"], [0.2222222222222222, \"#7201a8\"], [0.3333333333333333, \"#9c179e\"], [0.4444444444444444, \"#bd3786\"], [0.5555555555555556, \"#d8576b\"], [0.6666666666666666, \"#ed7953\"], [0.7777777777777778, \"#fb9f3a\"], [0.8888888888888888, \"#fdca26\"], [1.0, \"#f0f921\"]], \"type\": \"heatmap\"}], \"heatmapgl\": [{\"colorbar\": {\"outlinewidth\": 0, \"ticks\": \"\"}, \"colorscale\": [[0.0, \"#0d0887\"], [0.1111111111111111, \"#46039f\"], [0.2222222222222222, \"#7201a8\"], [0.3333333333333333, \"#9c179e\"], [0.4444444444444444, \"#bd3786\"], [0.5555555555555556, \"#d8576b\"], [0.6666666666666666, \"#ed7953\"], [0.7777777777777778, \"#fb9f3a\"], [0.8888888888888888, \"#fdca26\"], [1.0, \"#f0f921\"]], \"type\": \"heatmapgl\"}], \"histogram\": [{\"marker\": {\"colorbar\": {\"outlinewidth\": 0, \"ticks\": \"\"}}, \"type\": \"histogram\"}], \"histogram2d\": [{\"colorbar\": {\"outlinewidth\": 0, \"ticks\": \"\"}, \"colorscale\": [[0.0, \"#0d0887\"], [0.1111111111111111, \"#46039f\"], [0.2222222222222222, \"#7201a8\"], [0.3333333333333333, \"#9c179e\"], [0.4444444444444444, \"#bd3786\"], [0.5555555555555556, \"#d8576b\"], [0.6666666666666666, \"#ed7953\"], [0.7777777777777778, \"#fb9f3a\"], [0.8888888888888888, \"#fdca26\"], [1.0, \"#f0f921\"]], \"type\": \"histogram2d\"}], \"histogram2dcontour\": [{\"colorbar\": {\"outlinewidth\": 0, \"ticks\": \"\"}, \"colorscale\": [[0.0, \"#0d0887\"], [0.1111111111111111, \"#46039f\"], [0.2222222222222222, \"#7201a8\"], [0.3333333333333333, \"#9c179e\"], [0.4444444444444444, \"#bd3786\"], [0.5555555555555556, \"#d8576b\"], [0.6666666666666666, \"#ed7953\"], [0.7777777777777778, \"#fb9f3a\"], [0.8888888888888888, \"#fdca26\"], [1.0, \"#f0f921\"]], \"type\": \"histogram2dcontour\"}], \"mesh3d\": [{\"colorbar\": {\"outlinewidth\": 0, \"ticks\": \"\"}, \"type\": \"mesh3d\"}], \"parcoords\": [{\"line\": {\"colorbar\": {\"outlinewidth\": 0, \"ticks\": \"\"}}, \"type\": \"parcoords\"}], \"pie\": [{\"automargin\": true, \"type\": \"pie\"}], \"scatter\": [{\"marker\": {\"colorbar\": {\"outlinewidth\": 0, \"ticks\": \"\"}}, \"type\": \"scatter\"}], \"scatter3d\": [{\"line\": {\"colorbar\": {\"outlinewidth\": 0, \"ticks\": \"\"}}, \"marker\": {\"colorbar\": {\"outlinewidth\": 0, \"ticks\": \"\"}}, \"type\": \"scatter3d\"}], \"scattercarpet\": [{\"marker\": {\"colorbar\": {\"outlinewidth\": 0, \"ticks\": \"\"}}, \"type\": \"scattercarpet\"}], \"scattergeo\": [{\"marker\": {\"colorbar\": {\"outlinewidth\": 0, \"ticks\": \"\"}}, \"type\": \"scattergeo\"}], \"scattergl\": [{\"marker\": {\"colorbar\": {\"outlinewidth\": 0, \"ticks\": \"\"}}, \"type\": \"scattergl\"}], \"scattermapbox\": [{\"marker\": {\"colorbar\": {\"outlinewidth\": 0, \"ticks\": \"\"}}, \"type\": \"scattermapbox\"}], \"scatterpolar\": [{\"marker\": {\"colorbar\": {\"outlinewidth\": 0, \"ticks\": \"\"}}, \"type\": \"scatterpolar\"}], \"scatterpolargl\": [{\"marker\": {\"colorbar\": {\"outlinewidth\": 0, \"ticks\": \"\"}}, \"type\": \"scatterpolargl\"}], \"scatterternary\": [{\"marker\": {\"colorbar\": {\"outlinewidth\": 0, \"ticks\": \"\"}}, \"type\": \"scatterternary\"}], \"surface\": [{\"colorbar\": {\"outlinewidth\": 0, \"ticks\": \"\"}, \"colorscale\": [[0.0, \"#0d0887\"], [0.1111111111111111, \"#46039f\"], [0.2222222222222222, \"#7201a8\"], [0.3333333333333333, \"#9c179e\"], [0.4444444444444444, \"#bd3786\"], [0.5555555555555556, \"#d8576b\"], [0.6666666666666666, \"#ed7953\"], [0.7777777777777778, \"#fb9f3a\"], [0.8888888888888888, \"#fdca26\"], [1.0, \"#f0f921\"]], \"type\": \"surface\"}], \"table\": [{\"cells\": {\"fill\": {\"color\": \"#EBF0F8\"}, \"line\": {\"color\": \"white\"}}, \"header\": {\"fill\": {\"color\": \"#C8D4E3\"}, \"line\": {\"color\": \"white\"}}, \"type\": \"table\"}]}, \"layout\": {\"annotationdefaults\": {\"arrowcolor\": \"#2a3f5f\", \"arrowhead\": 0, \"arrowwidth\": 1}, \"coloraxis\": {\"colorbar\": {\"outlinewidth\": 0, \"ticks\": \"\"}}, \"colorscale\": {\"diverging\": [[0, \"#8e0152\"], [0.1, \"#c51b7d\"], [0.2, \"#de77ae\"], [0.3, \"#f1b6da\"], [0.4, \"#fde0ef\"], [0.5, \"#f7f7f7\"], [0.6, \"#e6f5d0\"], [0.7, \"#b8e186\"], [0.8, \"#7fbc41\"], [0.9, \"#4d9221\"], [1, \"#276419\"]], \"sequential\": [[0.0, \"#0d0887\"], [0.1111111111111111, \"#46039f\"], [0.2222222222222222, \"#7201a8\"], [0.3333333333333333, \"#9c179e\"], [0.4444444444444444, \"#bd3786\"], [0.5555555555555556, \"#d8576b\"], [0.6666666666666666, \"#ed7953\"], [0.7777777777777778, \"#fb9f3a\"], [0.8888888888888888, \"#fdca26\"], [1.0, \"#f0f921\"]], \"sequentialminus\": [[0.0, \"#0d0887\"], [0.1111111111111111, \"#46039f\"], [0.2222222222222222, \"#7201a8\"], [0.3333333333333333, \"#9c179e\"], [0.4444444444444444, \"#bd3786\"], [0.5555555555555556, \"#d8576b\"], [0.6666666666666666, \"#ed7953\"], [0.7777777777777778, \"#fb9f3a\"], [0.8888888888888888, \"#fdca26\"], [1.0, \"#f0f921\"]]}, \"colorway\": [\"#636efa\", \"#EF553B\", \"#00cc96\", \"#ab63fa\", \"#FFA15A\", \"#19d3f3\", \"#FF6692\", \"#B6E880\", \"#FF97FF\", \"#FECB52\"], \"font\": {\"color\": \"#2a3f5f\"}, \"geo\": {\"bgcolor\": \"white\", \"lakecolor\": \"white\", \"landcolor\": \"#E5ECF6\", \"showlakes\": true, \"showland\": true, \"subunitcolor\": \"white\"}, \"hoverlabel\": {\"align\": \"left\"}, \"hovermode\": \"closest\", \"mapbox\": {\"style\": \"light\"}, \"paper_bgcolor\": \"white\", \"plot_bgcolor\": \"#E5ECF6\", \"polar\": {\"angularaxis\": {\"gridcolor\": \"white\", \"linecolor\": \"white\", \"ticks\": \"\"}, \"bgcolor\": \"#E5ECF6\", \"radialaxis\": {\"gridcolor\": \"white\", \"linecolor\": \"white\", \"ticks\": \"\"}}, \"scene\": {\"xaxis\": {\"backgroundcolor\": \"#E5ECF6\", \"gridcolor\": \"white\", \"gridwidth\": 2, \"linecolor\": \"white\", \"showbackground\": true, \"ticks\": \"\", \"zerolinecolor\": \"white\"}, \"yaxis\": {\"backgroundcolor\": \"#E5ECF6\", \"gridcolor\": \"white\", \"gridwidth\": 2, \"linecolor\": \"white\", \"showbackground\": true, \"ticks\": \"\", \"zerolinecolor\": \"white\"}, \"zaxis\": {\"backgroundcolor\": \"#E5ECF6\", \"gridcolor\": \"white\", \"gridwidth\": 2, \"linecolor\": \"white\", \"showbackground\": true, \"ticks\": \"\", \"zerolinecolor\": \"white\"}}, \"shapedefaults\": {\"line\": {\"color\": \"#2a3f5f\"}}, \"ternary\": {\"aaxis\": {\"gridcolor\": \"white\", \"linecolor\": \"white\", \"ticks\": \"\"}, \"baxis\": {\"gridcolor\": \"white\", \"linecolor\": \"white\", \"ticks\": \"\"}, \"bgcolor\": \"#E5ECF6\", \"caxis\": {\"gridcolor\": \"white\", \"linecolor\": \"white\", \"ticks\": \"\"}}, \"title\": {\"x\": 0.05}, \"xaxis\": {\"automargin\": true, \"gridcolor\": \"white\", \"linecolor\": \"white\", \"ticks\": \"\", \"title\": {\"standoff\": 15}, \"zerolinecolor\": \"white\", \"zerolinewidth\": 2}, \"yaxis\": {\"automargin\": true, \"gridcolor\": \"white\", \"linecolor\": \"white\", \"ticks\": \"\", \"title\": {\"standoff\": 15}, \"zerolinecolor\": \"white\", \"zerolinewidth\": 2}}}, \"title\": {\"text\": \"Previs\\u00f5es (GW.h) para o Brasil de Energia Eolica\"}, \"xaxis\": {\"anchor\": \"y\", \"domain\": [0.0, 1.0], \"title\": {\"text\": \"sum of Eolica\"}}, \"yaxis\": {\"anchor\": \"x\", \"categoryarray\": [\"Tocantins\", \"S\\u00e3o Paulo\", \"Rio Grande do Norte\", \"Goi\\u00e1s\", \"Sergipe\", \"Paran\\u00e1\", \"Maranh\\u00e3o\", \"Amazonas\", \"Amap\\u00e1\", \"Par\\u00e1\", \"Rio Grande do Sul\", \"Distrito Federal\", \"Mato Grosso do Sul\", \"Esp\\u00edrito Santo\", \"Piau\\u00ed\", \"Bahia\", \"Acre\", \"Rio de Janeiro\", \"Mato Grosso\", \"Rond\\u00f4nia\", \"Cear\\u00e1\", \"Alagoas\", \"Roraima\", \"Para\\u00edba\", \"Minas Gerais\", \"Pernambuco\", \"Santa Catarina\"], \"categoryorder\": \"array\", \"domain\": [0.0, 1.0], \"title\": {\"text\": \"Estado\"}}},\n",
       "                        {\"responsive\": true}\n",
       "                    ).then(function(){\n",
       "                            \n",
       "var gd = document.getElementById('bd1629f5-9f9c-43ed-af86-ddc34e2a2cd8');\n",
       "var x = new MutationObserver(function (mutations, observer) {{\n",
       "        var display = window.getComputedStyle(gd).display;\n",
       "        if (!display || display === 'none') {{\n",
       "            console.log([gd, 'removed!']);\n",
       "            Plotly.purge(gd);\n",
       "            observer.disconnect();\n",
       "        }}\n",
       "}});\n",
       "\n",
       "// Listen for the removal of the full notebook cells\n",
       "var notebookContainer = gd.closest('#notebook-container');\n",
       "if (notebookContainer) {{\n",
       "    x.observe(notebookContainer, {childList: true});\n",
       "}}\n",
       "\n",
       "// Listen for the clearing of the current output cell\n",
       "var outputEl = gd.closest('.output');\n",
       "if (outputEl) {{\n",
       "    x.observe(outputEl, {childList: true});\n",
       "}}\n",
       "\n",
       "                        })\n",
       "                };\n",
       "                });\n",
       "            </script>\n",
       "        </div>"
      ]
     },
     "metadata": {},
     "output_type": "display_data"
    }
   ],
   "source": [
    "# Previsões (GW.h) para o Brasil de Energia Eolica\n",
    "fig = px.histogram(prev_GWh, y=\"Estado\", x='Eolica', color=\"Estado\",\n",
    "                   title=\"Previsões (GW.h) para o Brasil de Energia Eolica\")\n",
    "fig.show()"
   ]
  },
  {
   "cell_type": "code",
   "execution_count": 93,
   "metadata": {},
   "outputs": [
    {
     "name": "stderr",
     "output_type": "stream",
     "text": [
      "C:\\Users\\Acer\\anaconda3\\lib\\site-packages\\seaborn\\distributions.py:2551: FutureWarning:\n",
      "\n",
      "`distplot` is a deprecated function and will be removed in a future version. Please adapt your code to use either `displot` (a figure-level function with similar flexibility) or `histplot` (an axes-level function for histograms).\n",
      "\n"
     ]
    },
    {
     "data": {
      "text/plain": [
       "Text(0.5, 1.0, 'Distribuição Energia Eolica com previsão dos Coeficientes de Arvores')"
      ]
     },
     "execution_count": 93,
     "metadata": {},
     "output_type": "execute_result"
    },
    {
     "data": {
      "image/png": "[encoded data removed]",
      "text/plain": [
       "<Figure size 1152x576 with 1 Axes>"
      ]
     },
     "metadata": {
      "needs_background": "light"
     },
     "output_type": "display_data"
    }
   ],
   "source": [
    "sns.distplot( a=prev_GWh[\"Eolica\"], kde=True,\n",
    "kde_kws={\"color\": \"r\", \"alpha\":0.3, \"linewidth\": 5, \"shade\":True })\n",
    "plt.title(\"Distribuição Energia Eolica com previsão dos Coeficientes de Arvores\")"
   ]
  },
  {
   "cell_type": "markdown",
   "metadata": {},
   "source": [
    "# ÁRVORE DE DECISÃO"
   ]
  },
  {
   "cell_type": "code",
   "execution_count": 16,
   "metadata": {},
   "outputs": [],
   "source": [
    "import matplotlib.pylab as plz\n",
    "import matplotlib.pyplot as plt\n",
    "import sys\n",
    "import warnings\n",
    "from sklearn.tree import DecisionTreeRegressor\n",
    "from sklearn import metrics\n",
    "from sklearn.tree import export_graphviz\n",
    "import pydotplus\n",
    "from IPython.display import Image\n",
    "from sklearn.model_selection import train_test_split\n",
    "from io import StringIO\n",
    "\n",
    "import graphviz\n",
    "import os\n",
    "os.environ[\"PATH\"] += os.pathsep + 'C:/Program Files (x86)/Graphviz2.38/bin'\n",
    "\n",
    "import pandas as pd\n",
    "import matplotlib.pyplot as plt\n",
    "import seaborn as sns\n",
    "import numpy as np\n",
    "from sklearn.metrics import accuracy_score, precision_score, recall_score,confusion_matrix, precision_recall_curve\n",
    "\n",
    "sns.set()"
   ]
  },
  {
   "cell_type": "code",
   "execution_count": 17,
   "metadata": {},
   "outputs": [
    {
     "data": {
      "text/html": [
       "<div>\n",
       "<style scoped>\n",
       "    .dataframe tbody tr th:only-of-type {\n",
       "        vertical-align: middle;\n",
       "    }\n",
       "\n",
       "    .dataframe tbody tr th {\n",
       "        vertical-align: top;\n",
       "    }\n",
       "\n",
       "    .dataframe thead th {\n",
       "        text-align: right;\n",
       "    }\n",
       "</style>\n",
       "<table border=\"1\" class=\"dataframe\">\n",
       "  <thead>\n",
       "    <tr style=\"text-align: right;\">\n",
       "      <th></th>\n",
       "      <th>State</th>\n",
       "      <th>pibe_capita</th>\n",
       "      <th>pibe_areae</th>\n",
       "      <th>pope_areae</th>\n",
       "      <th>pibe_GWe</th>\n",
       "      <th>GWe_pope</th>\n",
       "      <th>solar_e</th>\n",
       "      <th>eole</th>\n",
       "      <th>bioSe</th>\n",
       "      <th>geoe</th>\n",
       "      <th>hyde</th>\n",
       "    </tr>\n",
       "  </thead>\n",
       "  <tbody>\n",
       "    <tr>\n",
       "      <th>0</th>\n",
       "      <td>Alabama</td>\n",
       "      <td>0.046529</td>\n",
       "      <td>1.739276</td>\n",
       "      <td>37.380099</td>\n",
       "      <td>0.001599</td>\n",
       "      <td>29.099337</td>\n",
       "      <td>3.758165e+06</td>\n",
       "      <td>2.830225e+02</td>\n",
       "      <td>11193.4559</td>\n",
       "      <td>535489.50344</td>\n",
       "      <td>4102.565755</td>\n",
       "    </tr>\n",
       "    <tr>\n",
       "      <th>1</th>\n",
       "      <td>Alaska</td>\n",
       "      <td>0.074343</td>\n",
       "      <td>0.113787</td>\n",
       "      <td>1.530579</td>\n",
       "      <td>0.008958</td>\n",
       "      <td>8.298660</td>\n",
       "      <td>8.283142e+06</td>\n",
       "      <td>1.373433e+06</td>\n",
       "      <td>513.4767</td>\n",
       "      <td>15437.26876</td>\n",
       "      <td>23675.571931</td>\n",
       "    </tr>\n",
       "  </tbody>\n",
       "</table>\n",
       "</div>"
      ],
      "text/plain": [
       "     State  pibe_capita  pibe_areae  pope_areae  pibe_GWe   GWe_pope  \\\n",
       "0  Alabama     0.046529    1.739276   37.380099  0.001599  29.099337   \n",
       "1   Alaska     0.074343    0.113787    1.530579  0.008958   8.298660   \n",
       "\n",
       "        solar_e          eole       bioSe          geoe          hyde  \n",
       "0  3.758165e+06  2.830225e+02  11193.4559  535489.50344   4102.565755  \n",
       "1  8.283142e+06  1.373433e+06    513.4767   15437.26876  23675.571931  "
      ]
     },
     "execution_count": 17,
     "metadata": {},
     "output_type": "execute_result"
    }
   ],
   "source": [
    "dfe.head(2)"
   ]
  },
  {
   "cell_type": "code",
   "execution_count": null,
   "metadata": {},
   "outputs": [],
   "source": [
    "#X = dfe.drop(columns=['solar_e','eole','bioSe','geoe','hyde','State'])\n",
    "#ysol = dfe.loc[:,'solar_e']\n",
    "#yeol = dfe.loc[:,'eole']\n",
    "#ybio = dfe.loc[:,'bioSe']\n",
    "#ygeo = dfe.loc[:,'geoe']\n",
    "#yhyd = dfe.loc[:,'hyde']"
   ]
  },
  {
   "cell_type": "code",
   "execution_count": 18,
   "metadata": {},
   "outputs": [],
   "source": [
    "X = dfe.drop(columns=['State','eole','pibe_capita','pibe_areae','pope_areae','pibe_GWe','GWe_pope'])\n",
    "yeol = dfe.loc[:,'eole']"
   ]
  },
  {
   "cell_type": "code",
   "execution_count": 19,
   "metadata": {},
   "outputs": [
    {
     "name": "stdout",
     "output_type": "stream",
     "text": [
      "r2: 0.1647, mse:401476643951.9411\n"
     ]
    }
   ],
   "source": [
    "X_train, X_test, y_train, y_test = train_test_split(X, yeol, test_size =0.3, random_state=1234)\n",
    "\n",
    "dtr = DecisionTreeRegressor(max_depth=4)\n",
    "dtr.fit(X_train,y_train)\n",
    "yhat = dtr.predict(X_test)\n",
    "r2 = metrics.r2_score(y_test,yhat)\n",
    "mse = metrics.mean_squared_error(y_test,yhat)\n",
    "\n",
    "print(f'r2: {round(r2,4)}, mse:{round(mse,4)}')"
   ]
  },
  {
   "cell_type": "code",
   "execution_count": 20,
   "metadata": {},
   "outputs": [
    {
     "data": {
      "image/png": "[encoded data removed]",
      "text/plain": [
       "<IPython.core.display.Image object>"
      ]
     },
     "execution_count": 20,
     "metadata": {},
     "output_type": "execute_result"
    }
   ],
   "source": [
    "dot_data = StringIO()\n",
    "export_graphviz(dtr,\n",
    "                out_file=dot_data,\n",
    "                filled=True,\n",
    "                rounded=True,\n",
    "                special_characters=True,\n",
    "                feature_names=list(X))\n",
    "graph = pydotplus.graph_from_dot_data(dot_data.getvalue())\n",
    "Image(graph.create_png())"
   ]
  },
  {
   "cell_type": "code",
   "execution_count": null,
   "metadata": {},
   "outputs": [],
   "source": []
  },
  {
   "cell_type": "code",
   "execution_count": null,
   "metadata": {},
   "outputs": [],
   "source": []
  }
 ],
 "metadata": {
  "kernelspec": {
   "display_name": "Python 3",
   "language": "python",
   "name": "python3"
  },
  "language_info": {
   "codemirror_mode": {
    "name": "ipython",
    "version": 3
   },
   "file_extension": ".py",
   "mimetype": "text/x-python",
   "name": "python",
   "nbconvert_exporter": "python",
   "pygments_lexer": "ipython3",
   "version": "3.7.6"
  },
  "latex_envs": {
   "LaTeX_envs_menu_present": true,
   "autoclose": false,
   "autocomplete": true,
   "bibliofile": "biblio.bib",
   "cite_by": "apalike",
   "current_citInitial": 1,
   "eqLabelWithNumbers": true,
   "eqNumInitial": 1,
   "hotkeys": {
    "equation": "Ctrl-E",
    "itemize": "Ctrl-I"
   },
   "labels_anchors": false,
   "latex_user_defs": false,
   "report_style_numbering": false,
   "user_envs_cfg": false
  },
  "toc": {
   "base_numbering": 1,
   "nav_menu": {},
   "number_sections": true,
   "sideBar": true,
   "skip_h1_title": false,
   "title_cell": "Table of Contents",
   "title_sidebar": "Contents",
   "toc_cell": false,
   "toc_position": {},
   "toc_section_display": true,
   "toc_window_display": false
  },
  "varInspector": {
   "cols": {
    "lenName": 16,
    "lenType": 16,
    "lenVar": 40
   },
   "kernels_config": {
    "python": {
     "delete_cmd_postfix": "",
     "delete_cmd_prefix": "del ",
     "library": "var_list.py",
     "varRefreshCmd": "print(var_dic_list())"
    },
    "r": {
     "delete_cmd_postfix": ") ",
     "delete_cmd_prefix": "rm(",
     "library": "var_list.r",
     "varRefreshCmd": "cat(var_dic_list()) "
    }
   },
   "types_to_exclude": [
    "module",
    "function",
    "builtin_function_or_method",
    "instance",
    "_Feature"
   ],
   "window_display": false
  }
 },
 "nbformat": 4,
 "nbformat_minor": 2
}
