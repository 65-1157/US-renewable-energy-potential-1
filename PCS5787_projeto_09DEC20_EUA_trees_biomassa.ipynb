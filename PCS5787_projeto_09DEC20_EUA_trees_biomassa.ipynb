{
 "cells": [
  {
   "cell_type": "markdown",
   "metadata": {},
   "source": [
    "### Carregando as Bibliotecas"
   ]
  },
  {
   "cell_type": "code",
   "execution_count": 1,
   "metadata": {},
   "outputs": [
    {
     "name": "stdout",
     "output_type": "stream",
     "text": [
      "Requirement already satisfied: lightgbm in c:\\users\\aferr\\anaconda3\\lib\\site-packages (2.3.1)\n",
      "Requirement already satisfied: scikit-learn in c:\\users\\aferr\\anaconda3\\lib\\site-packages (from lightgbm) (0.21.3)\n",
      "Requirement already satisfied: numpy in c:\\users\\aferr\\anaconda3\\lib\\site-packages (from lightgbm) (1.17.4)\n",
      "Requirement already satisfied: scipy in c:\\users\\aferr\\anaconda3\\lib\\site-packages (from lightgbm) (1.4.1)\n",
      "Requirement already satisfied: joblib>=0.11 in c:\\users\\aferr\\anaconda3\\lib\\site-packages (from scikit-learn->lightgbm) (0.14.0)\n",
      "Requirement already satisfied: xgboost in c:\\users\\aferr\\anaconda3\\lib\\site-packages (1.2.1)\n",
      "Requirement already satisfied: scipy in c:\\users\\aferr\\anaconda3\\lib\\site-packages (from xgboost) (1.4.1)\n",
      "Requirement already satisfied: numpy in c:\\users\\aferr\\anaconda3\\lib\\site-packages (from xgboost) (1.17.4)\n"
     ]
    }
   ],
   "source": [
    "! pip install lightgbm\n",
    "! pip install xgboost"
   ]
  },
  {
   "cell_type": "code",
   "execution_count": 2,
   "metadata": {},
   "outputs": [],
   "source": [
    "import plotly_express as px\n",
    "import pandas as pd\n",
    "import matplotlib.pyplot as plt\n",
    "import numpy as np\n",
    "import statsmodels.api as sm\n",
    "import statsmodels.formula.api as smf\n",
    "import seaborn as sns\n",
    "from scipy import stats\n",
    "import scipy\n",
    "import seaborn as sns\n",
    "import statsmodels\n",
    "import statsmodels.stats.api as sms"
   ]
  },
  {
   "cell_type": "code",
   "execution_count": 3,
   "metadata": {},
   "outputs": [],
   "source": [
    "import xgboost as xgb\n",
    "from xgboost import XGBRegressor\n",
    "from sklearn.model_selection import train_test_split\n",
    "from sklearn.metrics import mean_squared_error\n",
    "from sklearn.preprocessing import RobustScaler\n",
    "from sklearn.model_selection import RandomizedSearchCV, GridSearchCV"
   ]
  },
  {
   "cell_type": "code",
   "execution_count": 4,
   "metadata": {},
   "outputs": [],
   "source": [
    "# parâmetros dos gráficos para o arquivo\n",
    "params = {'legend.fontsize': 'x-large',\n",
    "          'figure.figsize': (16, 8),\n",
    "          'axes.labelsize': 'x-large',\n",
    "          'axes.titlesize':'x-large',\n",
    "          'xtick.labelsize':'x-large',\n",
    "          'ytick.labelsize':'x-large'}\n",
    "%matplotlib inline\n",
    "plt.rcParams.update(params)"
   ]
  },
  {
   "cell_type": "code",
   "execution_count": 5,
   "metadata": {},
   "outputs": [],
   "source": [
    "import sys\n",
    "import warnings\n",
    "if not sys.warnoptions:\n",
    "    warnings.simplefilter(\"ignore\")"
   ]
  },
  {
   "cell_type": "markdown",
   "metadata": {},
   "source": [
    "### Arquivos_EUA"
   ]
  },
  {
   "cell_type": "code",
   "execution_count": 6,
   "metadata": {},
   "outputs": [],
   "source": [
    "X= pd.read_excel(r'X.xlsx')"
   ]
  },
  {
   "cell_type": "code",
   "execution_count": 7,
   "metadata": {},
   "outputs": [],
   "source": [
    "output= pd.read_excel(r'ybio.xlsx', header=0)"
   ]
  },
  {
   "cell_type": "code",
   "execution_count": 8,
   "metadata": {},
   "outputs": [],
   "source": [
    "X =X.fillna(0.001)"
   ]
  },
  {
   "cell_type": "code",
   "execution_count": 9,
   "metadata": {},
   "outputs": [
    {
     "data": {
      "text/html": [
       "<div>\n",
       "<style scoped>\n",
       "    .dataframe tbody tr th:only-of-type {\n",
       "        vertical-align: middle;\n",
       "    }\n",
       "\n",
       "    .dataframe tbody tr th {\n",
       "        vertical-align: top;\n",
       "    }\n",
       "\n",
       "    .dataframe thead th {\n",
       "        text-align: right;\n",
       "    }\n",
       "</style>\n",
       "<table border=\"1\" class=\"dataframe\">\n",
       "  <thead>\n",
       "    <tr style=\"text-align: right;\">\n",
       "      <th></th>\n",
       "      <th>pibe_capita</th>\n",
       "      <th>pibe_areae</th>\n",
       "      <th>pope_areae</th>\n",
       "      <th>pibe_GWe</th>\n",
       "      <th>GWe_pope</th>\n",
       "    </tr>\n",
       "  </thead>\n",
       "  <tbody>\n",
       "    <tr>\n",
       "      <td>0</td>\n",
       "      <td>0.046529</td>\n",
       "      <td>1.739276</td>\n",
       "      <td>37.380099</td>\n",
       "      <td>0.001599</td>\n",
       "      <td>29.099337</td>\n",
       "    </tr>\n",
       "    <tr>\n",
       "      <td>1</td>\n",
       "      <td>0.074343</td>\n",
       "      <td>0.113787</td>\n",
       "      <td>1.530579</td>\n",
       "      <td>0.008958</td>\n",
       "      <td>8.298660</td>\n",
       "    </tr>\n",
       "  </tbody>\n",
       "</table>\n",
       "</div>"
      ],
      "text/plain": [
       "   pibe_capita  pibe_areae  pope_areae  pibe_GWe   GWe_pope\n",
       "0     0.046529    1.739276   37.380099  0.001599  29.099337\n",
       "1     0.074343    0.113787    1.530579  0.008958   8.298660"
      ]
     },
     "execution_count": 9,
     "metadata": {},
     "output_type": "execute_result"
    }
   ],
   "source": [
    "X.head(2)\n",
    "# dado não normalizado"
   ]
  },
  {
   "cell_type": "code",
   "execution_count": 10,
   "metadata": {},
   "outputs": [
    {
     "data": {
      "text/html": [
       "<div>\n",
       "<style scoped>\n",
       "    .dataframe tbody tr th:only-of-type {\n",
       "        vertical-align: middle;\n",
       "    }\n",
       "\n",
       "    .dataframe tbody tr th {\n",
       "        vertical-align: top;\n",
       "    }\n",
       "\n",
       "    .dataframe thead th {\n",
       "        text-align: right;\n",
       "    }\n",
       "</style>\n",
       "<table border=\"1\" class=\"dataframe\">\n",
       "  <thead>\n",
       "    <tr style=\"text-align: right;\">\n",
       "      <th></th>\n",
       "      <th>bioSe</th>\n",
       "    </tr>\n",
       "  </thead>\n",
       "  <tbody>\n",
       "    <tr>\n",
       "      <td>0</td>\n",
       "      <td>11193.4559</td>\n",
       "    </tr>\n",
       "    <tr>\n",
       "      <td>1</td>\n",
       "      <td>513.4767</td>\n",
       "    </tr>\n",
       "  </tbody>\n",
       "</table>\n",
       "</div>"
      ],
      "text/plain": [
       "        bioSe\n",
       "0  11193.4559\n",
       "1    513.4767"
      ]
     },
     "execution_count": 10,
     "metadata": {},
     "output_type": "execute_result"
    }
   ],
   "source": [
    "output.head(2)\n",
    "# dado não normalizado"
   ]
  },
  {
   "cell_type": "markdown",
   "metadata": {},
   "source": [
    "### geotermica"
   ]
  },
  {
   "cell_type": "code",
   "execution_count": 11,
   "metadata": {},
   "outputs": [],
   "source": [
    "# Divisão entre arquivos de treino e teste, com corte em 30%\n",
    "X_train, X_test, y_train, y_test = train_test_split(X,output,test_size =0.2, random_state=1234)"
   ]
  },
  {
   "cell_type": "code",
   "execution_count": 12,
   "metadata": {},
   "outputs": [
    {
     "data": {
      "text/plain": [
       "ExtraTreesRegressor(bootstrap=False, criterion='mse', max_depth=None,\n",
       "                    max_features='auto', max_leaf_nodes=None,\n",
       "                    min_impurity_decrease=0.0, min_impurity_split=None,\n",
       "                    min_samples_leaf=1, min_samples_split=2,\n",
       "                    min_weight_fraction_leaf=0.0, n_estimators=100, n_jobs=None,\n",
       "                    oob_score=False, random_state=None, verbose=0,\n",
       "                    warm_start=False)"
      ]
     },
     "execution_count": 12,
     "metadata": {},
     "output_type": "execute_result"
    }
   ],
   "source": [
    "from sklearn.ensemble import ExtraTreesRegressor\n",
    "model = ExtraTreesRegressor(n_estimators=100)\n",
    "model.fit(X_train, y_train)"
   ]
  },
  {
   "cell_type": "code",
   "execution_count": 13,
   "metadata": {},
   "outputs": [
    {
     "data": {
      "text/plain": [
       "<AxesSubplot:>"
      ]
     },
     "execution_count": 13,
     "metadata": {},
     "output_type": "execute_result"
    },
    {
     "data": {
      "image/png": "[encoded data removed]",
      "text/plain": [
       "<Figure size 1152x576 with 1 Axes>"
      ]
     },
     "metadata": {
      "needs_background": "light"
     },
     "output_type": "display_data"
    }
   ],
   "source": [
    "(pd.Series(model.feature_importances_, index=X.columns)\n",
    "   .nlargest(10).sort_values().plot.barh())"
   ]
  },
  {
   "cell_type": "markdown",
   "metadata": {},
   "source": [
    "### Algoritmo Referência = Random Forest"
   ]
  },
  {
   "cell_type": "code",
   "execution_count": 14,
   "metadata": {},
   "outputs": [
    {
     "name": "stdout",
     "output_type": "stream",
     "text": [
      "Parameters currently in use:\n",
      "\n",
      "{'bootstrap': True,\n",
      " 'criterion': 'mse',\n",
      " 'max_depth': None,\n",
      " 'max_features': 'auto',\n",
      " 'max_leaf_nodes': None,\n",
      " 'min_impurity_decrease': 0.0,\n",
      " 'min_impurity_split': None,\n",
      " 'min_samples_leaf': 1,\n",
      " 'min_samples_split': 2,\n",
      " 'min_weight_fraction_leaf': 0.0,\n",
      " 'n_estimators': 'warn',\n",
      " 'n_jobs': None,\n",
      " 'oob_score': False,\n",
      " 'random_state': 42,\n",
      " 'verbose': 0,\n",
      " 'warm_start': False}\n"
     ]
    }
   ],
   "source": [
    "from sklearn.ensemble import RandomForestRegressor\n",
    "rf = RandomForestRegressor(random_state = 42)\n",
    "from sklearn.model_selection import RandomizedSearchCV\n",
    "from pprint import pprint\n",
    "# Look at parameters used by our current forest\n",
    "print('Parameters currently in use:\\n')\n",
    "pprint(rf.get_params())"
   ]
  },
  {
   "cell_type": "code",
   "execution_count": 15,
   "metadata": {},
   "outputs": [
    {
     "name": "stdout",
     "output_type": "stream",
     "text": [
      "Fitting 10 folds for each of 100 candidates, totalling 1000 fits\n"
     ]
    },
    {
     "name": "stderr",
     "output_type": "stream",
     "text": [
      "[Parallel(n_jobs=-1)]: Using backend LokyBackend with 8 concurrent workers.\n",
      "[Parallel(n_jobs=-1)]: Done  25 tasks      | elapsed:    3.3s\n",
      "[Parallel(n_jobs=-1)]: Done 1000 out of 1000 | elapsed:    5.4s finished\n"
     ]
    },
    {
     "data": {
      "text/plain": [
       "RandomizedSearchCV(cv=10, error_score='raise-deprecating',\n",
       "                   estimator=RandomForestRegressor(bootstrap=True,\n",
       "                                                   criterion='mse',\n",
       "                                                   max_depth=None,\n",
       "                                                   max_features='auto',\n",
       "                                                   max_leaf_nodes=None,\n",
       "                                                   min_impurity_decrease=0.0,\n",
       "                                                   min_impurity_split=None,\n",
       "                                                   min_samples_leaf=1,\n",
       "                                                   min_samples_split=2,\n",
       "                                                   min_weight_fraction_leaf=0.0,\n",
       "                                                   n_estimators='warn',\n",
       "                                                   n_jobs=None, oob_score=False,\n",
       "                                                   random_st...\n",
       "                                                   warm_start=False),\n",
       "                   iid='warn', n_iter=100, n_jobs=-1,\n",
       "                   param_distributions={'max_depth': [5, 10, 20, 30],\n",
       "                                        'max_features': ['auto'],\n",
       "                                        'max_leaf_nodes': [2, 3, 4, 5],\n",
       "                                        'min_samples_leaf': [5, 10, 15],\n",
       "                                        'min_samples_split': [3, 6, 9, 12, 15,\n",
       "                                                              18, 21],\n",
       "                                        'n_estimators': [2, 3, 4, 5, 6, 7, 8, 9,\n",
       "                                                         10, 11, 12]},\n",
       "                   pre_dispatch='2*n_jobs', random_state=None, refit=True,\n",
       "                   return_train_score=False, scoring=None, verbose=2)"
      ]
     },
     "execution_count": 15,
     "metadata": {},
     "output_type": "execute_result"
    }
   ],
   "source": [
    "# otimização de hiperparâmetros\n",
    "params_grid= {'n_estimators':[2,3,4,5,6,7,8,9,10,11,12],\n",
    "              \"max_features\":['auto'],\n",
    "              'max_depth':[5,10,20,30],\n",
    "              'max_leaf_nodes':[2,3,4,5],\n",
    "              'min_samples_leaf':[5,10,15],\n",
    "              'min_samples_split':[3,6,9,12,15,18,21]}\n",
    "random_rf = RandomizedSearchCV(estimator = rf,cv=10,param_distributions=params_grid,n_iter=100,verbose=2,n_jobs=-1)\n",
    "random_rf.fit(X_train, y_train)"
   ]
  },
  {
   "cell_type": "code",
   "execution_count": 16,
   "metadata": {},
   "outputs": [
    {
     "data": {
      "text/plain": [
       "{'n_estimators': 7,\n",
       " 'min_samples_split': 6,\n",
       " 'min_samples_leaf': 5,\n",
       " 'max_leaf_nodes': 2,\n",
       " 'max_features': 'auto',\n",
       " 'max_depth': 20}"
      ]
     },
     "execution_count": 16,
     "metadata": {},
     "output_type": "execute_result"
    }
   ],
   "source": [
    "random_rf.best_params_"
   ]
  },
  {
   "cell_type": "code",
   "execution_count": 17,
   "metadata": {},
   "outputs": [],
   "source": [
    "m_rf=RandomForestRegressor(n_estimators= 7,\n",
    " min_samples_split = 6,\n",
    " min_samples_leaf = 5,\n",
    " max_leaf_nodes = 2,\n",
    " max_features ='auto',\n",
    " max_depth = 20)"
   ]
  },
  {
   "cell_type": "code",
   "execution_count": 18,
   "metadata": {},
   "outputs": [
    {
     "name": "stdout",
     "output_type": "stream",
     "text": [
      "RandomForestRegressor(bootstrap=True, criterion='mse', max_depth=20,\n",
      "                      max_features='auto', max_leaf_nodes=2,\n",
      "                      min_impurity_decrease=0.0, min_impurity_split=None,\n",
      "                      min_samples_leaf=5, min_samples_split=6,\n",
      "                      min_weight_fraction_leaf=0.0, n_estimators=7, n_jobs=None,\n",
      "                      oob_score=False, random_state=None, verbose=0,\n",
      "                      warm_start=False)\n"
     ]
    }
   ],
   "source": [
    "yrf = m_rf.fit(X_train,y_train)\n",
    "print(yrf)"
   ]
  },
  {
   "cell_type": "code",
   "execution_count": 19,
   "metadata": {},
   "outputs": [],
   "source": [
    "y_rf= yrf.predict(X_test)"
   ]
  },
  {
   "cell_type": "markdown",
   "metadata": {},
   "source": [
    "### Avaliação dos Erros"
   ]
  },
  {
   "cell_type": "code",
   "execution_count": 20,
   "metadata": {},
   "outputs": [],
   "source": [
    "from sklearn.metrics import r2_score \n",
    "from sklearn.metrics import mean_squared_error # MSE\n",
    "# RMSE = mean_squared_error(y_test,y_pred,squared=False) \n",
    "from sklearn.metrics import mean_absolute_error\n",
    "import numpy as np\n",
    "# MAPE = np.mean(np.abs((y_test - y_pred) / y_test)) * 100\n",
    "from sklearn.metrics import mean_squared_log_error"
   ]
  },
  {
   "cell_type": "code",
   "execution_count": 21,
   "metadata": {},
   "outputs": [
    {
     "name": "stdout",
     "output_type": "stream",
     "text": [
      "bioSe    8300.58\n",
      "dtype: float64\n"
     ]
    }
   ],
   "source": [
    "c=np.mean(y_train)\n",
    "print(round(c,3))\n",
    "# dados normalizados: entre 0 e 1"
   ]
  },
  {
   "cell_type": "code",
   "execution_count": 22,
   "metadata": {},
   "outputs": [
    {
     "name": "stdout",
     "output_type": "stream",
     "text": [
      "R2 = -0.07\n",
      "MSE = 32796362.37\n",
      "RMSE = 5726.811\n",
      "MAE =  4843.807\n"
     ]
    }
   ],
   "source": [
    "R2 = r2_score(y_test,y_rf)\n",
    "mse_rf = mean_squared_error(y_test, y_rf)\n",
    "rmse_rf = mse_rf**0.5\n",
    "mae_rf =  mean_absolute_error(y_test, y_rf)\n",
    "# msle_rf = mean_squared_log_error(y_test,y_rf)\n",
    "print('R2 =', round(R2,3))\n",
    "print('MSE =', round(mse_rf,3))\n",
    "print('RMSE =', round(rmse_rf,3))\n",
    "print('MAE = ', round(mae_rf,3))\n",
    "# print('MSLE =', round(msle_rf,3))"
   ]
  },
  {
   "cell_type": "code",
   "execution_count": 23,
   "metadata": {},
   "outputs": [
    {
     "name": "stdout",
     "output_type": "stream",
     "text": [
      "-1.407\n"
     ]
    }
   ],
   "source": [
    "# R2 ajustado -- ponderação entre os fatores mais relevantes\n",
    "def adjusted_r2(y_test, y_rf,X_train):\n",
    "    from sklearn.metrics import r2_score\n",
    "    adj_r2 = (1 - ((1 - r2_score(y_test, y_rf)) * (len(y_test) - 1)) / \n",
    "          (len(y_test) - X_train.shape[1] - 1))\n",
    "    return adj_r2\n",
    "a= round(adjusted_r2(y_test,y_rf,X_train),3)\n",
    "print(a)"
   ]
  },
  {
   "cell_type": "code",
   "execution_count": 24,
   "metadata": {},
   "outputs": [],
   "source": [
    "y_test=np.array(y_test)"
   ]
  },
  {
   "cell_type": "code",
   "execution_count": 25,
   "metadata": {},
   "outputs": [
    {
     "name": "stdout",
     "output_type": "stream",
     "text": [
      "-432.2\n",
      "694.6\n"
     ]
    }
   ],
   "source": [
    "errop2= (y_test - y_rf)*100/y_test\n",
    "# em porcentagem\n",
    "media = round(np.mean(errop2),1)\n",
    "print(media)\n",
    "desvio = round(np.std(errop2),1)\n",
    "print(desvio)"
   ]
  },
  {
   "cell_type": "code",
   "execution_count": 26,
   "metadata": {},
   "outputs": [],
   "source": [
    "a=np.mean(y_train) #teste média y_train\n",
    "a\n",
    "a = [a]*len(y_test)"
   ]
  },
  {
   "cell_type": "code",
   "execution_count": 27,
   "metadata": {},
   "outputs": [
    {
     "name": "stdout",
     "output_type": "stream",
     "text": [
      "33009481.403 32796362.37\n",
      "0.994\n"
     ]
    }
   ],
   "source": [
    "# novo erro: modelo simples, com a média do conjunto treino\n",
    "mse_m = mean_squared_error(y_test,a)\n",
    "# comparativo entre o modelo tree e o modelo simples\n",
    "r_rf = mse_rf/mse_m\n",
    "print(round(mse_m,3), round(mse_rf,3))\n",
    "print(round(r_rf,3))"
   ]
  },
  {
   "cell_type": "markdown",
   "metadata": {},
   "source": [
    "### Uso inicial dos algoritmos GBoosting"
   ]
  },
  {
   "cell_type": "markdown",
   "metadata": {},
   "source": [
    "### Otimização de parâmetros"
   ]
  },
  {
   "cell_type": "code",
   "execution_count": 28,
   "metadata": {},
   "outputs": [],
   "source": [
    "# Light & XG Boosting\n",
    "params= {\n",
    "    'booster': [\"gbtree\",\"gblinear\",'dart'],\n",
    "    'learning rate': [0.05, 0.1, 0.2, 0.3, 0.4, 0.5],\n",
    "    'max depth': [3,4,5,8,10,11,12],\n",
    "    'min_child_weigth': [1,3,5,7],\n",
    "    'gamma': [0, 0.1, 0.2, 0.3, 0.4],\n",
    "    'colsample_bytree': [0.3,0.4,0.5,0.6]\n",
    "}"
   ]
  },
  {
   "cell_type": "code",
   "execution_count": 29,
   "metadata": {},
   "outputs": [],
   "source": [
    "# Gradient Boosting\n",
    "params0= {\n",
    "    'min_samples_split': [300,400,500],\n",
    "    'min_samples_leaf': [30,40,50],\n",
    "    'min_weight_fraction_leaf': [0, 0.1, 0.2, 0.3, 0.4],\n",
    "    'max_depth': [5,6,7,8],\n",
    "    'subsample': [0.6,0.7,0.8],\n",
    "    'learning_rate' : [0.001, 0.01, 0.09, 0.1, 0.15]\n",
    "}"
   ]
  },
  {
   "cell_type": "code",
   "execution_count": 30,
   "metadata": {},
   "outputs": [],
   "source": [
    "# Adaptative Boosting\n",
    "params1= {\n",
    "    'n_estimators': [30,40,50],\n",
    "    'learning_rate' : [0.001, 0.01, 0.09, 0.1, 0.15]\n",
    "}"
   ]
  },
  {
   "cell_type": "code",
   "execution_count": 31,
   "metadata": {},
   "outputs": [
    {
     "name": "stdout",
     "output_type": "stream",
     "text": [
      "*****************Regressao_pronta*****************\n"
     ]
    }
   ],
   "source": [
    "# GradientBoosting - Regressao\n",
    "from sklearn.ensemble import GradientBoostingRegressor\n",
    "gbr = GradientBoostingRegressor(random_state=0)\n",
    "gbr.fit(X_train, y_train)\n",
    "import lightgbm as lgb\n",
    "lgb = lgb.LGBMRegressor(learning_rate = 0.001, \n",
    "                              num_leaves = 65,  \n",
    "                              n_estimators = 100)                       \n",
    "lgb.fit(X_train, y_train)\n",
    " # XGBoost\n",
    "import xgboost as xgb\n",
    "xgb= xgb.XGBRegressor(learning_rate=0.001,\n",
    "                            max_depth = 1, \n",
    "                            n_estimators = 100)\n",
    "xgb.fit(X_train, y_train)\n",
    "# AdaBoost\n",
    "from sklearn.ensemble import AdaBoostRegressor\n",
    "from sklearn.tree import DecisionTreeRegressor\n",
    "ada = AdaBoostRegressor(\n",
    "    DecisionTreeRegressor(max_depth=1), n_estimators=100,\n",
    "    learning_rate=0.001)\n",
    "ada.fit(X_train, y_train)\n",
    "\n",
    "print('*****************Regressao_pronta*****************')"
   ]
  },
  {
   "cell_type": "code",
   "execution_count": 32,
   "metadata": {},
   "outputs": [],
   "source": [
    "# Random Search & Cross Validation\n",
    "random_search_gbr = RandomizedSearchCV(gbr,param_distributions=params0,n_iter=5,n_jobs=-1,cv=5,verbose=3)\n",
    "random_search_lgb = RandomizedSearchCV(lgb,param_distributions=params,n_iter=5,n_jobs=-1,cv=5,verbose=3)\n",
    "random_search_xgb = RandomizedSearchCV(xgb,param_distributions=params,n_iter=5,n_jobs=-1,cv=5,verbose=3)\n",
    "random_search_ada = RandomizedSearchCV(ada,param_distributions=params1,n_iter=5,n_jobs=-1,cv=5,verbose=3)"
   ]
  },
  {
   "cell_type": "code",
   "execution_count": 33,
   "metadata": {},
   "outputs": [
    {
     "name": "stdout",
     "output_type": "stream",
     "text": [
      "Fitting 5 folds for each of 5 candidates, totalling 25 fits\n"
     ]
    },
    {
     "name": "stderr",
     "output_type": "stream",
     "text": [
      "[Parallel(n_jobs=-1)]: Using backend LokyBackend with 8 concurrent workers.\n",
      "[Parallel(n_jobs=-1)]: Done  10 out of  25 | elapsed:    0.0s remaining:    0.0s\n",
      "[Parallel(n_jobs=-1)]: Done  25 out of  25 | elapsed:    0.2s finished\n",
      "[Parallel(n_jobs=-1)]: Using backend LokyBackend with 8 concurrent workers.\n",
      "[Parallel(n_jobs=-1)]: Done  10 out of  25 | elapsed:    0.0s remaining:    0.0s\n",
      "[Parallel(n_jobs=-1)]: Done  19 out of  25 | elapsed:    0.0s remaining:    0.0s\n",
      "[Parallel(n_jobs=-1)]: Done  25 out of  25 | elapsed:    0.0s finished\n",
      "[Parallel(n_jobs=-1)]: Using backend LokyBackend with 8 concurrent workers.\n"
     ]
    },
    {
     "name": "stdout",
     "output_type": "stream",
     "text": [
      "Fitting 5 folds for each of 5 candidates, totalling 25 fits\n",
      "Fitting 5 folds for each of 5 candidates, totalling 25 fits\n"
     ]
    },
    {
     "name": "stderr",
     "output_type": "stream",
     "text": [
      "[Parallel(n_jobs=-1)]: Done  19 out of  25 | elapsed:    1.2s remaining:    0.3s\n",
      "[Parallel(n_jobs=-1)]: Done  25 out of  25 | elapsed:    1.3s finished\n",
      "[Parallel(n_jobs=-1)]: Using backend LokyBackend with 8 concurrent workers.\n",
      "[Parallel(n_jobs=-1)]: Done  10 out of  25 | elapsed:    0.0s remaining:    0.1s\n"
     ]
    },
    {
     "name": "stdout",
     "output_type": "stream",
     "text": [
      "[17:52:40] WARNING: C:\\Users\\Administrator\\workspace\\xgboost-win64_release_1.2.0\\src\\learner.cc:516: \n",
      "Parameters: { colsample_bylevel, colsample_bynode, colsample_bytree, gamma, interaction_constraints, learning rate, max depth, max_delta_step, max_depth, min_child_weight, min_child_weigth, monotone_constraints, num_parallel_tree, subsample, tree_method } might not be used.\n",
      "\n",
      "  This may not be accurate due to some parameters are only used in language bindings but\n",
      "  passed down to XGBoost core.  Or some parameters are not used but slip through this\n",
      "  verification. Please open an issue if you find above cases.\n",
      "\n",
      "\n",
      "Fitting 5 folds for each of 5 candidates, totalling 25 fits\n"
     ]
    },
    {
     "name": "stderr",
     "output_type": "stream",
     "text": [
      "[Parallel(n_jobs=-1)]: Done  25 out of  25 | elapsed:    0.2s finished\n"
     ]
    },
    {
     "data": {
      "text/plain": [
       "RandomizedSearchCV(cv=5, error_score='raise-deprecating',\n",
       "                   estimator=AdaBoostRegressor(base_estimator=DecisionTreeRegressor(criterion='mse',\n",
       "                                                                                    max_depth=1,\n",
       "                                                                                    max_features=None,\n",
       "                                                                                    max_leaf_nodes=None,\n",
       "                                                                                    min_impurity_decrease=0.0,\n",
       "                                                                                    min_impurity_split=None,\n",
       "                                                                                    min_samples_leaf=1,\n",
       "                                                                                    min_samples_split=2,\n",
       "                                                                                    min_weight_fraction_leaf=0.0,\n",
       "                                                                                    presort=False,\n",
       "                                                                                    random_state=None,\n",
       "                                                                                    splitter='best'),\n",
       "                                               learning_rate=0.001,\n",
       "                                               loss='linear', n_estimators=100,\n",
       "                                               random_state=None),\n",
       "                   iid='warn', n_iter=5, n_jobs=-1,\n",
       "                   param_distributions={'learning_rate': [0.001, 0.01, 0.09,\n",
       "                                                          0.1, 0.15],\n",
       "                                        'n_estimators': [30, 40, 50]},\n",
       "                   pre_dispatch='2*n_jobs', random_state=None, refit=True,\n",
       "                   return_train_score=False, scoring=None, verbose=3)"
      ]
     },
     "execution_count": 33,
     "metadata": {},
     "output_type": "execute_result"
    }
   ],
   "source": [
    "random_search_gbr.fit(X_train, y_train)\n",
    "random_search_lgb.fit(X_train, y_train)\n",
    "random_search_xgb.fit(X_train, y_train)\n",
    "random_search_ada.fit(X_train, y_train)"
   ]
  },
  {
   "cell_type": "code",
   "execution_count": 34,
   "metadata": {},
   "outputs": [],
   "source": [
    "from sklearn.model_selection import cross_val_score\n",
    "score_gbr=cross_val_score(gbr,X,output,cv=10)\n",
    "score_lgb=cross_val_score(lgb,X,output,cv=10)\n",
    "score_xgb=cross_val_score(xgb,X,output,cv=10)\n",
    "score_ada=cross_val_score(ada,X,output,cv=10)"
   ]
  },
  {
   "cell_type": "markdown",
   "metadata": {},
   "source": [
    "### Gradient Boosting"
   ]
  },
  {
   "cell_type": "code",
   "execution_count": 35,
   "metadata": {},
   "outputs": [
    {
     "name": "stdout",
     "output_type": "stream",
     "text": [
      "GradientBoostingRegressor(alpha=0.9, criterion='friedman_mse', init=None,\n",
      "                          learning_rate=0.01, loss='ls', max_depth=5,\n",
      "                          max_features=None, max_leaf_nodes=None,\n",
      "                          min_impurity_decrease=0.0, min_impurity_split=None,\n",
      "                          min_samples_leaf=30, min_samples_split=400,\n",
      "                          min_weight_fraction_leaf=0.4, n_estimators=100,\n",
      "                          n_iter_no_change=None, presort='auto', random_state=0,\n",
      "                          subsample=0.7, tol=0.0001, validation_fraction=0.1,\n",
      "                          verbose=0, warm_start=False)\n"
     ]
    }
   ],
   "source": [
    "print(random_search_gbr.best_estimator_)"
   ]
  },
  {
   "cell_type": "code",
   "execution_count": 36,
   "metadata": {},
   "outputs": [],
   "source": [
    "m_gbr = GradientBoostingRegressor(alpha=0.9, criterion='friedman_mse', init=None,\n",
    "                          learning_rate=0.01, loss='ls', max_depth= 5,\n",
    "                          max_features=None, max_leaf_nodes=None,\n",
    "                          min_impurity_decrease=0.0, min_impurity_split=None,\n",
    "                          min_samples_leaf=50, min_samples_split=400,\n",
    "                          min_weight_fraction_leaf=0.1, n_estimators=100,\n",
    "                          n_iter_no_change=None, presort='auto', random_state=0,\n",
    "                          subsample=0.7, tol=0.0001, validation_fraction=0.1,\n",
    "                          verbose=0, warm_start=False)"
   ]
  },
  {
   "cell_type": "code",
   "execution_count": 37,
   "metadata": {},
   "outputs": [
    {
     "data": {
      "text/plain": [
       "GradientBoostingRegressor(alpha=0.9, criterion='friedman_mse', init=None,\n",
       "                          learning_rate=0.01, loss='ls', max_depth=5,\n",
       "                          max_features=None, max_leaf_nodes=None,\n",
       "                          min_impurity_decrease=0.0, min_impurity_split=None,\n",
       "                          min_samples_leaf=50, min_samples_split=400,\n",
       "                          min_weight_fraction_leaf=0.1, n_estimators=100,\n",
       "                          n_iter_no_change=None, presort='auto', random_state=0,\n",
       "                          subsample=0.7, tol=0.0001, validation_fraction=0.1,\n",
       "                          verbose=0, warm_start=False)"
      ]
     },
     "execution_count": 37,
     "metadata": {},
     "output_type": "execute_result"
    }
   ],
   "source": [
    "m_gbr.fit(X_train,y_train)"
   ]
  },
  {
   "cell_type": "code",
   "execution_count": 38,
   "metadata": {},
   "outputs": [],
   "source": [
    "y_gbr = m_gbr.predict(X_test)"
   ]
  },
  {
   "cell_type": "code",
   "execution_count": 39,
   "metadata": {},
   "outputs": [
    {
     "name": "stdout",
     "output_type": "stream",
     "text": [
      "33028924.751\n"
     ]
    }
   ],
   "source": [
    "mse_gbr = round(mean_squared_error(y_test, y_gbr),3)\n",
    "print(mse_gbr)"
   ]
  },
  {
   "cell_type": "code",
   "execution_count": 40,
   "metadata": {},
   "outputs": [
    {
     "name": "stdout",
     "output_type": "stream",
     "text": [
      "-521.003\n"
     ]
    }
   ],
   "source": [
    "errop2= (y_test - y_gbr)*100/y_test\n",
    "a = np.mean(errop2)\n",
    "print(round(a,3))\n",
    "# em porcentagem"
   ]
  },
  {
   "cell_type": "code",
   "execution_count": 41,
   "metadata": {},
   "outputs": [
    {
     "name": "stdout",
     "output_type": "stream",
     "text": [
      "R2 = -0.077\n",
      "MSE = 33028924.751\n",
      "RMSE = 5747.08\n",
      "MAE =  5053.957\n"
     ]
    }
   ],
   "source": [
    "R2 = r2_score(y_test,y_gbr)\n",
    "mse_gbr = mean_squared_error(y_test, y_gbr)\n",
    "rmse_gbr = mse_gbr**0.5\n",
    "mae_gbr =  mean_absolute_error(y_test, y_gbr)\n",
    "# msle_rf = mean_squared_log_error(y_test,y_rf)\n",
    "print('R2 =', round(R2,3))\n",
    "print('MSE =', round(mse_gbr,3))\n",
    "print('RMSE =', round(rmse_gbr,3))\n",
    "print('MAE = ', round(mae_gbr,3))\n",
    "# print('MSLE =', round(msle_rf,3))"
   ]
  },
  {
   "cell_type": "code",
   "execution_count": 42,
   "metadata": {},
   "outputs": [
    {
     "name": "stdout",
     "output_type": "stream",
     "text": [
      "-1.424\n"
     ]
    }
   ],
   "source": [
    "def adjusted_r2(y_test, y_gbr,X_train):\n",
    "    from sklearn.metrics import r2_score\n",
    "    adj_r2 = (1 - ((1 - r2_score(y_test, y_gbr)) * (len(y_test) - 1)) / \n",
    "          (len(y_test) - X_train.shape[1] - 1))\n",
    "    return adj_r2\n",
    "c = round(adjusted_r2(y_test,y_gbr,X_train),3)\n",
    "print(c)"
   ]
  },
  {
   "cell_type": "code",
   "execution_count": 43,
   "metadata": {},
   "outputs": [
    {
     "name": "stdout",
     "output_type": "stream",
     "text": [
      "33009481.403 33028924.751\n",
      "1.001\n"
     ]
    }
   ],
   "source": [
    "# novo erro: modelo simples, com a média do conjunto treino\n",
    "# mse_m = mean_squared_error(y_test,a)\n",
    "# comparativo entre o modelo tree e o modelo simples\n",
    "r_gbr = mse_gbr/mse_m\n",
    "print(round(mse_m,3), round(mse_gbr,3))\n",
    "print(round(r_gbr,3))"
   ]
  },
  {
   "cell_type": "markdown",
   "metadata": {},
   "source": [
    "### Light Gradient Boosting"
   ]
  },
  {
   "cell_type": "code",
   "execution_count": 44,
   "metadata": {},
   "outputs": [
    {
     "name": "stdout",
     "output_type": "stream",
     "text": [
      "LGBMRegressor(booster='dart', boosting_type='gbdt', class_weight=None,\n",
      "              colsample_bytree=0.3, gamma=0.4, importance_type='split',\n",
      "              learning rate=0.5, learning_rate=0.001, max depth=5, max_depth=-1,\n",
      "              min_child_samples=20, min_child_weight=0.001, min_child_weigth=7,\n",
      "              min_split_gain=0.0, n_estimators=100, n_jobs=-1, num_leaves=65,\n",
      "              objective=None, random_state=None, reg_alpha=0.0, reg_lambda=0.0,\n",
      "              silent=True, subsample=1.0, subsample_for_bin=200000,\n",
      "              subsample_freq=0)\n"
     ]
    }
   ],
   "source": [
    "print(random_search_lgb.best_estimator_)"
   ]
  },
  {
   "cell_type": "code",
   "execution_count": 45,
   "metadata": {},
   "outputs": [],
   "source": [
    "from lightgbm import LGBMRegressor\n",
    "m_lgb = LGBMRegressor(booster='dart', boosting_type='gbdt', class_weight=None,\n",
    "              colsample_bytree=0.4, gamma=0.1 ,importance_type='split',\n",
    "              learning_rate=0.001, max_depth=12,\n",
    "              min_child_samples=20, min_child_weight=0.001,\n",
    "              min_split_gain=0.0, n_estimators=100, n_jobs=-1, num_leaves=65,\n",
    "              objective=None, random_state=None, reg_alpha=0.0, reg_lambda=0.0,\n",
    "              silent=True, subsample=1.0, subsample_for_bin=200000,\n",
    "              subsample_freq=0)"
   ]
  },
  {
   "cell_type": "code",
   "execution_count": 46,
   "metadata": {},
   "outputs": [
    {
     "data": {
      "text/plain": [
       "LGBMRegressor(booster='dart', boosting_type='gbdt', class_weight=None,\n",
       "              colsample_bytree=0.4, gamma=0.1, importance_type='split',\n",
       "              learning_rate=0.001, max_depth=12, min_child_samples=20,\n",
       "              min_child_weight=0.001, min_split_gain=0.0, n_estimators=100,\n",
       "              n_jobs=-1, num_leaves=65, objective=None, random_state=None,\n",
       "              reg_alpha=0.0, reg_lambda=0.0, silent=True, subsample=1.0,\n",
       "              subsample_for_bin=200000, subsample_freq=0)"
      ]
     },
     "execution_count": 46,
     "metadata": {},
     "output_type": "execute_result"
    }
   ],
   "source": [
    "m_lgb.fit(X_train,y_train)"
   ]
  },
  {
   "cell_type": "code",
   "execution_count": 47,
   "metadata": {},
   "outputs": [],
   "source": [
    "y_lgb = m_lgb.predict(X_test)"
   ]
  },
  {
   "cell_type": "code",
   "execution_count": 48,
   "metadata": {},
   "outputs": [
    {
     "name": "stdout",
     "output_type": "stream",
     "text": [
      "33009481.563\n"
     ]
    }
   ],
   "source": [
    "mse_lgb = round(mean_squared_error(y_test, y_lgb),3)\n",
    "print(mse_lgb)"
   ]
  },
  {
   "cell_type": "code",
   "execution_count": 49,
   "metadata": {},
   "outputs": [],
   "source": [
    "errop2= (y_test - y_lgb)*100/y_test\n",
    "# em porcentagem"
   ]
  },
  {
   "cell_type": "code",
   "execution_count": 50,
   "metadata": {},
   "outputs": [
    {
     "name": "stdout",
     "output_type": "stream",
     "text": [
      "33009481.403 33009481.563\n",
      "1.0\n"
     ]
    }
   ],
   "source": [
    "# novo erro: modelo simples, com a média do conjunto treino\n",
    "# mse_m = mean_squared_error(y_test,a)\n",
    "# comparativo entre o modelo tree e o modelo simples\n",
    "r_lgb = mse_lgb/mse_m\n",
    "print(round(mse_m,3), round(mse_lgb,3))\n",
    "print(round(r_lgb,3))"
   ]
  },
  {
   "cell_type": "markdown",
   "metadata": {},
   "source": [
    "### XGBoosting"
   ]
  },
  {
   "cell_type": "code",
   "execution_count": 51,
   "metadata": {},
   "outputs": [
    {
     "name": "stdout",
     "output_type": "stream",
     "text": [
      "XGBRegressor(base_score=0.5, booster='gblinear', colsample_bylevel=1,\n",
      "             colsample_bynode=1, colsample_bytree=0.3, gamma=0.1, gpu_id=-1,\n",
      "             importance_type='gain', interaction_constraints='',\n",
      "             learning rate=0.4, learning_rate=0.001, max depth=10,\n",
      "             max_delta_step=0, max_depth=1, min_child_weight=1,\n",
      "             min_child_weigth=3, missing=nan, monotone_constraints='()',\n",
      "             n_estimators=100, n_jobs=0, num_parallel_tree=1,\n",
      "             objective='reg:squarederror', random_state=0, reg_alpha=0,\n",
      "             reg_lambda=1, scale_pos_weight=1, subsample=1, tree_method='exact',\n",
      "             validate_parameters=1, verbosity=None)\n"
     ]
    }
   ],
   "source": [
    "print(random_search_xgb.best_estimator_)"
   ]
  },
  {
   "cell_type": "code",
   "execution_count": 82,
   "metadata": {},
   "outputs": [],
   "source": [
    "from xgboost import XGBRegressor\n",
    "m_xgb_1= XGBRegressor(base_score=0.5, booster='gblinear', colsample_bylevel=1,\n",
    "             colsample_bynode=1, colsample_bytree=0.4, gamma=0.1, gpu_id=-1,\n",
    "             importance_type='gain', interaction_constraints='',\n",
    "             learning_rate=1.3,\n",
    "             max_delta_step=0, max_depth=1, min_child_weight=3,\n",
    "             missing=0.001, monotone_constraints='()',\n",
    "             n_estimators=100, n_jobs=0, num_parallel_tree=1,\n",
    "             objective='reg:squarederror', random_state=0, reg_alpha=0,\n",
    "             reg_lambda=1, scale_pos_weight=1, subsample=1, tree_method='exact',\n",
    "             validate_parameters=1, verbosity=None)"
   ]
  },
  {
   "cell_type": "code",
   "execution_count": 83,
   "metadata": {},
   "outputs": [
    {
     "name": "stdout",
     "output_type": "stream",
     "text": [
      "[17:55:38] WARNING: C:\\Users\\Administrator\\workspace\\xgboost-win64_release_1.2.0\\src\\learner.cc:516: \n",
      "Parameters: { colsample_bylevel, colsample_bynode, colsample_bytree, gamma, interaction_constraints, max_delta_step, max_depth, min_child_weight, monotone_constraints, num_parallel_tree, subsample, tree_method } might not be used.\n",
      "\n",
      "  This may not be accurate due to some parameters are only used in language bindings but\n",
      "  passed down to XGBoost core.  Or some parameters are not used but slip through this\n",
      "  verification. Please open an issue if you find above cases.\n",
      "\n",
      "\n"
     ]
    },
    {
     "data": {
      "text/plain": [
       "XGBRegressor(base_score=0.5, booster='gblinear', colsample_bylevel=1,\n",
       "             colsample_bynode=1, colsample_bytree=0.4, gamma=0.1, gpu_id=-1,\n",
       "             importance_type='gain', interaction_constraints='',\n",
       "             learning_rate=1.3, max_delta_step=0, max_depth=1,\n",
       "             min_child_weight=3, missing=0.001, monotone_constraints='()',\n",
       "             n_estimators=100, n_jobs=0, num_parallel_tree=1,\n",
       "             objective='reg:squarederror', random_state=0, reg_alpha=0,\n",
       "             reg_lambda=1, scale_pos_weight=1, subsample=1, tree_method='exact',\n",
       "             validate_parameters=1, verbosity=None)"
      ]
     },
     "execution_count": 83,
     "metadata": {},
     "output_type": "execute_result"
    }
   ],
   "source": [
    "m_xgb_1.fit(X_train,y_train)"
   ]
  },
  {
   "cell_type": "code",
   "execution_count": 84,
   "metadata": {},
   "outputs": [],
   "source": [
    "y_xgb= m_xgb_1.predict(X_test)"
   ]
  },
  {
   "cell_type": "code",
   "execution_count": 85,
   "metadata": {},
   "outputs": [
    {
     "name": "stdout",
     "output_type": "stream",
     "text": [
      "35238185.662\n"
     ]
    }
   ],
   "source": [
    "mse_xgb= round(mean_squared_error(y_test, y_xgb),3)\n",
    "print (mse_xgb)"
   ]
  },
  {
   "cell_type": "code",
   "execution_count": 86,
   "metadata": {},
   "outputs": [],
   "source": [
    "errop2= (y_test - y_xgb)*100/y_test\n",
    "# em porcentagem"
   ]
  },
  {
   "cell_type": "code",
   "execution_count": 87,
   "metadata": {},
   "outputs": [
    {
     "name": "stdout",
     "output_type": "stream",
     "text": [
      "33009481.403 35238185.662\n",
      "1.068\n"
     ]
    }
   ],
   "source": [
    "# novo erro: modelo simples, com a média do conjunto treino\n",
    "# mse_m = mean_squared_error(y_test,a)\n",
    "# comparativo entre o modelo tree e o modelo simples\n",
    "r_xgb= mse_xgb/mse_m\n",
    "print(round(mse_m,3), round(mse_xgb,3))\n",
    "print(round(r_xgb,3))"
   ]
  },
  {
   "cell_type": "markdown",
   "metadata": {},
   "source": [
    "### Adaptative Boosting"
   ]
  },
  {
   "cell_type": "code",
   "execution_count": 88,
   "metadata": {},
   "outputs": [
    {
     "name": "stdout",
     "output_type": "stream",
     "text": [
      "AdaBoostRegressor(base_estimator=DecisionTreeRegressor(criterion='mse',\n",
      "                                                       max_depth=1,\n",
      "                                                       max_features=None,\n",
      "                                                       max_leaf_nodes=None,\n",
      "                                                       min_impurity_decrease=0.0,\n",
      "                                                       min_impurity_split=None,\n",
      "                                                       min_samples_leaf=1,\n",
      "                                                       min_samples_split=2,\n",
      "                                                       min_weight_fraction_leaf=0.0,\n",
      "                                                       presort=False,\n",
      "                                                       random_state=None,\n",
      "                                                       splitter='best'),\n",
      "                  learning_rate=0.001, loss='linear', n_estimators=30,\n",
      "                  random_state=None)\n"
     ]
    }
   ],
   "source": [
    "print(random_search_ada.best_estimator_)"
   ]
  },
  {
   "cell_type": "code",
   "execution_count": 89,
   "metadata": {},
   "outputs": [],
   "source": [
    "m_ada = AdaBoostRegressor(base_estimator=DecisionTreeRegressor(criterion='mse',\n",
    "                                                       max_depth=1,\n",
    "                                                       max_features=None,\n",
    "                                                       max_leaf_nodes=None,\n",
    "                                                       min_impurity_decrease=0.0,\n",
    "                                                       min_impurity_split=None,\n",
    "                                                       min_samples_leaf=1,\n",
    "                                                       min_samples_split=2,\n",
    "                                                       min_weight_fraction_leaf=0.0,\n",
    "                                                       presort=False,\n",
    "                                                       random_state=None,\n",
    "                                                       splitter='best'),\n",
    "                  learning_rate=0.15, loss='linear', n_estimators=50,\n",
    "                  random_state=None)"
   ]
  },
  {
   "cell_type": "code",
   "execution_count": 90,
   "metadata": {},
   "outputs": [
    {
     "data": {
      "text/plain": [
       "AdaBoostRegressor(base_estimator=DecisionTreeRegressor(criterion='mse',\n",
       "                                                       max_depth=1,\n",
       "                                                       max_features=None,\n",
       "                                                       max_leaf_nodes=None,\n",
       "                                                       min_impurity_decrease=0.0,\n",
       "                                                       min_impurity_split=None,\n",
       "                                                       min_samples_leaf=1,\n",
       "                                                       min_samples_split=2,\n",
       "                                                       min_weight_fraction_leaf=0.0,\n",
       "                                                       presort=False,\n",
       "                                                       random_state=None,\n",
       "                                                       splitter='best'),\n",
       "                  learning_rate=0.15, loss='linear', n_estimators=50,\n",
       "                  random_state=None)"
      ]
     },
     "execution_count": 90,
     "metadata": {},
     "output_type": "execute_result"
    }
   ],
   "source": [
    "m_ada.fit(X_train,y_train)"
   ]
  },
  {
   "cell_type": "code",
   "execution_count": 91,
   "metadata": {},
   "outputs": [],
   "source": [
    "y_ada = m_ada.predict(X_test)"
   ]
  },
  {
   "cell_type": "code",
   "execution_count": 92,
   "metadata": {},
   "outputs": [
    {
     "name": "stdout",
     "output_type": "stream",
     "text": [
      "36790875.91415936\n"
     ]
    }
   ],
   "source": [
    "mse_ada = round(mean_squared_error(y_test, y_ada),8)\n",
    "print (mse_ada)"
   ]
  },
  {
   "cell_type": "code",
   "execution_count": 93,
   "metadata": {},
   "outputs": [],
   "source": [
    "errop2= (y_test - y_ada)*100/y_test\n",
    "# em porcentagem"
   ]
  },
  {
   "cell_type": "code",
   "execution_count": 94,
   "metadata": {},
   "outputs": [
    {
     "name": "stdout",
     "output_type": "stream",
     "text": [
      "33009481.403 36790875.914\n",
      "1.115\n"
     ]
    }
   ],
   "source": [
    "# novo erro: modelo simples, com a média do conjunto treino\n",
    "# mse_m = mean_squared_error(y_test,a)\n",
    "# comparativo entre o modelo tree e o modelo simples\n",
    "r_ada = mse_ada/mse_m\n",
    "print(round(mse_m,3), round(mse_ada,3))\n",
    "print(round(r_ada,3))"
   ]
  },
  {
   "cell_type": "code",
   "execution_count": 95,
   "metadata": {},
   "outputs": [
    {
     "data": {
      "text/html": [
       "<div>\n",
       "<style scoped>\n",
       "    .dataframe tbody tr th:only-of-type {\n",
       "        vertical-align: middle;\n",
       "    }\n",
       "\n",
       "    .dataframe tbody tr th {\n",
       "        vertical-align: top;\n",
       "    }\n",
       "\n",
       "    .dataframe thead th {\n",
       "        text-align: right;\n",
       "    }\n",
       "</style>\n",
       "<table border=\"1\" class=\"dataframe\">\n",
       "  <thead>\n",
       "    <tr style=\"text-align: right;\">\n",
       "      <th></th>\n",
       "      <th>MSE</th>\n",
       "      <th>Razão</th>\n",
       "    </tr>\n",
       "  </thead>\n",
       "  <tbody>\n",
       "    <tr>\n",
       "      <td>Random_Forest</td>\n",
       "      <td>3.279636e+07</td>\n",
       "      <td>0.993544</td>\n",
       "    </tr>\n",
       "    <tr>\n",
       "      <td>GradientBoost</td>\n",
       "      <td>3.302892e+07</td>\n",
       "      <td>1.000589</td>\n",
       "    </tr>\n",
       "    <tr>\n",
       "      <td>LightGBM</td>\n",
       "      <td>3.300948e+07</td>\n",
       "      <td>1.000000</td>\n",
       "    </tr>\n",
       "    <tr>\n",
       "      <td>XGBoost</td>\n",
       "      <td>3.523819e+07</td>\n",
       "      <td>1.067517</td>\n",
       "    </tr>\n",
       "    <tr>\n",
       "      <td>AdaBoost</td>\n",
       "      <td>3.679088e+07</td>\n",
       "      <td>1.114555</td>\n",
       "    </tr>\n",
       "  </tbody>\n",
       "</table>\n",
       "</div>"
      ],
      "text/plain": [
       "                        MSE     Razão\n",
       "Random_Forest  3.279636e+07  0.993544\n",
       "GradientBoost  3.302892e+07  1.000589\n",
       "LightGBM       3.300948e+07  1.000000\n",
       "XGBoost        3.523819e+07  1.067517\n",
       "AdaBoost       3.679088e+07  1.114555"
      ]
     },
     "execution_count": 95,
     "metadata": {},
     "output_type": "execute_result"
    }
   ],
   "source": [
    "models=['Random_Forest','GradientBoost','LightGBM','XGBoost','AdaBoost']\n",
    "mse=[mse_rf,mse_gbr,mse_lgb,mse_xgb,mse_ada]\n",
    "r=[r_rf,r_gbr,r_lgb,r_xgb,r_ada]\n",
    "lista = list(zip(mse,r))\n",
    "d = pd.DataFrame(lista, columns =['MSE','Razão'], index=models)\n",
    "d"
   ]
  },
  {
   "cell_type": "markdown",
   "metadata": {},
   "source": [
    "### Predição dados Brasil"
   ]
  },
  {
   "cell_type": "markdown",
   "metadata": {},
   "source": [
    "### Composição do arquivo de saída¶"
   ]
  },
  {
   "cell_type": "code",
   "execution_count": 96,
   "metadata": {},
   "outputs": [
    {
     "data": {
      "text/html": [
       "<div>\n",
       "<style scoped>\n",
       "    .dataframe tbody tr th:only-of-type {\n",
       "        vertical-align: middle;\n",
       "    }\n",
       "\n",
       "    .dataframe tbody tr th {\n",
       "        vertical-align: top;\n",
       "    }\n",
       "\n",
       "    .dataframe thead th {\n",
       "        text-align: right;\n",
       "    }\n",
       "</style>\n",
       "<table border=\"1\" class=\"dataframe\">\n",
       "  <thead>\n",
       "    <tr style=\"text-align: right;\">\n",
       "      <th></th>\n",
       "      <th>pibe_capita</th>\n",
       "      <th>pibe_areae</th>\n",
       "      <th>pope_areae</th>\n",
       "      <th>pibe_GWe</th>\n",
       "      <th>GWe_pope</th>\n",
       "    </tr>\n",
       "  </thead>\n",
       "  <tbody>\n",
       "    <tr>\n",
       "      <td>0</td>\n",
       "      <td>0.015955</td>\n",
       "      <td>0.086953</td>\n",
       "      <td>5.449966</td>\n",
       "      <td>58.971074</td>\n",
       "      <td>0.000271</td>\n",
       "    </tr>\n",
       "    <tr>\n",
       "      <td>1</td>\n",
       "      <td>0.015767</td>\n",
       "      <td>1.897872</td>\n",
       "      <td>120.371637</td>\n",
       "      <td>8.881176</td>\n",
       "      <td>0.001775</td>\n",
       "    </tr>\n",
       "  </tbody>\n",
       "</table>\n",
       "</div>"
      ],
      "text/plain": [
       "   pibe_capita  pibe_areae  pope_areae   pibe_GWe  GWe_pope\n",
       "0     0.015955    0.086953    5.449966  58.971074  0.000271\n",
       "1     0.015767    1.897872  120.371637   8.881176  0.001775"
      ]
     },
     "execution_count": 96,
     "metadata": {},
     "output_type": "execute_result"
    }
   ],
   "source": [
    "entb= pd.read_excel(r'Xb.xlsx', header=0)\n",
    "entb.head(2)"
   ]
  },
  {
   "cell_type": "code",
   "execution_count": 97,
   "metadata": {},
   "outputs": [],
   "source": [
    "# entb = np.array(entb)"
   ]
  },
  {
   "cell_type": "code",
   "execution_count": 98,
   "metadata": {},
   "outputs": [
    {
     "data": {
      "text/plain": [
       "array([7989.2637, 6653.8086, 8161.5503, 8185.9585, 7872.6045, 7411.015 ,\n",
       "       2576.909 , 7939.937 , 7958.7603, 8182.8164, 8130.7954, 7705.37  ,\n",
       "       7387.0283, 7210.622 , 8156.3013, 6892.3213, 8068.1816, 2262.0417,\n",
       "       7355.879 , 7609.479 , 8151.31  , 8086.159 , 7083.593 , 6810.757 ,\n",
       "       5243.57  , 8168.4067], dtype=float32)"
      ]
     },
     "execution_count": 98,
     "metadata": {},
     "output_type": "execute_result"
    }
   ],
   "source": [
    "outputb= m_xgb_1.predict(entb)\n",
    "outputb"
   ]
  },
  {
   "cell_type": "code",
   "execution_count": 108,
   "metadata": {},
   "outputs": [
    {
     "data": {
      "text/html": [
       "<div>\n",
       "<style scoped>\n",
       "    .dataframe tbody tr th:only-of-type {\n",
       "        vertical-align: middle;\n",
       "    }\n",
       "\n",
       "    .dataframe tbody tr th {\n",
       "        vertical-align: top;\n",
       "    }\n",
       "\n",
       "    .dataframe thead th {\n",
       "        text-align: right;\n",
       "    }\n",
       "</style>\n",
       "<table border=\"1\" class=\"dataframe\">\n",
       "  <thead>\n",
       "    <tr style=\"text-align: right;\">\n",
       "      <th></th>\n",
       "      <th>Prev</th>\n",
       "    </tr>\n",
       "  </thead>\n",
       "  <tbody>\n",
       "    <tr>\n",
       "      <td>0</td>\n",
       "      <td>7989.263672</td>\n",
       "    </tr>\n",
       "    <tr>\n",
       "      <td>1</td>\n",
       "      <td>6653.808594</td>\n",
       "    </tr>\n",
       "  </tbody>\n",
       "</table>\n",
       "</div>"
      ],
      "text/plain": [
       "          Prev\n",
       "0  7989.263672\n",
       "1  6653.808594"
      ]
     },
     "execution_count": 108,
     "metadata": {},
     "output_type": "execute_result"
    }
   ],
   "source": [
    "outb=pd.DataFrame(data=outputb, columns=['Prev'])\n",
    "outb.head(2)"
   ]
  },
  {
   "cell_type": "code",
   "execution_count": 111,
   "metadata": {},
   "outputs": [],
   "source": [
    "br= pd.read_excel(r'br_estado.xlsx', header=0)\n",
    "# indexação_por_estado_brasileiro"
   ]
  },
  {
   "cell_type": "code",
   "execution_count": 112,
   "metadata": {},
   "outputs": [
    {
     "data": {
      "text/html": [
       "<div>\n",
       "<style scoped>\n",
       "    .dataframe tbody tr th:only-of-type {\n",
       "        vertical-align: middle;\n",
       "    }\n",
       "\n",
       "    .dataframe tbody tr th {\n",
       "        vertical-align: top;\n",
       "    }\n",
       "\n",
       "    .dataframe thead th {\n",
       "        text-align: right;\n",
       "    }\n",
       "</style>\n",
       "<table border=\"1\" class=\"dataframe\">\n",
       "  <thead>\n",
       "    <tr style=\"text-align: right;\">\n",
       "      <th></th>\n",
       "      <th>Unidades da Federação</th>\n",
       "    </tr>\n",
       "  </thead>\n",
       "  <tbody>\n",
       "    <tr>\n",
       "      <td>0</td>\n",
       "      <td>Acre</td>\n",
       "    </tr>\n",
       "  </tbody>\n",
       "</table>\n",
       "</div>"
      ],
      "text/plain": [
       "  Unidades da Federação\n",
       "0                  Acre"
      ]
     },
     "execution_count": 112,
     "metadata": {},
     "output_type": "execute_result"
    }
   ],
   "source": [
    "br=br.drop(columns=['PIB em 2017 (1.000.000 R$)','Área (km2)','Geração de energia GW.h','População'])\n",
    "br.head(1)"
   ]
  },
  {
   "cell_type": "code",
   "execution_count": 113,
   "metadata": {},
   "outputs": [],
   "source": [
    "br = br.rename({'Unidades da Federação': 'Estado'}, axis = 1)"
   ]
  },
  {
   "cell_type": "code",
   "execution_count": 118,
   "metadata": {},
   "outputs": [
    {
     "data": {
      "text/html": [
       "<div>\n",
       "<style scoped>\n",
       "    .dataframe tbody tr th:only-of-type {\n",
       "        vertical-align: middle;\n",
       "    }\n",
       "\n",
       "    .dataframe tbody tr th {\n",
       "        vertical-align: top;\n",
       "    }\n",
       "\n",
       "    .dataframe thead th {\n",
       "        text-align: right;\n",
       "    }\n",
       "</style>\n",
       "<table border=\"1\" class=\"dataframe\">\n",
       "  <thead>\n",
       "    <tr style=\"text-align: right;\">\n",
       "      <th></th>\n",
       "      <th>Estado</th>\n",
       "    </tr>\n",
       "  </thead>\n",
       "  <tbody>\n",
       "    <tr>\n",
       "      <td>0</td>\n",
       "      <td>Acre</td>\n",
       "    </tr>\n",
       "    <tr>\n",
       "      <td>1</td>\n",
       "      <td>Alagoas</td>\n",
       "    </tr>\n",
       "  </tbody>\n",
       "</table>\n",
       "</div>"
      ],
      "text/plain": [
       "    Estado\n",
       "0     Acre\n",
       "1  Alagoas"
      ]
     },
     "execution_count": 118,
     "metadata": {},
     "output_type": "execute_result"
    }
   ],
   "source": [
    "br = pd.DataFrame(data=br)\n",
    "br.head(2)"
   ]
  },
  {
   "cell_type": "code",
   "execution_count": 119,
   "metadata": {},
   "outputs": [],
   "source": [
    "prv = pd.concat([br, outb], axis=1, sort=False)"
   ]
  },
  {
   "cell_type": "code",
   "execution_count": 120,
   "metadata": {},
   "outputs": [
    {
     "data": {
      "text/html": [
       "<div>\n",
       "<style scoped>\n",
       "    .dataframe tbody tr th:only-of-type {\n",
       "        vertical-align: middle;\n",
       "    }\n",
       "\n",
       "    .dataframe tbody tr th {\n",
       "        vertical-align: top;\n",
       "    }\n",
       "\n",
       "    .dataframe thead th {\n",
       "        text-align: right;\n",
       "    }\n",
       "</style>\n",
       "<table border=\"1\" class=\"dataframe\">\n",
       "  <thead>\n",
       "    <tr style=\"text-align: right;\">\n",
       "      <th></th>\n",
       "      <th>Estado</th>\n",
       "      <th>Prev</th>\n",
       "    </tr>\n",
       "  </thead>\n",
       "  <tbody>\n",
       "    <tr>\n",
       "      <td>0</td>\n",
       "      <td>Acre</td>\n",
       "      <td>7989.263672</td>\n",
       "    </tr>\n",
       "    <tr>\n",
       "      <td>1</td>\n",
       "      <td>Alagoas</td>\n",
       "      <td>6653.808594</td>\n",
       "    </tr>\n",
       "    <tr>\n",
       "      <td>2</td>\n",
       "      <td>Amapá</td>\n",
       "      <td>8161.550293</td>\n",
       "    </tr>\n",
       "    <tr>\n",
       "      <td>3</td>\n",
       "      <td>Amazonas</td>\n",
       "      <td>8185.958496</td>\n",
       "    </tr>\n",
       "    <tr>\n",
       "      <td>4</td>\n",
       "      <td>Bahia</td>\n",
       "      <td>7872.604492</td>\n",
       "    </tr>\n",
       "    <tr>\n",
       "      <td>5</td>\n",
       "      <td>Ceará</td>\n",
       "      <td>7411.015137</td>\n",
       "    </tr>\n",
       "    <tr>\n",
       "      <td>6</td>\n",
       "      <td>Espírito Santo</td>\n",
       "      <td>2576.908936</td>\n",
       "    </tr>\n",
       "    <tr>\n",
       "      <td>7</td>\n",
       "      <td>Goiás</td>\n",
       "      <td>7939.937012</td>\n",
       "    </tr>\n",
       "    <tr>\n",
       "      <td>8</td>\n",
       "      <td>Maranhão</td>\n",
       "      <td>7958.760254</td>\n",
       "    </tr>\n",
       "    <tr>\n",
       "      <td>9</td>\n",
       "      <td>Mato Grosso</td>\n",
       "      <td>8182.816406</td>\n",
       "    </tr>\n",
       "    <tr>\n",
       "      <td>10</td>\n",
       "      <td>Mato Grosso do Sul</td>\n",
       "      <td>8130.795410</td>\n",
       "    </tr>\n",
       "    <tr>\n",
       "      <td>11</td>\n",
       "      <td>Minas Gerais</td>\n",
       "      <td>7705.370117</td>\n",
       "    </tr>\n",
       "    <tr>\n",
       "      <td>12</td>\n",
       "      <td>Paraná</td>\n",
       "      <td>7387.028320</td>\n",
       "    </tr>\n",
       "    <tr>\n",
       "      <td>13</td>\n",
       "      <td>Paraíba</td>\n",
       "      <td>7210.622070</td>\n",
       "    </tr>\n",
       "    <tr>\n",
       "      <td>14</td>\n",
       "      <td>Pará</td>\n",
       "      <td>8156.301270</td>\n",
       "    </tr>\n",
       "    <tr>\n",
       "      <td>15</td>\n",
       "      <td>Pernambuco</td>\n",
       "      <td>6892.321289</td>\n",
       "    </tr>\n",
       "    <tr>\n",
       "      <td>16</td>\n",
       "      <td>Piauí</td>\n",
       "      <td>8068.181641</td>\n",
       "    </tr>\n",
       "    <tr>\n",
       "      <td>17</td>\n",
       "      <td>Rio de Janeiro</td>\n",
       "      <td>2262.041748</td>\n",
       "    </tr>\n",
       "    <tr>\n",
       "      <td>18</td>\n",
       "      <td>Rio Grande do Norte</td>\n",
       "      <td>7355.878906</td>\n",
       "    </tr>\n",
       "    <tr>\n",
       "      <td>19</td>\n",
       "      <td>Rio Grande do Sul</td>\n",
       "      <td>7609.479004</td>\n",
       "    </tr>\n",
       "    <tr>\n",
       "      <td>20</td>\n",
       "      <td>Rondônia</td>\n",
       "      <td>8151.310059</td>\n",
       "    </tr>\n",
       "    <tr>\n",
       "      <td>21</td>\n",
       "      <td>Roraima</td>\n",
       "      <td>8086.159180</td>\n",
       "    </tr>\n",
       "    <tr>\n",
       "      <td>22</td>\n",
       "      <td>Santa Catarina</td>\n",
       "      <td>7083.592773</td>\n",
       "    </tr>\n",
       "    <tr>\n",
       "      <td>23</td>\n",
       "      <td>Sergipe</td>\n",
       "      <td>6810.756836</td>\n",
       "    </tr>\n",
       "    <tr>\n",
       "      <td>24</td>\n",
       "      <td>São Paulo</td>\n",
       "      <td>5243.569824</td>\n",
       "    </tr>\n",
       "    <tr>\n",
       "      <td>25</td>\n",
       "      <td>Tocantins</td>\n",
       "      <td>8168.406738</td>\n",
       "    </tr>\n",
       "  </tbody>\n",
       "</table>\n",
       "</div>"
      ],
      "text/plain": [
       "                 Estado         Prev\n",
       "0                  Acre  7989.263672\n",
       "1               Alagoas  6653.808594\n",
       "2                 Amapá  8161.550293\n",
       "3              Amazonas  8185.958496\n",
       "4                 Bahia  7872.604492\n",
       "5                 Ceará  7411.015137\n",
       "6        Espírito Santo  2576.908936\n",
       "7                 Goiás  7939.937012\n",
       "8              Maranhão  7958.760254\n",
       "9           Mato Grosso  8182.816406\n",
       "10   Mato Grosso do Sul  8130.795410\n",
       "11         Minas Gerais  7705.370117\n",
       "12               Paraná  7387.028320\n",
       "13              Paraíba  7210.622070\n",
       "14                 Pará  8156.301270\n",
       "15           Pernambuco  6892.321289\n",
       "16                Piauí  8068.181641\n",
       "17       Rio de Janeiro  2262.041748\n",
       "18  Rio Grande do Norte  7355.878906\n",
       "19    Rio Grande do Sul  7609.479004\n",
       "20             Rondônia  8151.310059\n",
       "21              Roraima  8086.159180\n",
       "22       Santa Catarina  7083.592773\n",
       "23              Sergipe  6810.756836\n",
       "24            São Paulo  5243.569824\n",
       "25            Tocantins  8168.406738"
      ]
     },
     "execution_count": 120,
     "metadata": {},
     "output_type": "execute_result"
    }
   ],
   "source": [
    "prv.head(30)"
   ]
  },
  {
   "cell_type": "code",
   "execution_count": null,
   "metadata": {},
   "outputs": [],
   "source": []
  }
 ],
 "metadata": {
  "kernelspec": {
   "display_name": "Python 3",
   "language": "python",
   "name": "python3"
  },
  "language_info": {
   "codemirror_mode": {
    "name": "ipython",
    "version": 3
   },
   "file_extension": ".py",
   "mimetype": "text/x-python",
   "name": "python",
   "nbconvert_exporter": "python",
   "pygments_lexer": "ipython3",
   "version": "3.7.4"
  },
  "latex_envs": {
   "LaTeX_envs_menu_present": true,
   "autoclose": false,
   "autocomplete": true,
   "bibliofile": "biblio.bib",
   "cite_by": "apalike",
   "current_citInitial": 1,
   "eqLabelWithNumbers": true,
   "eqNumInitial": 1,
   "hotkeys": {
    "equation": "Ctrl-E",
    "itemize": "Ctrl-I"
   },
   "labels_anchors": false,
   "latex_user_defs": false,
   "report_style_numbering": false,
   "user_envs_cfg": false
  },
  "toc": {
   "base_numbering": 1,
   "nav_menu": {},
   "number_sections": true,
   "sideBar": true,
   "skip_h1_title": false,
   "title_cell": "Table of Contents",
   "title_sidebar": "Contents",
   "toc_cell": false,
   "toc_position": {},
   "toc_section_display": true,
   "toc_window_display": false
  },
  "varInspector": {
   "cols": {
    "lenName": 16,
    "lenType": 16,
    "lenVar": 40
   },
   "kernels_config": {
    "python": {
     "delete_cmd_postfix": "",
     "delete_cmd_prefix": "del ",
     "library": "var_list.py",
     "varRefreshCmd": "print(var_dic_list())"
    },
    "r": {
     "delete_cmd_postfix": ") ",
     "delete_cmd_prefix": "rm(",
     "library": "var_list.r",
     "varRefreshCmd": "cat(var_dic_list()) "
    }
   },
   "types_to_exclude": [
    "module",
    "function",
    "builtin_function_or_method",
    "instance",
    "_Feature"
   ],
   "window_display": false
  }
 },
 "nbformat": 4,
 "nbformat_minor": 2
}
